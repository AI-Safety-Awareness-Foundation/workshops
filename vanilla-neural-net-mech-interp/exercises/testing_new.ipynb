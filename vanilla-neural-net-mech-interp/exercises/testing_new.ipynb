{
  "cells": [
    {
      "cell_type": "code",
      "source": [
        "\n",
        "# Not provided by default in Google Colab\n",
        "!pip install jaxtyping\n",
        "\n",
        "# The rest downloads some binary files we'll need\n",
        "!pip install gdown\n",
        "\n",
        "# Download all the pretrained models"
      ],
      "metadata": {
        "colab": {
          "base_uri": "https://localhost:8080/"
        },
        "id": "r_PRIYLJghNS",
        "outputId": "283ed2f5-4aad-40eb-935f-56f7322720f2"
      },
      "id": "r_PRIYLJghNS",
      "execution_count": null,
      "outputs": [
        {
          "output_type": "stream",
          "name": "stdout",
          "text": [
            "Collecting jaxtyping\n",
            "  Downloading jaxtyping-0.3.2-py3-none-any.whl.metadata (7.0 kB)\n",
            "Collecting wadler-lindig>=0.1.3 (from jaxtyping)\n",
            "  Downloading wadler_lindig-0.1.7-py3-none-any.whl.metadata (17 kB)\n",
            "Downloading jaxtyping-0.3.2-py3-none-any.whl (55 kB)\n",
            "\u001b[?25l   \u001b[90m━━━━━━━━━━━━━━━━━━━━━━━━━━━━━━━━━━━━━━━━\u001b[0m \u001b[32m0.0/55.4 kB\u001b[0m \u001b[31m?\u001b[0m eta \u001b[36m-:--:--\u001b[0m\r\u001b[2K   \u001b[90m━━━━━━━━━━━━━━━━━━━━━━━━━━━━━━━━━━━━━━━━\u001b[0m \u001b[32m55.4/55.4 kB\u001b[0m \u001b[31m3.4 MB/s\u001b[0m eta \u001b[36m0:00:00\u001b[0m\n",
            "\u001b[?25hDownloading wadler_lindig-0.1.7-py3-none-any.whl (20 kB)\n",
            "Installing collected packages: wadler-lindig, jaxtyping\n",
            "Successfully installed jaxtyping-0.3.2 wadler-lindig-0.1.7\n",
            "Requirement already satisfied: gdown in /usr/local/lib/python3.11/dist-packages (5.2.0)\n",
            "Requirement already satisfied: beautifulsoup4 in /usr/local/lib/python3.11/dist-packages (from gdown) (4.13.4)\n",
            "Requirement already satisfied: filelock in /usr/local/lib/python3.11/dist-packages (from gdown) (3.18.0)\n",
            "Requirement already satisfied: requests[socks] in /usr/local/lib/python3.11/dist-packages (from gdown) (2.32.3)\n",
            "Requirement already satisfied: tqdm in /usr/local/lib/python3.11/dist-packages (from gdown) (4.67.1)\n",
            "Requirement already satisfied: soupsieve>1.2 in /usr/local/lib/python3.11/dist-packages (from beautifulsoup4->gdown) (2.7)\n",
            "Requirement already satisfied: typing-extensions>=4.0.0 in /usr/local/lib/python3.11/dist-packages (from beautifulsoup4->gdown) (4.14.0)\n",
            "Requirement already satisfied: charset-normalizer<4,>=2 in /usr/local/lib/python3.11/dist-packages (from requests[socks]->gdown) (3.4.2)\n",
            "Requirement already satisfied: idna<4,>=2.5 in /usr/local/lib/python3.11/dist-packages (from requests[socks]->gdown) (3.10)\n",
            "Requirement already satisfied: urllib3<3,>=1.21.1 in /usr/local/lib/python3.11/dist-packages (from requests[socks]->gdown) (2.4.0)\n",
            "Requirement already satisfied: certifi>=2017.4.17 in /usr/local/lib/python3.11/dist-packages (from requests[socks]->gdown) (2025.6.15)\n",
            "Requirement already satisfied: PySocks!=1.5.7,>=1.5.6 in /usr/local/lib/python3.11/dist-packages (from requests[socks]->gdown) (1.7.1)\n"
          ]
        }
      ]
    },
    {
      "cell_type": "code",
      "source": [
        "!gdown --id 1F2Z8ziHPaXd_GT_fYe974ySiQVhW0yz0\n",
        "#!gdown --id 1gGE9MtYvQwCevY9qx-3BEYyoIhDOOBBh\n",
        "#!gdown --id 1mLEVHleRHiGLHKvu06LE0Oq2Mm6b2lCg\n",
        "#!gdown --id 1KTZ9m4qmEmUIr-FZMSeVUkd4H8LSB_4b\n",
        "#!gdown --id 1-Q16KxTkfg5hktOAE-OPgWglgGaaaHFd\n",
        "#!gdown --id 1RFwpFgpPIOONABfXiHGsMtJdUF1gd10S\n",
        "#!gdown --id 15BUINas3RQcUVml3QQvoOTVkZjd7IPFS\n",
        "#!gdown --id 1ASEwxJHndnjFiu2G9tdmn3B5OJkvRQb7\n",
        "#!gdown --id 1AggdX5mQ9o1QAy9P8_ZpckC8qRDTwPm1\n",
        "#!gdown --id 1nMjFaMMtijoLidaJSMQoYGnQld5TKp7Q\n",
        "#!gdown --id 19H7Y50yQsUBj9dWzHWOU8VJJ6zU4cQhA\n",
        "#!gdown --id 1A5O3OatMM0Lj2m1655Nx1NSwoervV0mS\n",
        "#!gdown --id 1rKFm7BY8eqQitHYDTrKHzWoFDE_e7fp0\n",
        "#!gdown --id 1vNM6pD5gc4oOzumGtURp6ASw7nqtwinz\n",
        "!gdown --id 1_1GFcsjIuWRUcgPU9rMEY5g66K7eX93M"
      ],
      "metadata": {
        "colab": {
          "base_uri": "https://localhost:8080/"
        },
        "id": "_1Xsg8EQgh7Z",
        "outputId": "1cb55151-7091-43a6-dfdc-14e39d9a9669"
      },
      "id": "_1Xsg8EQgh7Z",
      "execution_count": null,
      "outputs": [
        {
          "output_type": "stream",
          "name": "stdout",
          "text": [
            "/usr/local/lib/python3.11/dist-packages/gdown/__main__.py:140: FutureWarning: Option `--id` was deprecated in version 4.3.1 and will be removed in 5.0. You don't need to pass it anymore to use a file ID.\n",
            "  warnings.warn(\n",
            "Downloading...\n",
            "From: https://drive.google.com/uc?id=1F2Z8ziHPaXd_GT_fYe974ySiQVhW0yz0\n",
            "To: /content/mnist_model_hidden_layer_8\n",
            "100% 27.8k/27.8k [00:00<00:00, 58.6MB/s]\n",
            "/usr/local/lib/python3.11/dist-packages/gdown/__main__.py:140: FutureWarning: Option `--id` was deprecated in version 4.3.1 and will be removed in 5.0. You don't need to pass it anymore to use a file ID.\n",
            "  warnings.warn(\n",
            "Downloading...\n",
            "From (original): https://drive.google.com/uc?id=1_1GFcsjIuWRUcgPU9rMEY5g66K7eX93M\n",
            "From (redirected): https://drive.google.com/uc?id=1_1GFcsjIuWRUcgPU9rMEY5g66K7eX93M&confirm=t&uuid=e2e4a44c-e95c-4a2f-959b-4743d03d82a2\n",
            "To: /content/mnist_model_hidden_layer_131072\n",
            "100% 417M/417M [00:06<00:00, 65.6MB/s]\n"
          ]
        }
      ]
    },
    {
      "cell_type": "code",
      "execution_count": null,
      "id": "ffbeceb0",
      "metadata": {
        "lines_to_next_cell": 1,
        "id": "ffbeceb0"
      },
      "outputs": [],
      "source": [
        "\n",
        "import torch\n",
        "import torch.nn as nn\n",
        "import torch.optim as optim\n",
        "from torchvision import datasets, transforms\n",
        "import numpy as np\n",
        "import matplotlib.pyplot as plt\n",
        "import einops"
      ]
    },
    {
      "cell_type": "code",
      "execution_count": null,
      "id": "f8b7456b",
      "metadata": {
        "lines_to_next_cell": 1,
        "id": "f8b7456b"
      },
      "outputs": [],
      "source": [
        "\n",
        "# Some nice preliminary functions for testing.\n",
        "\n",
        "def assert_with_expect(expected, actual):\n",
        "    assert expected == actual, f\"Expected: {expected} Actual: {actual}\"\n",
        "\n",
        "\n",
        "def assert_list_of_floats_within_epsilon(\n",
        "    expected: list[float],\n",
        "    actual: list[float],\n",
        "    eps=0.0001,\n",
        "):\n",
        "    if len(expected) != len(actual):\n",
        "        raise AssertionError(f\"Expected: {expected} Actual: {actual}\")\n",
        "    is_within_eps = True\n",
        "    for e, a in zip(expected, actual):\n",
        "        is_within_eps = is_within_eps and abs(e - a) < eps\n",
        "    if not is_within_eps:\n",
        "        raise AssertionError(f\"Expected: {expected} Actual: {actual}\")\n",
        "\n",
        "\n",
        "def assert_tensors_within_epsilon(\n",
        "    expected: torch.Tensor,\n",
        "    actual: torch.Tensor,\n",
        "    eps=0.001,\n",
        "):\n",
        "    if expected.shape != actual.shape:\n",
        "        raise AssertionError(f\"Shapes of tensors do not match! Expected: {expected.shape} Acutal: {actual.shape}\")\n",
        "    differences_within_epsilon = abs(expected - actual) < eps\n",
        "    if not differences_within_epsilon.all():\n",
        "        raise AssertionError(f\"Values of tensors do not match! Expected: {expected} Actual: {actual}\")"
      ]
    },
    {
      "cell_type": "code",
      "execution_count": null,
      "id": "053f5ed4",
      "metadata": {
        "lines_to_next_cell": 1,
        "id": "053f5ed4"
      },
      "outputs": [],
      "source": [
        "\n",
        "# None of this is code that you will need to write, but you should read this\n",
        "# over to understand the structure of what kind of nets we'll be training.\n",
        "#\n",
        "# Note that we only train with 10,000 images out of the 60,000 image dataset!\n",
        "# Originally this was because I was hoping to demonstrate some interesting\n",
        "# double descent phenomena, but unfortunately I ran out of time to do that :(.\n",
        "# Nonetheless, as we'll see, 10,000 images in the train set is actually enough\n",
        "# to get to a very well trained neural net!\n",
        "\n",
        "# hyper-params\n",
        "BATCH_SIZE = 512\n",
        "TRAIN_SET_SIZE = 10000\n",
        "HIDDEN_DIM = 256\n",
        "EPOCHS = 5000\n",
        "LR = 1e-3\n",
        "DEVICE = torch.device(\"cuda\" if torch.cuda.is_available() else \"cpu\")\n",
        "# If you set this to True then this will train all the models from scratch,\n",
        "# otherwise it will look for pre-saved weights and load those instead\n",
        "TRAIN_FROM_SCRATCH = False\n",
        "# When training, should we load the entire image set into GPU memory\n",
        "LOAD_EVERYTHING_INTO_GPU_MEMORY = True\n",
        "\n",
        "# simple with 3 layers\n",
        "class SimpleNN(nn.Module):\n",
        "    def __init__(self, hidden_dim):\n",
        "        super(SimpleNN, self).__init__()\n",
        "        self.hidden_dim = hidden_dim\n",
        "        self.flatten = nn.Flatten()\n",
        "        self.fc1 = nn.Linear(784, hidden_dim)\n",
        "        self.fc2 = nn.Linear(hidden_dim, 10)\n",
        "        self.relu = nn.ReLU()\n",
        "        self.softmax = nn.Softmax(dim=-1)\n",
        "\n",
        "    def forward(self, x):\n",
        "        x = self.flatten(x)\n",
        "        x1 = self.relu(self.fc1(x))\n",
        "        x2 = self.fc2(x1)\n",
        "        return self.softmax(x2)"
      ]
    },
    {
      "cell_type": "code",
      "execution_count": null,
      "id": "63412dcb",
      "metadata": {
        "lines_to_next_cell": 2,
        "id": "63412dcb"
      },
      "outputs": [],
      "source": [
        "\n",
        "# This is useful for creating reproducible tests for whether you wrote the code\n",
        "# correctly!\n",
        "EXAMPLE_SIMPLE_NN_HIDDEN_DIM = 6\n",
        "example_simple_nn = SimpleNN(EXAMPLE_SIMPLE_NN_HIDDEN_DIM)\n",
        "\n",
        "# We'll hard-code all of these values so that they are reproducible for tests\n",
        "with torch.no_grad():\n",
        "  fc1_weight = einops.rearrange(torch.arange(784 * EXAMPLE_SIMPLE_NN_HIDDEN_DIM), \"(x y) -> x y\", x=EXAMPLE_SIMPLE_NN_HIDDEN_DIM, y=784)\n",
        "  fc1_bias = torch.arange(EXAMPLE_SIMPLE_NN_HIDDEN_DIM)\n",
        "  fc2_weight = einops.rearrange(torch.arange(10 * EXAMPLE_SIMPLE_NN_HIDDEN_DIM), \"(x y) -> x y\", x=10, y=EXAMPLE_SIMPLE_NN_HIDDEN_DIM)\n",
        "  fc2_bias = torch.arange(10)\n",
        "  example_simple_nn.fc1.weight = torch.nn.Parameter(fc1_weight.to(torch.float))\n",
        "  example_simple_nn.fc1.bias = torch.nn.Parameter(fc1_bias.to(torch.float))\n",
        "  example_simple_nn.fc2.weight = torch.nn.Parameter(fc2_weight.to(torch.float))\n",
        "  example_simple_nn.fc2.bias = torch.nn.Parameter(fc2_bias.to(torch.float))"
      ]
    },
    {
      "cell_type": "code",
      "execution_count": null,
      "id": "9f5e841f",
      "metadata": {
        "id": "9f5e841f",
        "colab": {
          "base_uri": "https://localhost:8080/"
        },
        "outputId": "08d19c3d-ae5e-4328-f25b-db3dfa122a6c"
      },
      "outputs": [
        {
          "output_type": "stream",
          "name": "stderr",
          "text": [
            "100%|██████████| 9.91M/9.91M [00:00<00:00, 12.6MB/s]\n",
            "100%|██████████| 28.9k/28.9k [00:00<00:00, 339kB/s]\n",
            "100%|██████████| 1.65M/1.65M [00:00<00:00, 3.12MB/s]\n",
            "100%|██████████| 4.54k/4.54k [00:00<00:00, 6.85MB/s]\n"
          ]
        }
      ],
      "source": [
        "\n",
        "\n",
        "# MNIST dataset\n",
        "transform = transforms.Compose([transforms.ToTensor()])\n",
        "train_dataset = datasets.MNIST('./data', train=True, download=True, transform=transform)\n",
        "test_dataset = datasets.MNIST('./data', train=False, transform=transform)\n",
        "\n",
        "train_loader = torch.utils.data.DataLoader(train_dataset, batch_size=BATCH_SIZE, shuffle=True)\n",
        "test_loader = torch.utils.data.DataLoader(test_dataset, batch_size=10000)\n",
        "\n",
        "hidden_dims = [8, 131072]#[8, 16, 32, 64, 128, 256, 512, 1024, 2048, 4096, 8192, 16384, 32768, 65536, 131072 262144]\n",
        "models = [SimpleNN(hidden_dim) for hidden_dim in hidden_dims]"
      ]
    },
    {
      "cell_type": "code",
      "execution_count": null,
      "id": "6237d683",
      "metadata": {
        "id": "6237d683"
      },
      "outputs": [],
      "source": [
        "\n",
        "# This is code that you can read if you'd like, but can also just run. It's\n",
        "# mainly useful if you wanted to train these models yourself.\n",
        "\n",
        "if LOAD_EVERYTHING_INTO_GPU_MEMORY:\n",
        "  # We'll load into memory to make this faster\n",
        "  train_loader_with_entire_dataset = torch.utils.data.DataLoader(train_dataset, batch_size=train_dataset.data.shape[0])\n",
        "  for batch_idx, (data, target) in enumerate(train_loader_with_entire_dataset):\n",
        "      data = data[:TRAIN_SET_SIZE].to(DEVICE)\n",
        "      target = torch.nn.functional.one_hot(target[:TRAIN_SET_SIZE], num_classes=10).to(torch.float)\n",
        "      target = target.to(DEVICE)\n",
        "\n",
        "  train_dataset = torch.utils.data.TensorDataset(data, target)\n",
        "  train_loader = torch.utils.data.DataLoader(train_dataset, batch_size=BATCH_SIZE, shuffle=True)\n",
        "\n",
        "  test_loader_with_entire_dataset = torch.utils.data.DataLoader(test_dataset, batch_size=test_dataset.data.shape[0])\n",
        "  for test_data, test_target in test_loader_with_entire_dataset:\n",
        "      test_data = test_data.to(DEVICE)\n",
        "      test_target = torch.nn.functional.one_hot(test_target, num_classes=10).to(torch.float)\n",
        "      test_target = test_target.to(DEVICE)\n",
        "\n",
        "\n",
        "  test_dataset = torch.utils.data.TensorDataset(test_data, test_target)\n",
        "  test_loader = torch.utils.data.DataLoader(test_dataset, batch_size=10000)\n",
        "\n",
        "  # PyTorch DataLoader seems absurdly slow for MNIST dataset sizes\n",
        "  # It seems to be calling get_item one by one instead of doing batch operations\n",
        "  # Let's just do a custom list instead\n",
        "  def generate_simple_loader(dataset, batch_size):\n",
        "    permuted_indices = torch.randperm(dataset.tensors[0].shape[0])\n",
        "    permuted_data = dataset.tensors[0][permuted_indices]\n",
        "    permuted_target = dataset.tensors[1][permuted_indices]\n",
        "    simple_loader = []\n",
        "    for i in range(0, permuted_data.shape[0], batch_size):\n",
        "      simple_loader.append((permuted_data[i:i+batch_size], permuted_target[i:i+batch_size]))\n",
        "    return simple_loader\n",
        "\n",
        "  simple_train_loader = generate_simple_loader(train_dataset, BATCH_SIZE)\n",
        "  simple_test_loader = generate_simple_loader(test_dataset, 10000)\n",
        "\n",
        "  train_loader = simple_train_loader\n",
        "  test_loader = simple_test_loader"
      ]
    },
    {
      "cell_type": "code",
      "execution_count": null,
      "id": "cbea0bfa",
      "metadata": {
        "colab": {
          "base_uri": "https://localhost:8080/",
          "height": 970
        },
        "id": "cbea0bfa",
        "outputId": "6a9e3412-3c28-49e9-b282-2ed79ebf2480"
      },
      "outputs": [
        {
          "output_type": "stream",
          "name": "stdout",
          "text": [
            "Processing hidden_dim 8\n",
            "Processing hidden_dim 131072\n"
          ]
        },
        {
          "output_type": "display_data",
          "data": {
            "text/plain": [
              "<Figure size 640x480 with 1 Axes>"
            ],
            "image/png": "[encoded data removed]"
          },
          "metadata": {}
        },
        {
          "output_type": "display_data",
          "data": {
            "text/plain": [
              "<Figure size 640x480 with 1 Axes>"
            ],
            "image/png": "[encoded data removed]"
          },
          "metadata": {}
        }
      ],
      "source": [
        "\n",
        "# This is the actual training loop! Even though this is not code you will need\n",
        "# to write, you should definitely read this! It's good to understand exactly how\n",
        "# our model is being trained!\n",
        "#\n",
        "# You might notice that we're using MSELoss instead of cross-entropy loss. It\n",
        "# turns out that this is enough to get quite reasonable models and considerably\n",
        "# simplifies some of the presentataion to people who have only an introductory\n",
        "# understanding of neural nets.\n",
        "\n",
        "train_losses = []\n",
        "test_losses = []\n",
        "train_accuracies = []\n",
        "test_accuracies = []\n",
        "for model in models:\n",
        "    print(f\"Processing hidden_dim {model.hidden_dim}\")\n",
        "    criterion = nn.MSELoss()\n",
        "    optimizer = optim.AdamW(model.parameters(), lr=LR)\n",
        "\n",
        "    # Training\n",
        "    train_loss = 0\n",
        "    train_accuracy = 0\n",
        "    train_samples = 0\n",
        "    if TRAIN_FROM_SCRATCH:\n",
        "      model = model.to(DEVICE)\n",
        "      for epoch in range(EPOCHS):\n",
        "          if LOAD_EVERYTHING_INTO_GPU_MEMORY:\n",
        "              # Re-shuffle the train loader\n",
        "              train_loader = generate_simple_loader(train_dataset, BATCH_SIZE)\n",
        "          for batch_idx, (data, target) in enumerate(train_loader):\n",
        "              optimizer.zero_grad()\n",
        "              output = model(data)\n",
        "              loss = criterion(output, target)\n",
        "              loss.backward()\n",
        "              optimizer.step()\n",
        "    else:\n",
        "      model.load_state_dict(torch.load(f\"mnist_model_hidden_layer_{model.hidden_dim}\"))\n",
        "      model = model.to(DEVICE)\n",
        "    with torch.no_grad():\n",
        "      for data, target in train_loader:\n",
        "          output = model(data)\n",
        "          train_loss += criterion(output, target).item()\n",
        "          train_accuracy += (output.argmax(dim=1) == target.argmax(dim=1)).sum().item()\n",
        "          train_samples += data.shape[0]\n",
        "    train_losses.append(train_loss / len(train_loader))\n",
        "    train_accuracies.append(train_accuracy / train_samples)\n",
        "\n",
        "    # Testing\n",
        "    test_loss = 0\n",
        "    test_accuracy = 0\n",
        "    test_samples = 0\n",
        "    with torch.no_grad():\n",
        "        for test_data, test_target in test_loader:\n",
        "            output = model(test_data)\n",
        "            loss = criterion(output, test_target)\n",
        "            test_loss += loss.item()\n",
        "            test_accuracy += (output.argmax(dim=1) == test_target.argmax(dim=1)).sum().item()\n",
        "            test_samples += test_data.shape[0]\n",
        "    test_losses.append(test_loss / len(test_loader))\n",
        "    test_accuracies.append(test_accuracy / test_samples)\n",
        "\n",
        "plt.plot(hidden_dims, train_losses, label='Train Loss')\n",
        "plt.plot(hidden_dims, test_losses, label='Test Loss')\n",
        "plt.xlabel('Hidden Dimension')\n",
        "plt.ylabel('Loss')\n",
        "plt.title('Loss vs Hidden Dim')\n",
        "plt.xscale(\"log\")\n",
        "plt.legend()\n",
        "plt.show()\n",
        "\n",
        "plt.plot(hidden_dims, train_accuracies, label='Train Accuracy')\n",
        "plt.plot(hidden_dims, test_accuracies, label='Test Accuracy')\n",
        "plt.xlabel('Hidden Dimension')\n",
        "plt.ylabel('Accuracy')\n",
        "plt.title('Accuracy vs Hidden Dim')\n",
        "plt.xscale(\"log\")\n",
        "plt.legend()\n",
        "plt.show()"
      ]
    },
    {
      "cell_type": "code",
      "execution_count": null,
      "id": "fdd876b1",
      "metadata": {
        "id": "fdd876b1"
      },
      "outputs": [],
      "source": [
        "\n",
        "if TRAIN_FROM_SCRATCH:\n",
        "  for dim, model in zip(hidden_dims, models):\n",
        "    # Save on CPU because this makes it easier to load for more devices\n",
        "    model = model.to(\"cpu\")\n",
        "    torch.save(model.state_dict(), f\"mnist_model_hidden_layer_{dim}\")"
      ]
    },
    {
      "cell_type": "code",
      "execution_count": null,
      "id": "6bf9d687",
      "metadata": {
        "lines_to_next_cell": 1,
        "id": "6bf9d687"
      },
      "outputs": [],
      "source": [
        "\n",
        "# Go ahead and run this just to make sure\n",
        "\n",
        "for model in models:\n",
        "  model = model.to(DEVICE)"
      ]
    },
    {
      "cell_type": "code",
      "execution_count": null,
      "id": "0b49ddea",
      "metadata": {
        "lines_to_next_cell": 1,
        "id": "0b49ddea"
      },
      "outputs": [],
      "source": [
        "\n",
        "# Fill this out! This should calculate the accuracy of the model for each digit.\n",
        "\n",
        "def accuracy_by_digit(model, loader):\n",
        "  # TODO: Implement this!\n",
        "  #raise NotImplementedError()\n",
        "  correct = [0] * 10\n",
        "  total = [0] * 10\n",
        "  with torch.no_grad():\n",
        "    for data, target_probs in loader:\n",
        "      output_probs = model(data)\n",
        "      output = output_probs.argmax(dim=1)\n",
        "      target = target_probs.argmax(dim=1)\n",
        "      for i in range(target.shape[0]):\n",
        "        total[target[i]] += 1\n",
        "        if output[i] == target[i]:\n",
        "          correct[target[i]] += 1\n",
        "  return [correct[i] / total[i] for i in range(10)]"
      ]
    },
    {
      "cell_type": "code",
      "execution_count": null,
      "id": "b68b57b3",
      "metadata": {
        "id": "b68b57b3"
      },
      "outputs": [],
      "source": [
        "\n",
        "# Test it out for our 131072 hidden units model\n",
        "accuracy_by_digit(models[14], test_loader)"
      ]
    },
    {
      "cell_type": "code",
      "execution_count": null,
      "id": "3576385e",
      "metadata": {
        "lines_to_next_cell": 1,
        "id": "3576385e"
      },
      "outputs": [],
      "source": [
        "\n",
        "# Test it out for our 8 hidden units model\n",
        "accuracy_by_digit(models[0], test_loader)"
      ]
    },
    {
      "cell_type": "code",
      "execution_count": null,
      "id": "54705f34",
      "metadata": {
        "lines_to_next_cell": 1,
        "id": "54705f34"
      },
      "outputs": [],
      "source": [
        "\n",
        "# Okay now we want to reframe our model using the key-value visualization\n",
        "# So it's time to implement the functions that will pull out the ith key and ith\n",
        "# value in our neural net.\n",
        "\n",
        "def pull_out_ith_key(model, i):\n",
        "  # TODO: Implement this (it should be just one line)\n",
        "  # raise NotImplementedError()\n",
        "  return model.fc1.weight[i]\n",
        "\n",
        "def pull_out_ith_value(model, i):\n",
        "  # TODO: Implement this (again should just be one line)\n",
        "  # raise NotImplementedError()\n",
        "  return model.fc2.weight[:, i]\n",
        "\n",
        "# Test code to make sure your code works!\n",
        "assert_tensors_within_epsilon(expected=torch.arange(1568, 2352), actual=pull_out_ith_key(example_simple_nn, 2))\n",
        "assert_tensors_within_epsilon(\n",
        "   expected=torch.tensor([ 2.,  8., 14., 20., 26., 32., 38., 44., 50., 56.]),\n",
        "   actual=pull_out_ith_value(example_simple_nn, 2)\n",
        ")"
      ]
    },
    {
      "cell_type": "code",
      "execution_count": null,
      "id": "f9894749",
      "metadata": {
        "lines_to_next_cell": 1,
        "id": "f9894749"
      },
      "outputs": [],
      "source": [
        "\n",
        "# This is all a lot of visualization code which you can either read or just run.\n",
        "\n",
        "#plots the image\n",
        "def visualize_image(image):\n",
        "  plt.imshow(image.detach().numpy(), cmap='viridis')\n",
        "  plt.axis('off')\n",
        "  plt.show()\n",
        "\n",
        "#plots the heatmap of a key\n",
        "def visualize_ith_key(model, i):\n",
        "  key = pull_out_ith_key(model, i).reshape(28, 28)\n",
        "  key_bias = model.fc1.bias[i]\n",
        "  plt.imshow(key.detach().numpy(), cmap='viridis')\n",
        "  plt.axis('off')\n",
        "  plt.title(f'Key {i} (bias: {key_bias})')\n",
        "  plt.show()\n",
        "\n",
        "#plots a heatmap of a value\n",
        "def visualize_ith_value(model, i):\n",
        "  value = pull_out_ith_value(model, i).unsqueeze(0)\n",
        "  plt.imshow(value.detach().numpy(), cmap='viridis')\n",
        "  for x in range(value.shape[1]):\n",
        "    plt.text(x, 0, f'{value[0, x].item():.3f}', ha='center', va='center', color='red', fontsize=6)\n",
        "  plt.axis('off')\n",
        "  plt.title(f'Value {i}')\n",
        "  plt.show()\n",
        "\n",
        "#visualizes the global value bias for each digit, or the baseline before any interactions\n",
        "def visualize_value_bias(model):\n",
        "  value = model.fc2.bias.unsqueeze(0)\n",
        "  plt.imshow(value.detach().numpy(), cmap='viridis')\n",
        "  for x in range(value.shape[1]):\n",
        "    plt.text(x, 0, f'{value[0, x].item():.3f}', ha='center', va='center', color='red', fontsize=6)\n",
        "  plt.axis('off')\n",
        "  plt.title(f'Global value bias')\n",
        "  plt.show()\n",
        "\n",
        "#combines the above 3 visualization functions\n",
        "def visualize_ith_key_value(model, i):\n",
        "  visualize_ith_key(model, i)\n",
        "  visualize_ith_value(model, i)\n",
        "  visualize_value_bias(model)\n",
        "\n",
        "#Shows most influential interaction areas between an image and key\n",
        "def visualize_element_wise_multi_of_key_image(model, i, image):\n",
        "  key = model.fc1.weight[i].reshape(28, 28)\n",
        "  element_wise_multi = key * image\n",
        "  plt.imshow(element_wise_multi.detach().numpy(), cmap='viridis')\n",
        "  plt.axis('off')\n",
        "  plt.title(f'Element-wise multiplication of key {i} with image')\n",
        "  plt.show()\n",
        "  print(f\"Dot-Product: {torch.sum(element_wise_multi)}\")\n",
        "\n",
        "#combines all of the above visualization functions\n",
        "def visualize_ith_key_value_on_image(model, i, image):\n",
        "  visualize_ith_key_value(model, i)\n",
        "  visualize_element_wise_multi_of_key_image(model, i, image)\n"
      ]
    },
    {
      "cell_type": "code",
      "execution_count": null,
      "id": "dd7b8800",
      "metadata": {
        "id": "dd7b8800"
      },
      "outputs": [],
      "source": [
        "\n",
        "# Now that we have a way of pulling out keys and values, we can put that all\n",
        "# together to visualize a particular key-value pair!\n",
        "#\n",
        "# You might notice that this particular key (if you're using the pre-trained\n",
        "# model weights) looks visually kind of like a nine, and lo and behold, when you\n",
        "# go to the value vector that is getting written out, the highest activation is\n",
        "# a 9!\n",
        "\n",
        "visualize_ith_key_value(models[14].cpu(), 246)\n",
        "\n",
        "# Go ahead and play around with other key value pairs and see if you can make\n",
        "# sense of them."
      ]
    },
    {
      "cell_type": "code",
      "execution_count": null,
      "id": "32e950d5",
      "metadata": {
        "lines_to_next_cell": 1,
        "id": "32e950d5"
      },
      "outputs": [],
      "source": [
        "\n",
        "# It's often useful to find which value vectors we have that tend to write\n",
        "# strongly for certain kinds of digits.\n",
        "#\n",
        "# Here is one very rough stab at the problem that just looks for any value\n",
        "# vector that has a value over a certain threshold for that digit. We'll quickly\n",
        "# show a slightly less rough stab in just a moment.\n",
        "\n",
        "def find_values_for_digit_over_threshold(model, digit, threshold=0.3):\n",
        "  return torch.tensor([idx for idx in range(model.fc2.weight.shape[1]) if model.fc2.weight[digit, idx] > threshold])"
      ]
    },
    {
      "cell_type": "code",
      "execution_count": null,
      "id": "7ddd6a9a",
      "metadata": {
        "id": "7ddd6a9a"
      },
      "outputs": [],
      "source": [
        "\n",
        "# This finds those values which have an entry of over 0.4 in the 0 digit place.\n",
        "\n",
        "find_values_for_digit_over_threshold(models[14], 0, threshold=0.4)\n",
        "\n",
        "# Feel free to feed this into visualize_ith_key_value to see what that key_value pair looks like!"
      ]
    },
    {
      "cell_type": "code",
      "execution_count": null,
      "id": "70c3292e",
      "metadata": {
        "lines_to_next_cell": 1,
        "id": "70c3292e"
      },
      "outputs": [],
      "source": [
        "\n",
        "# Let's see a little bit more of how this key-value reframing of a vanilla\n",
        "# neural net can help us understand things better.\n",
        "#\n",
        "# For example, we might hypothesize that the key which corresponds to a value vector\n",
        "# that has a large positive value at 0 and small magnitude values for all other digits\n",
        "# should look like a circle.\n",
        "#\n",
        "# Note that this is not obviously true! It might be the case that a model pieces\n",
        "# together a zero exclusively by piecing together different arcs of a circle\n",
        "# with no key actually being a full circle.\n",
        "#\n",
        "# But we can go ahead and test that right now. First we'll need to build a\n",
        "# function that can find those key-value pairs which have values concentrated\n",
        "# mostly on one digit and not as much on the others.\n",
        "#\n",
        "# This can be a bit finicky and hard to specify, so we've provided a\n",
        "# rough-and-tumble version for you to use right here.\n",
        "\n",
        "def find_values_for_sole_digit(model, digit, digit_threshold=0.16, other_digits_threshold=0.07):\n",
        "  result = []\n",
        "  for idx in range(model.fc2.weight.shape[1]):\n",
        "    other_digits = torch.abs(model.fc2.weight[:, idx])\n",
        "    other_digits[digit] = 0\n",
        "    max_of_other_digits = torch.max(other_digits)\n",
        "    if max_of_other_digits.item() > other_digits_threshold:\n",
        "      continue\n",
        "    elif model.fc2.weight[digit, idx] > digit_threshold:\n",
        "      result.append(idx)\n",
        "  return torch.tensor(result)"
      ]
    },
    {
      "cell_type": "code",
      "execution_count": null,
      "id": "92bc2876",
      "metadata": {
        "id": "92bc2876"
      },
      "outputs": [],
      "source": [
        "\n",
        "# So this for example finds those key-value pairs which tend to write very\n",
        "# strongly to the digit 2 happening, but very little for anything else.\n",
        "find_values_for_sole_digit(models[14], 2)"
      ]
    },
    {
      "cell_type": "code",
      "execution_count": null,
      "id": "3685d0dd",
      "metadata": {
        "lines_to_next_cell": 1,
        "id": "3685d0dd"
      },
      "outputs": [],
      "source": [
        "\n",
        "# Let's now find those key-value pairs which tend to write strongly to the digit\n",
        "# 0, but very little for everything else, and just analyze the first three of\n",
        "# those key-value pairs. This will let us validate our hypothesis of whether we\n",
        "# have keys that are looking for circles, or just fragmentary arcs of circles.\n",
        "\n",
        "digit_to_analyze = 0\n",
        "\n",
        "indices_that_fire_mainly_on_select_digit = find_values_for_sole_digit(models[14], digit_to_analyze)\n",
        "for idx in indices_that_fire_mainly_on_select_digit[:3]:\n",
        "  visualize_ith_key_value(models[14].to(\"cpu\"), idx)"
      ]
    },
    {
      "cell_type": "code",
      "execution_count": null,
      "id": "e206df90",
      "metadata": {
        "id": "e206df90"
      },
      "outputs": [],
      "source": [
        "\n",
        "# TODO: Look at the results and what they tell you. Talk with your partner or\n",
        "# group about what you're seeing. Once you've done that, delete this\n",
        "# NotImplementedError and move on.\n",
        "# raise NotImplementedError()"
      ]
    },
    {
      "cell_type": "code",
      "execution_count": null,
      "id": "628141be",
      "metadata": {
        "lines_to_next_cell": 1,
        "id": "628141be"
      },
      "outputs": [],
      "source": [
        "\n",
        "# This function will give us the internal outputs of all the keys and values for\n",
        "# a given image. In other words this will return the dot product of each key\n",
        "# with the image (combined with the bias per key) and will also return the\n",
        "# scaled value vector.\n",
        "#\n",
        "# If this is confusing to you, it may be helpful to go back to the slides and\n",
        "# look a little bit more at the break-down of how exactly we calculate a neural\n",
        "# net's output using the key-value paradigm.\n",
        "\n",
        "def compute_kv_outputs_for_image(model, input_image):\n",
        "  flattened_img = model.flatten(input_image)\n",
        "  output_after_keys = model.fc1(flattened_img)\n",
        "  output_after_relu = model.relu(output_after_keys)\n",
        "  # We ultimately want to multiple all the components of each value vector by\n",
        "  # the same value, so we need to do a repeat first and then we can do a\n",
        "  # standard element-wise tensor multiplication\n",
        "  #\n",
        "  # But this is just the same as broadcasting, so we just use that instead\n",
        "  output_after_values = model.fc2.weight * output_after_relu\n",
        "  return output_after_keys, output_after_values"
      ]
    },
    {
      "cell_type": "code",
      "execution_count": null,
      "id": "20ba20cc",
      "metadata": {
        "lines_to_next_cell": 1,
        "id": "20ba20cc",
        "colab": {
          "base_uri": "https://localhost:8080/"
        },
        "outputId": "870b3a93-5966-44de-e73c-999d7193e2a6"
      },
      "outputs": [
        {
          "output_type": "stream",
          "name": "stdout",
          "text": [
            "indices=tensor([1, 3])\n"
          ]
        }
      ],
      "source": [
        "\n",
        "def top_indices_by_tail_sum(tensor: torch.Tensor, threshold: float) -> torch.Tensor:\n",
        "    \"\"\"\n",
        "    Given a 1D tensor and a threshold, returns the indices of the largest values\n",
        "    such that the sum of all smaller values (i.e. the “tail” after that point)\n",
        "    is <= threshold.\n",
        "    \"\"\"\n",
        "    assert tensor.dim() == 1, \"Only works on 1D tensors\"\n",
        "    # Sort descending\n",
        "    sorted_vals, sorted_idx = tensor.sort(descending=True)\n",
        "    # Compute cumulative sum of the sorted values\n",
        "    cumsum = sorted_vals.cumsum(dim=0)\n",
        "    total = cumsum[-1]\n",
        "    # tail_sums[i] = sum(sorted_vals[i+1:])\n",
        "    tail_sums = total - cumsum\n",
        "    # find the first position where tail_sums <= threshold\n",
        "    mask = tail_sums <= threshold\n",
        "    if not mask.any():\n",
        "        # no cutoff—tail never drops below threshold, so return empty\n",
        "        return torch.empty(0, dtype=torch.long)\n",
        "    cutoff = mask.nonzero(as_tuple=False)[0].item()\n",
        "    # keep everything up to and including cutoff\n",
        "    return sorted_idx[:cutoff + 1]\n",
        "\n",
        "# Example\n",
        "x = torch.tensor([1, 4, 2, 3, 1], dtype=torch.float)\n",
        "indices = top_indices_by_tail_sum(x, threshold=4)\n",
        "print(f\"{indices=}\")  # tensor([1, 3])\n",
        "\n",
        "#returns the most influential key-value pairs for an image\n",
        "def list_top_kv_pair_idxs(model, input_image, excess_abs_weight=500):\n",
        "  _, output_after_values = compute_kv_outputs_for_image(model, input_image)\n",
        "  abs_values = einops.einsum(torch.abs(output_after_values), \"digits num_of_values -> num_of_values\")\n",
        "  indices = top_indices_by_tail_sum(abs_values, excess_abs_weight)\n",
        "  return indices\n"
      ]
    },
    {
      "cell_type": "code",
      "execution_count": null,
      "id": "faa6d477",
      "metadata": {
        "id": "faa6d477",
        "colab": {
          "base_uri": "https://localhost:8080/",
          "height": 176
        },
        "outputId": "8917d350-ec12-46b0-b281-256753ffffae"
      },
      "outputs": [
        {
          "output_type": "error",
          "ename": "IndexError",
          "evalue": "list index out of range",
          "traceback": [
            "\u001b[0;31m---------------------------------------------------------------------------\u001b[0m",
            "\u001b[0;31mIndexError\u001b[0m                                Traceback (most recent call last)",
            "\u001b[0;32m/tmp/ipython-input-20-1177624741.py\u001b[0m in \u001b[0;36m<cell line: 0>\u001b[0;34m()\u001b[0m\n\u001b[1;32m      7\u001b[0m \u001b[0;34m\u001b[0m\u001b[0m\n\u001b[1;32m      8\u001b[0m \u001b[0;31m# You should see that the two print statements print the same values\u001b[0m\u001b[0;34m\u001b[0m\u001b[0;34m\u001b[0m\u001b[0m\n\u001b[0;32m----> 9\u001b[0;31m \u001b[0msanity_check_kv_outputs\u001b[0m\u001b[0;34m(\u001b[0m\u001b[0mmodels\u001b[0m\u001b[0;34m[\u001b[0m\u001b[0;36m14\u001b[0m\u001b[0;34m]\u001b[0m\u001b[0;34m,\u001b[0m \u001b[0mtrain_dataset\u001b[0m\u001b[0;34m[\u001b[0m\u001b[0;36m0\u001b[0m\u001b[0;34m]\u001b[0m\u001b[0;34m[\u001b[0m\u001b[0;36m0\u001b[0m\u001b[0;34m]\u001b[0m\u001b[0;34m.\u001b[0m\u001b[0mcpu\u001b[0m\u001b[0;34m(\u001b[0m\u001b[0;34m)\u001b[0m\u001b[0;34m)\u001b[0m\u001b[0;34m\u001b[0m\u001b[0;34m\u001b[0m\u001b[0m\n\u001b[0m",
            "\u001b[0;31mIndexError\u001b[0m: list index out of range"
          ]
        }
      ],
      "source": [
        "\n",
        "# Let's prove to ourselves that the key-value paradigm of calculating things is equal to the normal layer-by-layer interpretation\n",
        "def sanity_check_kv_outputs(model, input_image):\n",
        "  _, output_after_values = compute_kv_outputs_for_image(model, input_image)\n",
        "  output_plus_bias = einops.einsum(output_after_values, \"digits num_of_values -> digits\") + model.fc2.bias\n",
        "  print(f\"{output_plus_bias.softmax(dim=-1)=}\")\n",
        "  print(f\"{model(input_image)=}\")\n",
        "\n",
        "# You should see that the two print statements print the same values\n",
        "sanity_check_kv_outputs(models[14], train_dataset[0][0].cpu())"
      ]
    },
    {
      "cell_type": "code",
      "execution_count": null,
      "id": "b1f41ee2",
      "metadata": {
        "id": "b1f41ee2"
      },
      "outputs": [],
      "source": [
        "\n",
        "# This will list the key-value pairs that write the value vectors with the largest magnitude.\n",
        "# This is a proxy for\n",
        "list_top_kv_pair_idxs(models[14], train_dataset[0][0].cpu(), 7000)"
      ]
    },
    {
      "cell_type": "code",
      "execution_count": null,
      "id": "7b3a5668",
      "metadata": {
        "id": "7b3a5668"
      },
      "outputs": [],
      "source": [
        "\n",
        "visualize_image(train_dataset[0][0].cpu().squeeze())"
      ]
    },
    {
      "cell_type": "code",
      "execution_count": null,
      "id": "c26de567",
      "metadata": {
        "lines_to_next_cell": 1,
        "id": "c26de567"
      },
      "outputs": [],
      "source": [
        "\n",
        "visualize_ith_key_value_on_image(models[14], 14219, train_dataset[0][0].cpu().squeeze())"
      ]
    },
    {
      "cell_type": "code",
      "execution_count": null,
      "id": "dedd5285",
      "metadata": {
        "id": "dedd5285",
        "colab": {
          "base_uri": "https://localhost:8080/",
          "height": 176
        },
        "outputId": "994f15ef-7975-4e5c-e9c3-4203f15edf1f"
      },
      "outputs": [
        {
          "output_type": "error",
          "ename": "IndexError",
          "evalue": "list index out of range",
          "traceback": [
            "\u001b[0;31m---------------------------------------------------------------------------\u001b[0m",
            "\u001b[0;31mIndexError\u001b[0m                                Traceback (most recent call last)",
            "\u001b[0;32m/tmp/ipython-input-21-2233061184.py\u001b[0m in \u001b[0;36m<cell line: 0>\u001b[0;34m()\u001b[0m\n\u001b[1;32m      8\u001b[0m   \u001b[0;32mreturn\u001b[0m \u001b[0mvar_indices\u001b[0m\u001b[0;34m\u001b[0m\u001b[0;34m\u001b[0m\u001b[0m\n\u001b[1;32m      9\u001b[0m \u001b[0;34m\u001b[0m\u001b[0m\n\u001b[0;32m---> 10\u001b[0;31m \u001b[0mtop_5_kv_pairs_by_value_variance\u001b[0m \u001b[0;34m=\u001b[0m \u001b[0msort_by_value_variance\u001b[0m\u001b[0;34m(\u001b[0m\u001b[0mmodels\u001b[0m\u001b[0;34m[\u001b[0m\u001b[0;36m14\u001b[0m\u001b[0;34m]\u001b[0m\u001b[0;34m,\u001b[0m \u001b[0mtrain_dataset\u001b[0m\u001b[0;34m[\u001b[0m\u001b[0;36m0\u001b[0m\u001b[0;34m]\u001b[0m\u001b[0;34m[\u001b[0m\u001b[0;36m0\u001b[0m\u001b[0;34m]\u001b[0m\u001b[0;34m.\u001b[0m\u001b[0mcpu\u001b[0m\u001b[0;34m(\u001b[0m\u001b[0;34m)\u001b[0m\u001b[0;34m)\u001b[0m\u001b[0;34m[\u001b[0m\u001b[0;34m:\u001b[0m\u001b[0;34m,\u001b[0m \u001b[0;34m:\u001b[0m\u001b[0;36m5\u001b[0m\u001b[0;34m]\u001b[0m\u001b[0;34m\u001b[0m\u001b[0;34m\u001b[0m\u001b[0m\n\u001b[0m",
            "\u001b[0;31mIndexError\u001b[0m: list index out of range"
          ]
        }
      ],
      "source": [
        "\n",
        "#finds the most variable key-value pairs\n",
        "def sort_by_value_variance(model, input_image):\n",
        "  _, output_after_values = compute_kv_outputs_for_image(model, input_image)\n",
        "  print(f\"{torch.var(output_after_values, dim=-1, keepdim=True).shape=}\")\n",
        "  variances = torch.var(output_after_values, dim=0, keepdim=True)\n",
        "  var_values, var_indices = torch.sort(variances, dim=-1, descending=True)\n",
        "  print(f\"{var_indices.shape=}\")\n",
        "  return var_indices\n",
        "\n",
        "top_5_kv_pairs_by_value_variance = sort_by_value_variance(models[14], train_dataset[0][0].cpu())[:, :5]"
      ]
    },
    {
      "cell_type": "code",
      "execution_count": null,
      "id": "e719f395",
      "metadata": {
        "lines_to_next_cell": 1,
        "id": "e719f395"
      },
      "outputs": [],
      "source": [
        "\n",
        "visualize_ith_key_value_on_image(models[14], 22650, train_dataset[0][0].cpu().squeeze())"
      ]
    },
    {
      "cell_type": "code",
      "execution_count": null,
      "id": "04e0921c",
      "metadata": {
        "id": "04e0921c",
        "colab": {
          "base_uri": "https://localhost:8080/",
          "height": 176
        },
        "outputId": "ac92a070-85dc-4942-ecb5-ff237b5efe73"
      },
      "outputs": [
        {
          "output_type": "error",
          "ename": "IndexError",
          "evalue": "list index out of range",
          "traceback": [
            "\u001b[0;31m---------------------------------------------------------------------------\u001b[0m",
            "\u001b[0;31mIndexError\u001b[0m                                Traceback (most recent call last)",
            "\u001b[0;32m/tmp/ipython-input-22-3299133976.py\u001b[0m in \u001b[0;36m<cell line: 0>\u001b[0;34m()\u001b[0m\n\u001b[1;32m     12\u001b[0m   \u001b[0mprint\u001b[0m\u001b[0;34m(\u001b[0m\u001b[0;34mf\"{large_total_sum_and_nine_elems_close_to_0=}\"\u001b[0m\u001b[0;34m)\u001b[0m\u001b[0;34m\u001b[0m\u001b[0;34m\u001b[0m\u001b[0m\n\u001b[1;32m     13\u001b[0m \u001b[0;34m\u001b[0m\u001b[0m\n\u001b[0;32m---> 14\u001b[0;31m \u001b[0mfind_values_with_mostly_zeroes\u001b[0m\u001b[0;34m(\u001b[0m\u001b[0mmodels\u001b[0m\u001b[0;34m[\u001b[0m\u001b[0;36m14\u001b[0m\u001b[0;34m]\u001b[0m\u001b[0;34m)\u001b[0m\u001b[0;34m\u001b[0m\u001b[0;34m\u001b[0m\u001b[0m\n\u001b[0m",
            "\u001b[0;31mIndexError\u001b[0m: list index out of range"
          ]
        }
      ],
      "source": [
        "\n",
        "#finds key-value pairs that react almost only to one digit\n",
        "def find_values_with_mostly_zeroes(model):\n",
        "  values = model.fc2.weight\n",
        "  num_of_elems_close_to_0 = torch.abs(values) < 0.05\n",
        "  print(f\"{values.shape=}\")\n",
        "  print(f\"{num_of_elems_close_to_0.shape=}\")\n",
        "  nine_elems_close_to_0 = torch.sum(num_of_elems_close_to_0, dim=0) == 9\n",
        "  indices_with_one_non_zero_elem = torch.nonzero(nine_elems_close_to_0).squeeze()\n",
        "  large_total_sums = torch.nonzero(torch.sum(values, dim=0) > 0.18).squeeze()\n",
        "  print(f\"{indices_with_one_non_zero_elem.shape=}\")\n",
        "  large_total_sum_and_nine_elems_close_to_0 = indices_with_one_non_zero_elem[torch.isin(indices_with_one_non_zero_elem, large_total_sums)]\n",
        "  print(f\"{large_total_sum_and_nine_elems_close_to_0=}\")\n",
        "\n",
        "find_values_with_mostly_zeroes(models[14])"
      ]
    },
    {
      "cell_type": "code",
      "execution_count": null,
      "id": "5b56ca20",
      "metadata": {
        "id": "5b56ca20"
      },
      "outputs": [],
      "source": [
        "\n",
        "visualize_ith_key_value(models[14].cpu(), 905)"
      ]
    },
    {
      "cell_type": "code",
      "execution_count": null,
      "id": "85950725",
      "metadata": {
        "id": "85950725"
      },
      "outputs": [],
      "source": [
        "\n",
        "visualize_image(train_dataset[5][0].cpu().squeeze())"
      ]
    },
    {
      "cell_type": "code",
      "execution_count": null,
      "id": "78f40fbe",
      "metadata": {
        "id": "78f40fbe"
      },
      "outputs": [],
      "source": [
        "\n",
        "list_top_kv_pair_idxs(models[14], train_dataset[5][0].cpu(), 5500)"
      ]
    },
    {
      "cell_type": "code",
      "execution_count": null,
      "id": "4b7b1a5f",
      "metadata": {
        "id": "4b7b1a5f"
      },
      "outputs": [],
      "source": [
        "\n",
        "visualize_ith_key_value_on_image(models[14].cpu(), 905, train_dataset[5][0].cpu().squeeze())"
      ]
    },
    {
      "cell_type": "code",
      "execution_count": null,
      "id": "f625ac93",
      "metadata": {
        "id": "f625ac93"
      },
      "outputs": [],
      "source": [
        "\n",
        "visualize_image(train_dataset[3][0].cpu().squeeze())"
      ]
    },
    {
      "cell_type": "code",
      "execution_count": null,
      "id": "7567090d",
      "metadata": {
        "id": "7567090d"
      },
      "outputs": [],
      "source": [
        "\n",
        "list_top_kv_pair_idxs(models[0].cpu(), train_dataset[3][0].cpu(), 10_000)"
      ]
    },
    {
      "cell_type": "code",
      "execution_count": null,
      "id": "dba21395",
      "metadata": {
        "id": "dba21395"
      },
      "outputs": [],
      "source": [
        "\n",
        "models[0].cpu()(train_dataset[3][0].cpu()).squeeze()"
      ]
    },
    {
      "cell_type": "code",
      "execution_count": null,
      "id": "a96a5d7a",
      "metadata": {
        "lines_to_next_cell": 1,
        "id": "a96a5d7a"
      },
      "outputs": [],
      "source": [
        "\n",
        "visualize_ith_key_value_on_image(models[0].cpu(), 7, train_dataset[3][0].cpu().squeeze())"
      ]
    },
    {
      "cell_type": "code",
      "execution_count": null,
      "id": "e91cb8a8",
      "metadata": {
        "id": "e91cb8a8",
        "colab": {
          "base_uri": "https://localhost:8080/",
          "height": 211
        },
        "outputId": "ac65e0a5-ba73-4afe-d1f7-7a6d606a49ca"
      },
      "outputs": [
        {
          "output_type": "error",
          "ename": "IndexError",
          "evalue": "list index out of range",
          "traceback": [
            "\u001b[0;31m---------------------------------------------------------------------------\u001b[0m",
            "\u001b[0;31mIndexError\u001b[0m                                Traceback (most recent call last)",
            "\u001b[0;32m/tmp/ipython-input-23-306032694.py\u001b[0m in \u001b[0;36m<cell line: 0>\u001b[0;34m()\u001b[0m\n\u001b[1;32m     11\u001b[0m \u001b[0mtrain_images\u001b[0m \u001b[0;34m=\u001b[0m \u001b[0mtorch\u001b[0m\u001b[0;34m.\u001b[0m\u001b[0mstack\u001b[0m\u001b[0;34m(\u001b[0m\u001b[0;34m[\u001b[0m\u001b[0mimg\u001b[0m \u001b[0;32mfor\u001b[0m \u001b[0mimg\u001b[0m\u001b[0;34m,\u001b[0m \u001b[0m_\u001b[0m \u001b[0;32min\u001b[0m \u001b[0mtrain_dataset\u001b[0m\u001b[0;34m]\u001b[0m\u001b[0;34m)\u001b[0m\u001b[0;34m\u001b[0m\u001b[0;34m\u001b[0m\u001b[0m\n\u001b[1;32m     12\u001b[0m \u001b[0;34m\u001b[0m\u001b[0m\n\u001b[0;32m---> 13\u001b[0;31m \u001b[0mresult\u001b[0m \u001b[0;34m=\u001b[0m \u001b[0msort_highest_activating_image_for_key\u001b[0m\u001b[0;34m(\u001b[0m\u001b[0mmodels\u001b[0m\u001b[0;34m[\u001b[0m\u001b[0;36m14\u001b[0m\u001b[0;34m]\u001b[0m\u001b[0;34m.\u001b[0m\u001b[0mcpu\u001b[0m\u001b[0;34m(\u001b[0m\u001b[0;34m)\u001b[0m\u001b[0;34m,\u001b[0m \u001b[0;36m905\u001b[0m\u001b[0;34m,\u001b[0m \u001b[0mtrain_images\u001b[0m\u001b[0;34m.\u001b[0m\u001b[0mcpu\u001b[0m\u001b[0;34m(\u001b[0m\u001b[0;34m)\u001b[0m\u001b[0;34m)\u001b[0m\u001b[0;34m\u001b[0m\u001b[0;34m\u001b[0m\u001b[0m\n\u001b[0m\u001b[1;32m     14\u001b[0m \u001b[0;34m\u001b[0m\u001b[0m\n\u001b[1;32m     15\u001b[0m \u001b[0mprint\u001b[0m\u001b[0;34m(\u001b[0m\u001b[0;34mf\"{result=}\"\u001b[0m\u001b[0;34m)\u001b[0m\u001b[0;34m\u001b[0m\u001b[0;34m\u001b[0m\u001b[0m\n",
            "\u001b[0;31mIndexError\u001b[0m: list index out of range"
          ]
        }
      ],
      "source": [
        "\n",
        "# This finds the image that activates mostly strongly for a given key.\n",
        "\n",
        "def sort_highest_activating_image_for_key(model, key_value_idx, input_images):\n",
        "  key = model.fc1.weight[key_value_idx, :]\n",
        "  print(f\"{input_images.shape=}\")\n",
        "  flattened_images = model.flatten(input_images)\n",
        "  dot_products = einops.einsum(key, flattened_images, \"key_dim, batch key_dim -> batch\")\n",
        "  _, indices_by_dot_product = torch.sort(dot_products, descending=True)\n",
        "  return indices_by_dot_product\n",
        "\n",
        "train_images = torch.stack([img for img, _ in train_dataset])\n",
        "\n",
        "result = sort_highest_activating_image_for_key(models[14].cpu(), 905, train_images.cpu())\n",
        "\n",
        "print(f\"{result=}\")\n",
        "\n",
        "visualize_image(train_images[result][5].cpu().squeeze())"
      ]
    },
    {
      "cell_type": "code",
      "execution_count": null,
      "id": "eba0f528",
      "metadata": {
        "id": "eba0f528"
      },
      "outputs": [],
      "source": [
        "\n",
        "visualize_ith_key_value_on_image(models[14].cpu(), 905, train_dataset[2019][0].cpu().squeeze())"
      ]
    },
    {
      "cell_type": "code",
      "execution_count": null,
      "id": "c48eb9c0",
      "metadata": {
        "lines_to_next_cell": 1,
        "id": "c48eb9c0"
      },
      "outputs": [],
      "source": [
        "\n",
        "import copy\n",
        "\n",
        "def delete_by_index(x: torch.Tensor, indices, dim: int = 0):\n",
        "    \"\"\"\n",
        "    Return a new tensor with the specified indices removed along `dim`.\n",
        "\n",
        "    Args\n",
        "    ----\n",
        "    x (torch.Tensor): input tensor\n",
        "    indices (Sequence[int] | torch.Tensor): positions to delete\n",
        "    dim (int): dimension along which to delete (default 0)\n",
        "\n",
        "    Example\n",
        "    -------\n",
        "    >>> t = torch.tensor([[10, 11],\n",
        "    ...                   [20, 21],\n",
        "    ...                   [30, 31],\n",
        "    ...                   [40, 41]])\n",
        "    >>> delete_by_index(t, [1, 3])\n",
        "    tensor([[10, 11],\n",
        "            [30, 31]])\n",
        "    \"\"\"\n",
        "    # Ensure we have a 1-D LongTensor of unique, sorted indices on the same device\n",
        "    idx = torch.as_tensor(indices, dtype=torch.long, device=x.device).unique().sort().values\n",
        "\n",
        "    # Build a boolean mask that is False at the indices we want to drop\n",
        "    mask_shape = [1] * x.dim()\n",
        "    mask_shape[dim] = x.size(dim)\n",
        "    mask = torch.ones(mask_shape, dtype=torch.bool, device=x.device).squeeze()\n",
        "    mask[idx] = False\n",
        "\n",
        "    return x[mask] if dim == 0 else x.transpose(0, dim)[mask].transpose(0, dim)\n",
        "\n",
        "#removes a certain key from the model\n",
        "def knock_out_ith_key(model: SimpleNN, key_value_idx: torch.Tensor) -> SimpleNN:\n",
        "  with torch.no_grad():\n",
        "    new_model = copy.deepcopy(model)\n",
        "    new_model.fc1 = torch.nn.Linear(model.fc1.in_features, model.fc1.out_features - key_value_idx.shape[0])\n",
        "    new_model.fc2 = torch.nn.Linear(model.fc2.in_features - key_value_idx.shape[0], model.fc2.out_features)\n",
        "    new_model.fc1.weight = torch.nn.Parameter(delete_by_index(model.fc1.weight, key_value_idx))\n",
        "    new_model.fc1.bias = torch.nn.Parameter(delete_by_index(model.fc1.bias, key_value_idx))\n",
        "    new_model.fc2.weight = torch.nn.Parameter(delete_by_index(model.fc2.weight, key_value_idx, dim=1))\n",
        "    return new_model"
      ]
    },
    {
      "cell_type": "code",
      "execution_count": null,
      "id": "78a325dc",
      "metadata": {
        "id": "78a325dc"
      },
      "outputs": [],
      "source": [
        "\n",
        "# Find all those key-value pairs which activate a lot for zero\n",
        "all_values_that_activate_significantly_for_zero = find_values_for_digit_over_threshold(models[14], 0, threshold=0.1)"
      ]
    },
    {
      "cell_type": "code",
      "execution_count": null,
      "id": "54ce25a6",
      "metadata": {
        "id": "54ce25a6"
      },
      "outputs": [],
      "source": [
        "\n",
        "# Let's see if we can just selectively knock those out!\n",
        "model_with_0_knocked_out = knock_out_ith_key(models[14], all_values_that_activate_significantly_for_zero)"
      ]
    },
    {
      "cell_type": "code",
      "execution_count": null,
      "id": "937cfd35",
      "metadata": {
        "id": "937cfd35"
      },
      "outputs": [],
      "source": [
        "\n",
        "# And now we see that the model is basically entirely incapable of recognizing 0, but the rest of its capabilities are left intact!\n",
        "accuracy_by_digit(model_with_0_knocked_out.to(DEVICE), test_loader)"
      ]
    },
    {
      "cell_type": "code",
      "source": [
        "#finds key-value pairs that react not at all\n",
        "def find_values_with_almost_all_zeroes(model):\n",
        "  values = model.fc2.weight\n",
        "  num_of_elems_close_to_0 = torch.abs(values) < 0.05\n",
        "  print(f\"{values.shape=}\")\n",
        "  print(f\"{num_of_elems_close_to_0.shape=}\")\n",
        "  all_elems_close_to_0 = torch.sum(num_of_elems_close_to_0, dim=0) == 10\n",
        "  indices_with_no_non_zero_elem = torch.nonzero(all_elems_close_to_0).squeeze()\n",
        "  print(f\"{indices_with_no_non_zero_elem=}\")\n",
        "  return indices_with_no_non_zero_elem\n",
        "\n",
        "find_values_with_almost_all_zeroes(models[14])"
      ],
      "metadata": {
        "colab": {
          "base_uri": "https://localhost:8080/",
          "height": 176
        },
        "id": "SS2c3sqDjMq0",
        "outputId": "0ed6f647-d817-45fe-dc6a-74ab7305d709"
      },
      "id": "SS2c3sqDjMq0",
      "execution_count": null,
      "outputs": [
        {
          "output_type": "error",
          "ename": "IndexError",
          "evalue": "list index out of range",
          "traceback": [
            "\u001b[0;31m---------------------------------------------------------------------------\u001b[0m",
            "\u001b[0;31mIndexError\u001b[0m                                Traceback (most recent call last)",
            "\u001b[0;32m/tmp/ipython-input-25-2668251490.py\u001b[0m in \u001b[0;36m<cell line: 0>\u001b[0;34m()\u001b[0m\n\u001b[1;32m     10\u001b[0m   \u001b[0;32mreturn\u001b[0m \u001b[0mindices_with_no_non_zero_elem\u001b[0m\u001b[0;34m\u001b[0m\u001b[0;34m\u001b[0m\u001b[0m\n\u001b[1;32m     11\u001b[0m \u001b[0;34m\u001b[0m\u001b[0m\n\u001b[0;32m---> 12\u001b[0;31m \u001b[0mfind_values_with_almost_all_zeroes\u001b[0m\u001b[0;34m(\u001b[0m\u001b[0mmodels\u001b[0m\u001b[0;34m[\u001b[0m\u001b[0;36m14\u001b[0m\u001b[0;34m]\u001b[0m\u001b[0;34m)\u001b[0m\u001b[0;34m\u001b[0m\u001b[0;34m\u001b[0m\u001b[0m\n\u001b[0m",
            "\u001b[0;31mIndexError\u001b[0m: list index out of range"
          ]
        }
      ]
    },
    {
      "cell_type": "code",
      "source": [
        "\n",
        "#finds key-value pairs where the value is small for every digit\n",
        "def find_mostly_zero_values(model, threshold=0.05):\n",
        "  return torch.tensor([idx for idx in range(model.fc2.weight.shape[1]) if (torch.abs(model.fc2.weight[:, idx]) < threshold).all()])"
      ],
      "metadata": {
        "id": "VxeAyICgkqGN"
      },
      "id": "VxeAyICgkqGN",
      "execution_count": null,
      "outputs": []
    },
    {
      "cell_type": "code",
      "source": [
        "#baseline\n",
        "all_values_that_are_mostly_zero_base = find_mostly_zero_values(models[1], threshold=0.0)"
      ],
      "metadata": {
        "id": "9XH3MN8_khH0"
      },
      "id": "9XH3MN8_khH0",
      "execution_count": null,
      "outputs": []
    },
    {
      "cell_type": "code",
      "source": [
        "\n",
        "model_with_mostly_zero_values_knocked_out_baseline = knock_out_ith_key(models[1], all_values_that_are_mostly_zero_base)\n",
        "print(f\"{model_with_mostly_zero_values_knocked_out_baseline.fc2.weight.shape}\")"
      ],
      "metadata": {
        "colab": {
          "base_uri": "https://localhost:8080/"
        },
        "id": "Qo6-7SB_kZJ0",
        "outputId": "aea87abf-1c02-4262-895b-a77a60b2a808"
      },
      "id": "Qo6-7SB_kZJ0",
      "execution_count": null,
      "outputs": [
        {
          "output_type": "stream",
          "name": "stdout",
          "text": [
            "torch.Size([10, 131072])\n"
          ]
        }
      ]
    },
    {
      "cell_type": "code",
      "source": [
        "accuracy_by_digit(model_with_mostly_zero_values_knocked_out_baseline.to(DEVICE), test_loader)"
      ],
      "metadata": {
        "id": "wRhHVz1kxmAZ",
        "colab": {
          "base_uri": "https://localhost:8080/",
          "height": 321
        },
        "outputId": "90a2f9b3-f1b7-40f9-b287-173a360fe4a7"
      },
      "id": "wRhHVz1kxmAZ",
      "execution_count": null,
      "outputs": [
        {
          "output_type": "error",
          "ename": "OutOfMemoryError",
          "evalue": "CUDA out of memory. Tried to allocate 4.88 GiB. GPU 0 has a total capacity of 14.74 GiB of which 2.18 GiB is free. Process 9340 has 12.56 GiB memory in use. Of the allocated memory 8.07 GiB is allocated by PyTorch, and 4.37 GiB is reserved by PyTorch but unallocated. If reserved but unallocated memory is large try setting PYTORCH_CUDA_ALLOC_CONF=expandable_segments:True to avoid fragmentation.  See documentation for Memory Management  (https://pytorch.org/docs/stable/notes/cuda.html#environment-variables)",
          "traceback": [
            "\u001b[0;31m---------------------------------------------------------------------------\u001b[0m",
            "\u001b[0;31mOutOfMemoryError\u001b[0m                          Traceback (most recent call last)",
            "\u001b[0;32m/tmp/ipython-input-76-2954064289.py\u001b[0m in \u001b[0;36m<cell line: 0>\u001b[0;34m()\u001b[0m\n\u001b[0;32m----> 1\u001b[0;31m \u001b[0maccuracy_by_digit\u001b[0m\u001b[0;34m(\u001b[0m\u001b[0mmodel_with_mostly_zero_values_knocked_out_baseline\u001b[0m\u001b[0;34m.\u001b[0m\u001b[0mto\u001b[0m\u001b[0;34m(\u001b[0m\u001b[0mDEVICE\u001b[0m\u001b[0;34m)\u001b[0m\u001b[0;34m,\u001b[0m \u001b[0mtest_loader\u001b[0m\u001b[0;34m)\u001b[0m\u001b[0;34m\u001b[0m\u001b[0;34m\u001b[0m\u001b[0m\n\u001b[0m",
            "\u001b[0;32m/tmp/ipython-input-12-738764805.py\u001b[0m in \u001b[0;36maccuracy_by_digit\u001b[0;34m(model, loader)\u001b[0m\n\u001b[1;32m      8\u001b[0m   \u001b[0;32mwith\u001b[0m \u001b[0mtorch\u001b[0m\u001b[0;34m.\u001b[0m\u001b[0mno_grad\u001b[0m\u001b[0;34m(\u001b[0m\u001b[0;34m)\u001b[0m\u001b[0;34m:\u001b[0m\u001b[0;34m\u001b[0m\u001b[0;34m\u001b[0m\u001b[0m\n\u001b[1;32m      9\u001b[0m     \u001b[0;32mfor\u001b[0m \u001b[0mdata\u001b[0m\u001b[0;34m,\u001b[0m \u001b[0mtarget_probs\u001b[0m \u001b[0;32min\u001b[0m \u001b[0mloader\u001b[0m\u001b[0;34m:\u001b[0m\u001b[0;34m\u001b[0m\u001b[0;34m\u001b[0m\u001b[0m\n\u001b[0;32m---> 10\u001b[0;31m       \u001b[0moutput_probs\u001b[0m \u001b[0;34m=\u001b[0m \u001b[0mmodel\u001b[0m\u001b[0;34m(\u001b[0m\u001b[0mdata\u001b[0m\u001b[0;34m)\u001b[0m\u001b[0;34m\u001b[0m\u001b[0;34m\u001b[0m\u001b[0m\n\u001b[0m\u001b[1;32m     11\u001b[0m       \u001b[0moutput\u001b[0m \u001b[0;34m=\u001b[0m \u001b[0moutput_probs\u001b[0m\u001b[0;34m.\u001b[0m\u001b[0margmax\u001b[0m\u001b[0;34m(\u001b[0m\u001b[0mdim\u001b[0m\u001b[0;34m=\u001b[0m\u001b[0;36m1\u001b[0m\u001b[0;34m)\u001b[0m\u001b[0;34m\u001b[0m\u001b[0;34m\u001b[0m\u001b[0m\n\u001b[1;32m     12\u001b[0m       \u001b[0mtarget\u001b[0m \u001b[0;34m=\u001b[0m \u001b[0mtarget_probs\u001b[0m\u001b[0;34m.\u001b[0m\u001b[0margmax\u001b[0m\u001b[0;34m(\u001b[0m\u001b[0mdim\u001b[0m\u001b[0;34m=\u001b[0m\u001b[0;36m1\u001b[0m\u001b[0;34m)\u001b[0m\u001b[0;34m\u001b[0m\u001b[0;34m\u001b[0m\u001b[0m\n",
            "\u001b[0;32m/usr/local/lib/python3.11/dist-packages/torch/nn/modules/module.py\u001b[0m in \u001b[0;36m_wrapped_call_impl\u001b[0;34m(self, *args, **kwargs)\u001b[0m\n\u001b[1;32m   1737\u001b[0m             \u001b[0;32mreturn\u001b[0m \u001b[0mself\u001b[0m\u001b[0;34m.\u001b[0m\u001b[0m_compiled_call_impl\u001b[0m\u001b[0;34m(\u001b[0m\u001b[0;34m*\u001b[0m\u001b[0margs\u001b[0m\u001b[0;34m,\u001b[0m \u001b[0;34m**\u001b[0m\u001b[0mkwargs\u001b[0m\u001b[0;34m)\u001b[0m  \u001b[0;31m# type: ignore[misc]\u001b[0m\u001b[0;34m\u001b[0m\u001b[0;34m\u001b[0m\u001b[0m\n\u001b[1;32m   1738\u001b[0m         \u001b[0;32melse\u001b[0m\u001b[0;34m:\u001b[0m\u001b[0;34m\u001b[0m\u001b[0;34m\u001b[0m\u001b[0m\n\u001b[0;32m-> 1739\u001b[0;31m             \u001b[0;32mreturn\u001b[0m \u001b[0mself\u001b[0m\u001b[0;34m.\u001b[0m\u001b[0m_call_impl\u001b[0m\u001b[0;34m(\u001b[0m\u001b[0;34m*\u001b[0m\u001b[0margs\u001b[0m\u001b[0;34m,\u001b[0m \u001b[0;34m**\u001b[0m\u001b[0mkwargs\u001b[0m\u001b[0;34m)\u001b[0m\u001b[0;34m\u001b[0m\u001b[0;34m\u001b[0m\u001b[0m\n\u001b[0m\u001b[1;32m   1740\u001b[0m \u001b[0;34m\u001b[0m\u001b[0m\n\u001b[1;32m   1741\u001b[0m     \u001b[0;31m# torchrec tests the code consistency with the following code\u001b[0m\u001b[0;34m\u001b[0m\u001b[0;34m\u001b[0m\u001b[0m\n",
            "\u001b[0;32m/usr/local/lib/python3.11/dist-packages/torch/nn/modules/module.py\u001b[0m in \u001b[0;36m_call_impl\u001b[0;34m(self, *args, **kwargs)\u001b[0m\n\u001b[1;32m   1748\u001b[0m                 \u001b[0;32mor\u001b[0m \u001b[0m_global_backward_pre_hooks\u001b[0m \u001b[0;32mor\u001b[0m \u001b[0m_global_backward_hooks\u001b[0m\u001b[0;34m\u001b[0m\u001b[0;34m\u001b[0m\u001b[0m\n\u001b[1;32m   1749\u001b[0m                 or _global_forward_hooks or _global_forward_pre_hooks):\n\u001b[0;32m-> 1750\u001b[0;31m             \u001b[0;32mreturn\u001b[0m \u001b[0mforward_call\u001b[0m\u001b[0;34m(\u001b[0m\u001b[0;34m*\u001b[0m\u001b[0margs\u001b[0m\u001b[0;34m,\u001b[0m \u001b[0;34m**\u001b[0m\u001b[0mkwargs\u001b[0m\u001b[0;34m)\u001b[0m\u001b[0;34m\u001b[0m\u001b[0;34m\u001b[0m\u001b[0m\n\u001b[0m\u001b[1;32m   1751\u001b[0m \u001b[0;34m\u001b[0m\u001b[0m\n\u001b[1;32m   1752\u001b[0m         \u001b[0mresult\u001b[0m \u001b[0;34m=\u001b[0m \u001b[0;32mNone\u001b[0m\u001b[0;34m\u001b[0m\u001b[0;34m\u001b[0m\u001b[0m\n",
            "\u001b[0;32m/tmp/ipython-input-5-1285425999.py\u001b[0m in \u001b[0;36mforward\u001b[0;34m(self, x)\u001b[0m\n\u001b[1;32m     34\u001b[0m     \u001b[0;32mdef\u001b[0m \u001b[0mforward\u001b[0m\u001b[0;34m(\u001b[0m\u001b[0mself\u001b[0m\u001b[0;34m,\u001b[0m \u001b[0mx\u001b[0m\u001b[0;34m)\u001b[0m\u001b[0;34m:\u001b[0m\u001b[0;34m\u001b[0m\u001b[0;34m\u001b[0m\u001b[0m\n\u001b[1;32m     35\u001b[0m         \u001b[0mx\u001b[0m \u001b[0;34m=\u001b[0m \u001b[0mself\u001b[0m\u001b[0;34m.\u001b[0m\u001b[0mflatten\u001b[0m\u001b[0;34m(\u001b[0m\u001b[0mx\u001b[0m\u001b[0;34m)\u001b[0m\u001b[0;34m\u001b[0m\u001b[0;34m\u001b[0m\u001b[0m\n\u001b[0;32m---> 36\u001b[0;31m         \u001b[0mx1\u001b[0m \u001b[0;34m=\u001b[0m \u001b[0mself\u001b[0m\u001b[0;34m.\u001b[0m\u001b[0mrelu\u001b[0m\u001b[0;34m(\u001b[0m\u001b[0mself\u001b[0m\u001b[0;34m.\u001b[0m\u001b[0mfc1\u001b[0m\u001b[0;34m(\u001b[0m\u001b[0mx\u001b[0m\u001b[0;34m)\u001b[0m\u001b[0;34m)\u001b[0m\u001b[0;34m\u001b[0m\u001b[0;34m\u001b[0m\u001b[0m\n\u001b[0m\u001b[1;32m     37\u001b[0m         \u001b[0mx2\u001b[0m \u001b[0;34m=\u001b[0m \u001b[0mself\u001b[0m\u001b[0;34m.\u001b[0m\u001b[0mfc2\u001b[0m\u001b[0;34m(\u001b[0m\u001b[0mx1\u001b[0m\u001b[0;34m)\u001b[0m\u001b[0;34m\u001b[0m\u001b[0;34m\u001b[0m\u001b[0m\n\u001b[1;32m     38\u001b[0m         \u001b[0;32mreturn\u001b[0m \u001b[0mself\u001b[0m\u001b[0;34m.\u001b[0m\u001b[0msoftmax\u001b[0m\u001b[0;34m(\u001b[0m\u001b[0mx2\u001b[0m\u001b[0;34m)\u001b[0m\u001b[0;34m\u001b[0m\u001b[0;34m\u001b[0m\u001b[0m\n",
            "\u001b[0;32m/usr/local/lib/python3.11/dist-packages/torch/nn/modules/module.py\u001b[0m in \u001b[0;36m_wrapped_call_impl\u001b[0;34m(self, *args, **kwargs)\u001b[0m\n\u001b[1;32m   1737\u001b[0m             \u001b[0;32mreturn\u001b[0m \u001b[0mself\u001b[0m\u001b[0;34m.\u001b[0m\u001b[0m_compiled_call_impl\u001b[0m\u001b[0;34m(\u001b[0m\u001b[0;34m*\u001b[0m\u001b[0margs\u001b[0m\u001b[0;34m,\u001b[0m \u001b[0;34m**\u001b[0m\u001b[0mkwargs\u001b[0m\u001b[0;34m)\u001b[0m  \u001b[0;31m# type: ignore[misc]\u001b[0m\u001b[0;34m\u001b[0m\u001b[0;34m\u001b[0m\u001b[0m\n\u001b[1;32m   1738\u001b[0m         \u001b[0;32melse\u001b[0m\u001b[0;34m:\u001b[0m\u001b[0;34m\u001b[0m\u001b[0;34m\u001b[0m\u001b[0m\n\u001b[0;32m-> 1739\u001b[0;31m             \u001b[0;32mreturn\u001b[0m \u001b[0mself\u001b[0m\u001b[0;34m.\u001b[0m\u001b[0m_call_impl\u001b[0m\u001b[0;34m(\u001b[0m\u001b[0;34m*\u001b[0m\u001b[0margs\u001b[0m\u001b[0;34m,\u001b[0m \u001b[0;34m**\u001b[0m\u001b[0mkwargs\u001b[0m\u001b[0;34m)\u001b[0m\u001b[0;34m\u001b[0m\u001b[0;34m\u001b[0m\u001b[0m\n\u001b[0m\u001b[1;32m   1740\u001b[0m \u001b[0;34m\u001b[0m\u001b[0m\n\u001b[1;32m   1741\u001b[0m     \u001b[0;31m# torchrec tests the code consistency with the following code\u001b[0m\u001b[0;34m\u001b[0m\u001b[0;34m\u001b[0m\u001b[0m\n",
            "\u001b[0;32m/usr/local/lib/python3.11/dist-packages/torch/nn/modules/module.py\u001b[0m in \u001b[0;36m_call_impl\u001b[0;34m(self, *args, **kwargs)\u001b[0m\n\u001b[1;32m   1748\u001b[0m                 \u001b[0;32mor\u001b[0m \u001b[0m_global_backward_pre_hooks\u001b[0m \u001b[0;32mor\u001b[0m \u001b[0m_global_backward_hooks\u001b[0m\u001b[0;34m\u001b[0m\u001b[0;34m\u001b[0m\u001b[0m\n\u001b[1;32m   1749\u001b[0m                 or _global_forward_hooks or _global_forward_pre_hooks):\n\u001b[0;32m-> 1750\u001b[0;31m             \u001b[0;32mreturn\u001b[0m \u001b[0mforward_call\u001b[0m\u001b[0;34m(\u001b[0m\u001b[0;34m*\u001b[0m\u001b[0margs\u001b[0m\u001b[0;34m,\u001b[0m \u001b[0;34m**\u001b[0m\u001b[0mkwargs\u001b[0m\u001b[0;34m)\u001b[0m\u001b[0;34m\u001b[0m\u001b[0;34m\u001b[0m\u001b[0m\n\u001b[0m\u001b[1;32m   1751\u001b[0m \u001b[0;34m\u001b[0m\u001b[0m\n\u001b[1;32m   1752\u001b[0m         \u001b[0mresult\u001b[0m \u001b[0;34m=\u001b[0m \u001b[0;32mNone\u001b[0m\u001b[0;34m\u001b[0m\u001b[0;34m\u001b[0m\u001b[0m\n",
            "\u001b[0;32m/usr/local/lib/python3.11/dist-packages/torch/nn/modules/linear.py\u001b[0m in \u001b[0;36mforward\u001b[0;34m(self, input)\u001b[0m\n\u001b[1;32m    123\u001b[0m \u001b[0;34m\u001b[0m\u001b[0m\n\u001b[1;32m    124\u001b[0m     \u001b[0;32mdef\u001b[0m \u001b[0mforward\u001b[0m\u001b[0;34m(\u001b[0m\u001b[0mself\u001b[0m\u001b[0;34m,\u001b[0m \u001b[0minput\u001b[0m\u001b[0;34m:\u001b[0m \u001b[0mTensor\u001b[0m\u001b[0;34m)\u001b[0m \u001b[0;34m->\u001b[0m \u001b[0mTensor\u001b[0m\u001b[0;34m:\u001b[0m\u001b[0;34m\u001b[0m\u001b[0;34m\u001b[0m\u001b[0m\n\u001b[0;32m--> 125\u001b[0;31m         \u001b[0;32mreturn\u001b[0m \u001b[0mF\u001b[0m\u001b[0;34m.\u001b[0m\u001b[0mlinear\u001b[0m\u001b[0;34m(\u001b[0m\u001b[0minput\u001b[0m\u001b[0;34m,\u001b[0m \u001b[0mself\u001b[0m\u001b[0;34m.\u001b[0m\u001b[0mweight\u001b[0m\u001b[0;34m,\u001b[0m \u001b[0mself\u001b[0m\u001b[0;34m.\u001b[0m\u001b[0mbias\u001b[0m\u001b[0;34m)\u001b[0m\u001b[0;34m\u001b[0m\u001b[0;34m\u001b[0m\u001b[0m\n\u001b[0m\u001b[1;32m    126\u001b[0m \u001b[0;34m\u001b[0m\u001b[0m\n\u001b[1;32m    127\u001b[0m     \u001b[0;32mdef\u001b[0m \u001b[0mextra_repr\u001b[0m\u001b[0;34m(\u001b[0m\u001b[0mself\u001b[0m\u001b[0;34m)\u001b[0m \u001b[0;34m->\u001b[0m \u001b[0mstr\u001b[0m\u001b[0;34m:\u001b[0m\u001b[0;34m\u001b[0m\u001b[0;34m\u001b[0m\u001b[0m\n",
            "\u001b[0;31mOutOfMemoryError\u001b[0m: CUDA out of memory. Tried to allocate 4.88 GiB. GPU 0 has a total capacity of 14.74 GiB of which 2.18 GiB is free. Process 9340 has 12.56 GiB memory in use. Of the allocated memory 8.07 GiB is allocated by PyTorch, and 4.37 GiB is reserved by PyTorch but unallocated. If reserved but unallocated memory is large try setting PYTORCH_CUDA_ALLOC_CONF=expandable_segments:True to avoid fragmentation.  See documentation for Memory Management  (https://pytorch.org/docs/stable/notes/cuda.html#environment-variables)"
          ]
        }
      ]
    },
    {
      "cell_type": "code",
      "source": [
        "#0.05\n",
        "all_values_that_are_mostly_zero_05 = find_mostly_zero_values(models[1], threshold=0.05)"
      ],
      "metadata": {
        "id": "mEq0lrGAxSkx"
      },
      "id": "mEq0lrGAxSkx",
      "execution_count": null,
      "outputs": []
    },
    {
      "cell_type": "code",
      "source": [
        "\n",
        "model_with_mostly_zero_values_knocked_out_05 = knock_out_ith_key(models[1], all_values_that_are_mostly_zero_05)\n",
        "print(f\"{model_with_mostly_zero_values_knocked_out_05.fc2.weight.shape}\")"
      ],
      "metadata": {
        "colab": {
          "base_uri": "https://localhost:8080/"
        },
        "id": "cKf1T_TZxT4A",
        "outputId": "ad222342-5f92-4f2e-88f8-83582f76964b"
      },
      "id": "cKf1T_TZxT4A",
      "execution_count": null,
      "outputs": [
        {
          "output_type": "stream",
          "name": "stdout",
          "text": [
            "torch.Size([10, 50879])\n"
          ]
        }
      ]
    },
    {
      "cell_type": "code",
      "source": [
        "accuracy_by_digit(model_with_mostly_zero_values_knocked_out_05.to(DEVICE), test_loader)"
      ],
      "metadata": {
        "id": "ZyiidUTLxpf6"
      },
      "id": "ZyiidUTLxpf6",
      "execution_count": null,
      "outputs": []
    },
    {
      "cell_type": "code",
      "source": [
        "#0.10\n",
        "all_values_that_are_mostly_zero_10 = find_mostly_zero_values(models[1], threshold=0.1)"
      ],
      "metadata": {
        "id": "-wJiCqojxbqx"
      },
      "id": "-wJiCqojxbqx",
      "execution_count": null,
      "outputs": []
    },
    {
      "cell_type": "code",
      "source": [
        "\n",
        "model_with_mostly_zero_values_knocked_out_10 = knock_out_ith_key(models[1], all_values_that_are_mostly_zero_10)\n",
        "print(f\"{model_with_mostly_zero_values_knocked_out_10.fc2.weight.shape}\")"
      ],
      "metadata": {
        "id": "aEmaMlEjxdQZ"
      },
      "id": "aEmaMlEjxdQZ",
      "execution_count": null,
      "outputs": []
    },
    {
      "cell_type": "code",
      "source": [
        "accuracy_by_digit(model_with_mostly_zero_values_knocked_out_10.to(DEVICE), test_loader)"
      ],
      "metadata": {
        "id": "rdpnsuvxxg-Z"
      },
      "id": "rdpnsuvxxg-Z",
      "execution_count": null,
      "outputs": []
    },
    {
      "cell_type": "code",
      "source": [
        "#0.15\n",
        "all_values_that_are_mostly_zero = find_mostly_zero_values(models[1], threshold=0.15)"
      ],
      "metadata": {
        "id": "LpNQMNMAxsrz"
      },
      "id": "LpNQMNMAxsrz",
      "execution_count": null,
      "outputs": []
    },
    {
      "cell_type": "code",
      "source": [
        "\n",
        "model_with_mostly_zero_values_knocked_out_15 = knock_out_ith_key(models[1], all_values_that_are_mostly_zero)\n",
        "print(f\"{model_with_mostly_zero_values_knocked_out_15.fc2.weight.shape}\")"
      ],
      "metadata": {
        "id": "oRa28bA5x-XU"
      },
      "id": "oRa28bA5x-XU",
      "execution_count": null,
      "outputs": []
    },
    {
      "cell_type": "code",
      "source": [
        "accuracy_by_digit(model_with_mostly_zero_values_knocked_out_15.to(DEVICE), test_loader)"
      ],
      "metadata": {
        "id": "-8M2zohayDVU"
      },
      "id": "-8M2zohayDVU",
      "execution_count": null,
      "outputs": []
    },
    {
      "cell_type": "code",
      "source": [
        "#0.20\n",
        "all_values_that_are_mostly_zero_20 = find_mostly_zero_values(models[1], threshold=0.2)"
      ],
      "metadata": {
        "id": "MrMBI4MayOl2"
      },
      "id": "MrMBI4MayOl2",
      "execution_count": null,
      "outputs": []
    },
    {
      "cell_type": "code",
      "source": [
        "model_with_mostly_zero_values_knocked_out_20 = knock_out_ith_key(models[1], all_values_that_are_mostly_zero_20)\n",
        "print(f\"{model_with_mostly_zero_values_knocked_out_20.fc2.weight.shape}\")"
      ],
      "metadata": {
        "id": "JD1U-_YGyTzA"
      },
      "id": "JD1U-_YGyTzA",
      "execution_count": null,
      "outputs": []
    },
    {
      "cell_type": "code",
      "source": [
        "accuracy_by_digit(model_with_mostly_zero_values_knocked_out_20.to(DEVICE), test_loader)"
      ],
      "metadata": {
        "id": "srsjlyFokeI9"
      },
      "id": "srsjlyFokeI9",
      "execution_count": null,
      "outputs": []
    },
    {
      "cell_type": "code",
      "source": [
        "\n",
        "#finds the key-value pairs where the values for each digit are mostly similar to each other\n",
        "def find_mostly_similar_values(model, threshold=0.05):\n",
        "    possible_idx = []\n",
        "\n",
        "    for idx in range(model.fc2.weight.shape[1]):\n",
        "      if (torch.max(model.fc2.weight[:, idx]) - torch.min(model.fc2.weight[:, idx]) < threshold):\n",
        "        possible_idx.append(idx)\n",
        "\n",
        "    return torch.tensor(possible_idx)"
      ],
      "metadata": {
        "id": "fljKzwXJbzr4"
      },
      "id": "fljKzwXJbzr4",
      "execution_count": null,
      "outputs": []
    },
    {
      "cell_type": "code",
      "source": [
        "#0.05\n",
        "values_with_same = find_mostly_similar_values(models[1], threshold=0.05)"
      ],
      "metadata": {
        "id": "bCsrTdilb0dc"
      },
      "id": "bCsrTdilb0dc",
      "execution_count": null,
      "outputs": []
    },
    {
      "cell_type": "code",
      "source": [
        "model_with_similar_values_knocked = knock_out_ith_key(models[1], values_with_same)\n",
        "print(f\"{model_with_similar_values_knocked.fc2.weight.shape}\")"
      ],
      "metadata": {
        "colab": {
          "base_uri": "https://localhost:8080/"
        },
        "id": "XaHSA--mf6O1",
        "outputId": "ec21a75d-cf29-47a5-93e2-9e0538beeb94"
      },
      "id": "XaHSA--mf6O1",
      "execution_count": null,
      "outputs": [
        {
          "output_type": "stream",
          "name": "stdout",
          "text": [
            "torch.Size([10, 61575])\n"
          ]
        }
      ]
    },
    {
      "cell_type": "code",
      "source": [
        "accuracy_by_digit(model_with_similar_values_knocked.to(DEVICE), test_loader)"
      ],
      "metadata": {
        "id": "acXa2g5ggCk1"
      },
      "id": "acXa2g5ggCk1",
      "execution_count": null,
      "outputs": []
    },
    {
      "cell_type": "code",
      "source": [
        "#0.1\n",
        "values_with_same = find_mostly_similar_values(models[1], threshold=0.1)"
      ],
      "metadata": {
        "id": "kl4tEN2SgVPo"
      },
      "id": "kl4tEN2SgVPo",
      "execution_count": null,
      "outputs": []
    },
    {
      "cell_type": "code",
      "source": [
        "model_with_similar_values_knocked = knock_out_ith_key(models[1], values_with_same)\n",
        "print(f\"{model_with_similar_values_knocked.fc2.weight.shape}\")"
      ],
      "metadata": {
        "id": "t-zySz_mgVmv"
      },
      "id": "t-zySz_mgVmv",
      "execution_count": null,
      "outputs": []
    },
    {
      "cell_type": "code",
      "source": [
        "accuracy_by_digit(model_with_similar_values_knocked.to(DEVICE), test_loader)"
      ],
      "metadata": {
        "id": "GtG3go91gWaB"
      },
      "id": "GtG3go91gWaB",
      "execution_count": null,
      "outputs": []
    },
    {
      "cell_type": "code",
      "source": [
        "#0.15\n",
        "values_with_same = find_mostly_similar_values(models[1], threshold=0.15)"
      ],
      "metadata": {
        "id": "Gm7wzGgIKf7A"
      },
      "id": "Gm7wzGgIKf7A",
      "execution_count": null,
      "outputs": []
    },
    {
      "cell_type": "code",
      "source": [
        "model_with_similar_values_knocked = knock_out_ith_key(models[1], values_with_same)\n",
        "print(f\"{model_with_similar_values_knocked.fc2.weight.shape}\")"
      ],
      "metadata": {
        "id": "lVP5O_SaKg_p"
      },
      "id": "lVP5O_SaKg_p",
      "execution_count": null,
      "outputs": []
    },
    {
      "cell_type": "code",
      "source": [
        "accuracy_by_digit(model_with_similar_values_knocked.to(DEVICE), test_loader)"
      ],
      "metadata": {
        "id": "dImStpO0Kh-u"
      },
      "id": "dImStpO0Kh-u",
      "execution_count": null,
      "outputs": []
    },
    {
      "cell_type": "code",
      "source": [
        "0.2\n",
        "values_with_same_20 = find_mostly_similar_values(models[1], threshold=0.2)"
      ],
      "metadata": {
        "id": "BOg0viIig6pr"
      },
      "id": "BOg0viIig6pr",
      "execution_count": null,
      "outputs": []
    },
    {
      "cell_type": "code",
      "source": [
        "model_with_similar_values_knocked_20 = knock_out_ith_key(models[1], values_with_same_20)\n",
        "print(f\"{model_with_similar_values_knocked_20.fc2.weight.shape}\")"
      ],
      "metadata": {
        "id": "wrTStVQTg7DD"
      },
      "id": "wrTStVQTg7DD",
      "execution_count": null,
      "outputs": []
    },
    {
      "cell_type": "code",
      "source": [
        "accuracy_by_digit(model_with_similar_values_knocked_20.to(DEVICE), test_loader)"
      ],
      "metadata": {
        "id": "bcP0uFWfg8Uk"
      },
      "id": "bcP0uFWfg8Uk",
      "execution_count": null,
      "outputs": []
    },
    {
      "cell_type": "code",
      "source": [
        "#0.1, both\n",
        "all_values_that_are_mostly_zero_10 = find_mostly_zero_values(models[1], threshold=0.1)"
      ],
      "metadata": {
        "id": "_29B0DO1kFFT"
      },
      "id": "_29B0DO1kFFT",
      "execution_count": null,
      "outputs": []
    },
    {
      "cell_type": "code",
      "source": [
        "\n",
        "model_with_mostly_zero_values_knocked_out_10 = knock_out_ith_key(models[1], all_values_that_are_mostly_zero_10)\n",
        "print(f\"{model_with_mostly_zero_values_knocked_out_10.fc2.weight.shape}\")"
      ],
      "metadata": {
        "id": "3Ud5RjvrkXB8"
      },
      "id": "3Ud5RjvrkXB8",
      "execution_count": null,
      "outputs": []
    },
    {
      "cell_type": "code",
      "source": [
        "both_values_close_to_zero_and_similar = find_mostly_similar_values(model_with_mostly_zero_values_knocked_out_10, threshold=0.1)"
      ],
      "metadata": {
        "id": "uhYUnPZKkSBV"
      },
      "id": "uhYUnPZKkSBV",
      "execution_count": null,
      "outputs": []
    },
    {
      "cell_type": "code",
      "source": [
        "both_values_close_to_zero_and_similar_10 = knock_out_ith_key(model_with_mostly_zero_values_knocked_out_10, both_values_close_to_zero_and_similar)\n",
        "print(f\"{both_values_close_to_zero_and_similar_10.fc2.weight.shape}\")"
      ],
      "metadata": {
        "id": "MGBMiDv6ke71"
      },
      "id": "MGBMiDv6ke71",
      "execution_count": null,
      "outputs": []
    },
    {
      "cell_type": "code",
      "source": [
        "#0.1 values, 0.15 similar\n",
        "both_values_close_to_zero_and_similar_15 = find_mostly_similar_values(model_with_mostly_zero_values_knocked_out_10, threshold=0.15)"
      ],
      "metadata": {
        "id": "WKsFIhlSC5vw"
      },
      "id": "WKsFIhlSC5vw",
      "execution_count": null,
      "outputs": []
    },
    {
      "cell_type": "code",
      "source": [
        "both_values_close_to_zero_and_similar_15 = knock_out_ith_key(model_with_mostly_zero_values_knocked_out_10, both_values_close_to_zero_and_similar_15)\n",
        "print(f\"{both_values_close_to_zero_and_similar_15.fc2.weight.shape}\")"
      ],
      "metadata": {
        "id": "oyHSkLqhC6Lg"
      },
      "id": "oyHSkLqhC6Lg",
      "execution_count": null,
      "outputs": []
    },
    {
      "cell_type": "code",
      "source": [
        "accuracy_by_digit(both_values_close_to_zero_and_similar_15.to(DEVICE), test_loader)"
      ],
      "metadata": {
        "id": "BDQqj119K655"
      },
      "id": "BDQqj119K655",
      "execution_count": null,
      "outputs": []
    },
    {
      "cell_type": "code",
      "source": [
        "(models[1].fc1.weight.shape)"
      ],
      "metadata": {
        "colab": {
          "base_uri": "https://localhost:8080/"
        },
        "id": "I0dRkIPFVgqt",
        "outputId": "72c4b86c-c186-4705-e1c1-297470e93d19"
      },
      "id": "I0dRkIPFVgqt",
      "execution_count": null,
      "outputs": [
        {
          "output_type": "execute_result",
          "data": {
            "text/plain": [
              "torch.Size([131072, 784])"
            ]
          },
          "metadata": {},
          "execution_count": 55
        }
      ]
    },
    {
      "cell_type": "code",
      "source": [
        "def find_mostly_zero_keys(model, threshold=0.05):\n",
        "  return torch.tensor([idx for idx in range(model.fc1.weight.shape[0]) if (torch.abs(model.fc1.weight[idx, :]) < threshold).all()])"
      ],
      "metadata": {
        "id": "bo1eRc6FNCuG"
      },
      "id": "bo1eRc6FNCuG",
      "execution_count": null,
      "outputs": []
    },
    {
      "cell_type": "code",
      "source": [
        "mostly_zero_keys = find_mostly_zero_keys(models[1], threshold=0.05)\n",
        "model_with_mostly_zero_keys_knocked = knock_out_ith_key(models[1], mostly_zero_keys)\n",
        "\n",
        "print(f\"{model_with_mostly_zero_keys_knocked.fc2.weight.shape}\")\n"
      ],
      "metadata": {
        "colab": {
          "base_uri": "https://localhost:8080/"
        },
        "id": "IbOP_cyxRf1u",
        "outputId": "7142c5de-a6d6-4175-91de-92a21a06a99c"
      },
      "id": "IbOP_cyxRf1u",
      "execution_count": null,
      "outputs": [
        {
          "output_type": "stream",
          "name": "stdout",
          "text": [
            "torch.Size([10, 71302])\n"
          ]
        }
      ]
    },
    {
      "cell_type": "code",
      "source": [
        "accuracy_by_digit(model_with_mostly_zero_keys_knocked.to(DEVICE), test_loader)"
      ],
      "metadata": {
        "id": "e8mUxdBfSOkm",
        "outputId": "52a39bc6-7797-4d01-c3b3-5d7255fd3251",
        "colab": {
          "base_uri": "https://localhost:8080/"
        }
      },
      "id": "e8mUxdBfSOkm",
      "execution_count": null,
      "outputs": [
        {
          "output_type": "execute_result",
          "data": {
            "text/plain": [
              "[0.9826530612244898,\n",
              " 0.9876651982378855,\n",
              " 0.9486434108527132,\n",
              " 0.9356435643564357,\n",
              " 0.9684317718940937,\n",
              " 0.9663677130044843,\n",
              " 0.9603340292275574,\n",
              " 0.9698443579766537,\n",
              " 0.9527720739219713,\n",
              " 0.9494549058473737]"
            ]
          },
          "metadata": {},
          "execution_count": 60
        }
      ]
    },
    {
      "cell_type": "code",
      "source": [
        "for i in np.arange(0.05, 0.15, 0.05):\n",
        "  for j in np.arange(0.05, 0.15, 0.05):\n",
        "    for k in np.arange(0.05, 0.15, 0.05):\n",
        "      values_that_are_mostly_zero_iter = find_mostly_zero_values(models[1], threshold=i)\n",
        "      model_with_mostly_zero_values_knocked_out_iter = knock_out_ith_key(models[1], values_that_are_mostly_zero_iter)\n",
        "      print(f\"Mostly 0 threshold: {i}; Mostly similar threshold {j}; Keys near 0 threshold: {k}; Shape = {model_with_mostly_zero_values_knocked_out_iter.fc2.weight.shape}\")\n",
        "      print(\"\\n\")\n",
        "\n",
        "      both_values_close_to_zero_and_similar = find_mostly_similar_values(model_with_mostly_zero_values_knocked_out_iter, threshold=j)\n",
        "      both_knocked = knock_out_ith_key(model_with_mostly_zero_values_knocked_out_iter, both_values_close_to_zero_and_similar)\n",
        "      print(f\"Mostly 0 threshold: {i}, Mostly similar threshold {j}, Keys near 0 threshold: {k}; Shape = {both_knocked.fc2.weight.shape}\")\n",
        "      print(\"\\n\")\n",
        "\n",
        "      both_values_and_keys_close_to_zero_and_similar = find_mostly_zero_keys(both_knocked, threshold=k)\n",
        "      all_knocked = knock_out_ith_key(both_knocked, both_values_and_keys_close_to_zero_and_similar)\n",
        "      print(f\"Mostly 0 threshold: {i}, Mostly similar threshold {j}, Keys near 0 threshold: {k}; Shape = {all_knocked.fc2.weight.shape}\")\n",
        "      print(accuracy_by_digit(all_knocked.to(DEVICE), test_loader))\n",
        "\n",
        "      print(\"-\" * 50)\n",
        "      print(\"\\n\")\n",
        "\n",
        "      if (i == 0.1 and j == 0.1 and k == 0.1):\n",
        "        print(both_values_and_keys_close_to_zero_and_similar)\n",
        "\n",
        "\n"
      ],
      "metadata": {
        "id": "nHnwatE0Lonm",
        "colab": {
          "base_uri": "https://localhost:8080/"
        },
        "outputId": "028e1b45-4e7a-4b13-8a0f-6251262197f0"
      },
      "id": "nHnwatE0Lonm",
      "execution_count": null,
      "outputs": [
        {
          "output_type": "stream",
          "name": "stdout",
          "text": [
            "Mostly 0 threshold: 0.05; Mostly similar threshold 0.05; Keys near 0 threshold: 0.05; Shape = torch.Size([10, 50879])\n",
            "\n",
            "\n",
            "Mostly 0 threshold: 0.05, Mostly similar threshold 0.05, Keys near 0 threshold: 0.05; Shape = torch.Size([10, 50879])\n",
            "\n",
            "\n",
            "Mostly 0 threshold: 0.05, Mostly similar threshold 0.05, Keys near 0 threshold: 0.05; Shape = torch.Size([10, 50863])\n",
            "[0.9826530612244898, 0.9876651982378855, 0.9486434108527132, 0.9356435643564357, 0.9684317718940937, 0.9663677130044843, 0.9603340292275574, 0.9698443579766537, 0.9527720739219713, 0.9494549058473737]\n",
            "--------------------------------------------------\n",
            "\n",
            "\n",
            "Mostly 0 threshold: 0.05; Mostly similar threshold 0.05; Keys near 0 threshold: 0.1; Shape = torch.Size([10, 50879])\n",
            "\n",
            "\n",
            "Mostly 0 threshold: 0.05, Mostly similar threshold 0.05, Keys near 0 threshold: 0.1; Shape = torch.Size([10, 50879])\n",
            "\n",
            "\n",
            "Mostly 0 threshold: 0.05, Mostly similar threshold 0.05, Keys near 0 threshold: 0.1; Shape = torch.Size([10, 47931])\n",
            "[0.9826530612244898, 0.9876651982378855, 0.9486434108527132, 0.9356435643564357, 0.9684317718940937, 0.9663677130044843, 0.9603340292275574, 0.9688715953307393, 0.9527720739219713, 0.9494549058473737]\n",
            "--------------------------------------------------\n",
            "\n",
            "\n",
            "Mostly 0 threshold: 0.05; Mostly similar threshold 0.1; Keys near 0 threshold: 0.05; Shape = torch.Size([10, 50879])\n",
            "\n",
            "\n",
            "Mostly 0 threshold: 0.05, Mostly similar threshold 0.1, Keys near 0 threshold: 0.05; Shape = torch.Size([10, 48275])\n",
            "\n",
            "\n",
            "Mostly 0 threshold: 0.05, Mostly similar threshold 0.1, Keys near 0 threshold: 0.05; Shape = torch.Size([10, 48274])\n",
            "[0.9826530612244898, 0.9876651982378855, 0.9486434108527132, 0.9356435643564357, 0.9684317718940937, 0.9663677130044843, 0.9603340292275574, 0.9698443579766537, 0.9527720739219713, 0.9494549058473737]\n",
            "--------------------------------------------------\n",
            "\n",
            "\n",
            "Mostly 0 threshold: 0.05; Mostly similar threshold 0.1; Keys near 0 threshold: 0.1; Shape = torch.Size([10, 50879])\n",
            "\n",
            "\n",
            "Mostly 0 threshold: 0.05, Mostly similar threshold 0.1, Keys near 0 threshold: 0.1; Shape = torch.Size([10, 48275])\n",
            "\n",
            "\n",
            "Mostly 0 threshold: 0.05, Mostly similar threshold 0.1, Keys near 0 threshold: 0.1; Shape = torch.Size([10, 46774])\n",
            "[0.9826530612244898, 0.9876651982378855, 0.9486434108527132, 0.9356435643564357, 0.9684317718940937, 0.9663677130044843, 0.9603340292275574, 0.9688715953307393, 0.9527720739219713, 0.9494549058473737]\n",
            "--------------------------------------------------\n",
            "\n",
            "\n",
            "Mostly 0 threshold: 0.1; Mostly similar threshold 0.05; Keys near 0 threshold: 0.05; Shape = torch.Size([10, 38952])\n",
            "\n",
            "\n",
            "Mostly 0 threshold: 0.1, Mostly similar threshold 0.05, Keys near 0 threshold: 0.05; Shape = torch.Size([10, 38952])\n",
            "\n",
            "\n",
            "Mostly 0 threshold: 0.1, Mostly similar threshold 0.05, Keys near 0 threshold: 0.05; Shape = torch.Size([10, 38952])\n",
            "[0.9836734693877551, 0.9876651982378855, 0.9486434108527132, 0.9376237623762376, 0.9694501018329938, 0.9663677130044843, 0.9613778705636743, 0.9698443579766537, 0.9527720739219713, 0.9494549058473737]\n",
            "--------------------------------------------------\n",
            "\n",
            "\n",
            "Mostly 0 threshold: 0.1; Mostly similar threshold 0.05; Keys near 0 threshold: 0.1; Shape = torch.Size([10, 38952])\n",
            "\n",
            "\n",
            "Mostly 0 threshold: 0.1, Mostly similar threshold 0.05, Keys near 0 threshold: 0.1; Shape = torch.Size([10, 38952])\n",
            "\n",
            "\n",
            "Mostly 0 threshold: 0.1, Mostly similar threshold 0.05, Keys near 0 threshold: 0.1; Shape = torch.Size([10, 38895])\n",
            "[0.9836734693877551, 0.9876651982378855, 0.9486434108527132, 0.9376237623762376, 0.9694501018329938, 0.968609865470852, 0.9613778705636743, 0.9688715953307393, 0.9527720739219713, 0.9494549058473737]\n",
            "--------------------------------------------------\n",
            "\n",
            "\n",
            "Mostly 0 threshold: 0.1; Mostly similar threshold 0.1; Keys near 0 threshold: 0.05; Shape = torch.Size([10, 38952])\n",
            "\n",
            "\n",
            "Mostly 0 threshold: 0.1, Mostly similar threshold 0.1, Keys near 0 threshold: 0.05; Shape = torch.Size([10, 38952])\n",
            "\n",
            "\n",
            "Mostly 0 threshold: 0.1, Mostly similar threshold 0.1, Keys near 0 threshold: 0.05; Shape = torch.Size([10, 38952])\n",
            "[0.9836734693877551, 0.9876651982378855, 0.9486434108527132, 0.9376237623762376, 0.9694501018329938, 0.9663677130044843, 0.9613778705636743, 0.9698443579766537, 0.9527720739219713, 0.9494549058473737]\n",
            "--------------------------------------------------\n",
            "\n",
            "\n",
            "Mostly 0 threshold: 0.1; Mostly similar threshold 0.1; Keys near 0 threshold: 0.1; Shape = torch.Size([10, 38952])\n",
            "\n",
            "\n",
            "Mostly 0 threshold: 0.1, Mostly similar threshold 0.1, Keys near 0 threshold: 0.1; Shape = torch.Size([10, 38952])\n",
            "\n",
            "\n",
            "Mostly 0 threshold: 0.1, Mostly similar threshold 0.1, Keys near 0 threshold: 0.1; Shape = torch.Size([10, 38895])\n",
            "[0.9836734693877551, 0.9876651982378855, 0.9486434108527132, 0.9376237623762376, 0.9694501018329938, 0.968609865470852, 0.9613778705636743, 0.9688715953307393, 0.9527720739219713, 0.9494549058473737]\n",
            "--------------------------------------------------\n",
            "\n",
            "\n",
            "tensor([  639,  4330,  5621,  6135,  6802,  7439,  7681,  7850,  9065,  9903,\n",
            "        10435, 10614, 11273, 11551, 14505, 16060, 16135, 17273, 17371, 17557,\n",
            "        17766, 18611, 18756, 19101, 20124, 20647, 20889, 21990, 22311, 23004,\n",
            "        23384, 24522, 25016, 25752, 26178, 26258, 26362, 27142, 27300, 28208,\n",
            "        28504, 30508, 30511, 31077, 31107, 31585, 31643, 32192, 34542, 35004,\n",
            "        35339, 35856, 37454, 37482, 38534, 38830, 38892])\n"
          ]
        }
      ]
    },
    {
      "cell_type": "code",
      "source": [
        "visualize_ith_key_value(all_knocked.cpu(), 26362)"
      ],
      "metadata": {
        "colab": {
          "base_uri": "https://localhost:8080/",
          "height": 610
        },
        "id": "n9fMbiGtlft0",
        "outputId": "108f97d1-b102-4f69-d074-8a69d5da90b6"
      },
      "id": "n9fMbiGtlft0",
      "execution_count": null,
      "outputs": [
        {
          "output_type": "display_data",
          "data": {
            "text/plain": [
              "<Figure size 640x480 with 1 Axes>"
            ],
            "image/png": "[encoded data removed]"
          },
          "metadata": {}
        },
        {
          "output_type": "display_data",
          "data": {
            "text/plain": [
              "<Figure size 640x480 with 1 Axes>"
            ],
            "image/png": "[encoded data removed]"
          },
          "metadata": {}
        },
        {
          "output_type": "display_data",
          "data": {
            "text/plain": [
              "<Figure size 640x480 with 1 Axes>"
            ],
            "image/png": "[encoded data removed]"
          },
          "metadata": {}
        }
      ]
    },
    {
      "cell_type": "code",
      "source": [
        "\n",
        "\n",
        "#Using L2 norm between probability vectors\n",
        "def get_and_viz_img_with_biggest_change(model1, model2, loader, top_k=5):\n",
        "\n",
        "    images, targets_one_hot = next(iter(loader))\n",
        "    labels = targets_one_hot.argmax(dim=1)\n",
        "\n",
        "    with torch.no_grad():\n",
        "        probs1 = model1(images)\n",
        "        probs2 = model2(images)\n",
        "\n",
        "        prob_diff = probs2 - probs1\n",
        "\n",
        "        change_magnitudes = torch.linalg.norm(prob_diff, ord=2, dim=1)\n",
        "\n",
        "        sorted_magnitudes, sorted_indices = torch.sort(change_magnitudes, descending=True)\n",
        "\n",
        "        print(f\"Top {top_k} test images with the largest probability change between models:\")\n",
        "        print(f\"Indices: \\n\")\n",
        "        print(sorted_indices[:top_k])\n",
        "        print(f\"Magnitudes: \\n\")\n",
        "        print(sorted_magnitudes[:top_k])\n",
        "\n",
        "        for i in range(top_k):\n",
        "            img_idx = sorted_indices[i].item()\n",
        "\n",
        "            image = images[img_idx].cpu().squeeze()\n",
        "            label = labels[img_idx].item()\n",
        "            p1 = probs1[img_idx].cpu()\n",
        "            p2 = probs2[img_idx].cpu()\n",
        "            pred1 = p1.argmax().item()\n",
        "            pred2 = p2.argmax().item()\n",
        "            magnitude = sorted_magnitudes[i].item()\n",
        "\n",
        "            print(f\"\\n--- Rank {i+1} (Image Index in test set: {img_idx}) ---\")\n",
        "            print(f\"Magnitude of Change (L2 Norm): {magnitude:.4f}\")\n",
        "            print(f\"Actual Label: {label}\")\n",
        "            print(f\"Original model (dim={model1.fc2.weight.shape}) Prediction: {pred1} (Correct: {pred1 == label})\")\n",
        "            print(f\"Pruned Model (dim={model2.fc2.weight.shape}) Prediction: {pred2} (Correct: {pred2 == label})\")\n",
        "            print(f\"Original model probs: {p1}\")\n",
        "            print(f\"Pruned model probs: {p2}\")\n",
        "\n",
        "\n",
        "            #visualize_image(image)\n",
        "\n",
        "            \"\"\"\n",
        "            fig, ax = plt.subplots(1, 2, figsize=(12, 4), sharey=True)\n",
        "            digits = np.arange(10)\n",
        "\n",
        "            ax[0].bar(digits, p1.numpy(), color='cornflowerblue')\n",
        "            ax[0].set_title(f\"Original model (dim={model1.fc2.weight.shape}) Probs\")\n",
        "            ax[0].set_xticks(digits)\n",
        "            ax[0].set_xlabel(\"Digit\")\n",
        "            ax[0].set_ylabel(\"Probability\")\n",
        "            ax[0].set_ylim(0, 1)\n",
        "\n",
        "            ax[1].bar(digits, p2.numpy(), color='salmon')\n",
        "            ax[1].set_title(f\"Pruned Model (dim={model2.fc2.weight.shape}) Probs\")\n",
        "            ax[1].set_xticks(digits)\n",
        "            ax[1].set_xlabel(\"Digit\")\n",
        "            ax[1].set_ylim(0, 1)\n",
        "\n",
        "            fig.suptitle(f\"Prediction comparison for a '{label}'\", fontsize=16)\n",
        "            plt.tight_layout(rect=[0, 0.03, 1, 0.95])\n",
        "            plt.show()\n",
        "            \"\"\"\n",
        "\n",
        "get_and_viz_img_with_biggest_change(models[1].to(DEVICE), both_values_close_to_zero_and_similar_10.to(DEVICE), test_loader, top_k=25)"
      ],
      "metadata": {
        "id": "MQUB0IYvELKm"
      },
      "id": "MQUB0IYvELKm",
      "execution_count": null,
      "outputs": []
    }
  ],
  "metadata": {
    "jupytext": {
      "cell_metadata_filter": "-all",
      "main_language": "python",
      "notebook_metadata_filter": "-all"
    },
    "kernelspec": {
      "display_name": "Python 3",
      "name": "python3"
    },
    "language_info": {
      "name": "python",
      "version": "3.12.4"
    },
    "colab": {
      "provenance": [],
      "gpuType": "T4"
    },
    "accelerator": "GPU"
  },
  "nbformat": 4,
  "nbformat_minor": 5
}