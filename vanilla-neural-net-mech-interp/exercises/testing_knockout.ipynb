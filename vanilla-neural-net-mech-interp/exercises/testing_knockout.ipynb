{
  "cells": [
    {
      "cell_type": "code",
      "source": [
        "\n",
        "# Not provided by default in Google Colab\n",
        "!pip install jaxtyping\n",
        "\n",
        "# The rest downloads some binary files we'll need\n",
        "!pip install gdown\n",
        "\n",
        "# Download all the pretrained models"
      ],
      "metadata": {
        "colab": {
          "base_uri": "https://localhost:8080/"
        },
        "id": "r_PRIYLJghNS",
        "outputId": "f4995853-df2b-4045-9a99-5df3593ddfa6"
      },
      "id": "r_PRIYLJghNS",
      "execution_count": 5,
      "outputs": [
        {
          "output_type": "stream",
          "name": "stdout",
          "text": [
            "Collecting jaxtyping\n",
            "  Downloading jaxtyping-0.3.2-py3-none-any.whl.metadata (7.0 kB)\n",
            "Collecting wadler-lindig>=0.1.3 (from jaxtyping)\n",
            "  Downloading wadler_lindig-0.1.7-py3-none-any.whl.metadata (17 kB)\n",
            "Downloading jaxtyping-0.3.2-py3-none-any.whl (55 kB)\n",
            "\u001b[?25l   \u001b[90m━━━━━━━━━━━━━━━━━━━━━━━━━━━━━━━━━━━━━━━━\u001b[0m \u001b[32m0.0/55.4 kB\u001b[0m \u001b[31m?\u001b[0m eta \u001b[36m-:--:--\u001b[0m\r\u001b[2K   \u001b[90m━━━━━━━━━━━━━━━━━━━━━━━━━━━━━━━━━━━━━━━━\u001b[0m \u001b[32m55.4/55.4 kB\u001b[0m \u001b[31m4.3 MB/s\u001b[0m eta \u001b[36m0:00:00\u001b[0m\n",
            "\u001b[?25hDownloading wadler_lindig-0.1.7-py3-none-any.whl (20 kB)\n",
            "Installing collected packages: wadler-lindig, jaxtyping\n",
            "Successfully installed jaxtyping-0.3.2 wadler-lindig-0.1.7\n",
            "Requirement already satisfied: gdown in /usr/local/lib/python3.11/dist-packages (5.2.0)\n",
            "Requirement already satisfied: beautifulsoup4 in /usr/local/lib/python3.11/dist-packages (from gdown) (4.13.4)\n",
            "Requirement already satisfied: filelock in /usr/local/lib/python3.11/dist-packages (from gdown) (3.18.0)\n",
            "Requirement already satisfied: requests[socks] in /usr/local/lib/python3.11/dist-packages (from gdown) (2.32.3)\n",
            "Requirement already satisfied: tqdm in /usr/local/lib/python3.11/dist-packages (from gdown) (4.67.1)\n",
            "Requirement already satisfied: soupsieve>1.2 in /usr/local/lib/python3.11/dist-packages (from beautifulsoup4->gdown) (2.7)\n",
            "Requirement already satisfied: typing-extensions>=4.0.0 in /usr/local/lib/python3.11/dist-packages (from beautifulsoup4->gdown) (4.14.0)\n",
            "Requirement already satisfied: charset-normalizer<4,>=2 in /usr/local/lib/python3.11/dist-packages (from requests[socks]->gdown) (3.4.2)\n",
            "Requirement already satisfied: idna<4,>=2.5 in /usr/local/lib/python3.11/dist-packages (from requests[socks]->gdown) (3.10)\n",
            "Requirement already satisfied: urllib3<3,>=1.21.1 in /usr/local/lib/python3.11/dist-packages (from requests[socks]->gdown) (2.4.0)\n",
            "Requirement already satisfied: certifi>=2017.4.17 in /usr/local/lib/python3.11/dist-packages (from requests[socks]->gdown) (2025.6.15)\n",
            "Requirement already satisfied: PySocks!=1.5.7,>=1.5.6 in /usr/local/lib/python3.11/dist-packages (from requests[socks]->gdown) (1.7.1)\n"
          ]
        }
      ]
    },
    {
      "cell_type": "code",
      "source": [
        "!gdown --id 1F2Z8ziHPaXd_GT_fYe974ySiQVhW0yz0\n",
        "#!gdown --id 1gGE9MtYvQwCevY9qx-3BEYyoIhDOOBBh\n",
        "#!gdown --id 1mLEVHleRHiGLHKvu06LE0Oq2Mm6b2lCg\n",
        "#!gdown --id 1KTZ9m4qmEmUIr-FZMSeVUkd4H8LSB_4b\n",
        "#!gdown --id 1-Q16KxTkfg5hktOAE-OPgWglgGaaaHFd\n",
        "#!gdown --id 1RFwpFgpPIOONABfXiHGsMtJdUF1gd10S\n",
        "#!gdown --id 15BUINas3RQcUVml3QQvoOTVkZjd7IPFS\n",
        "#!gdown --id 1ASEwxJHndnjFiu2G9tdmn3B5OJkvRQb7\n",
        "#!gdown --id 1AggdX5mQ9o1QAy9P8_ZpckC8qRDTwPm1\n",
        "#!gdown --id 1nMjFaMMtijoLidaJSMQoYGnQld5TKp7Q\n",
        "#!gdown --id 19H7Y50yQsUBj9dWzHWOU8VJJ6zU4cQhA\n",
        "#!gdown --id 1A5O3OatMM0Lj2m1655Nx1NSwoervV0mS\n",
        "#!gdown --id 1rKFm7BY8eqQitHYDTrKHzWoFDE_e7fp0\n",
        "#!gdown --id 1vNM6pD5gc4oOzumGtURp6ASw7nqtwinz\n",
        "!gdown --id 1_1GFcsjIuWRUcgPU9rMEY5g66K7eX93M"
      ],
      "metadata": {
        "colab": {
          "base_uri": "https://localhost:8080/"
        },
        "id": "_1Xsg8EQgh7Z",
        "outputId": "f8b498a5-3c51-4422-e8a6-311abb95a0d7"
      },
      "id": "_1Xsg8EQgh7Z",
      "execution_count": 6,
      "outputs": [
        {
          "output_type": "stream",
          "name": "stdout",
          "text": [
            "/usr/local/lib/python3.11/dist-packages/gdown/__main__.py:140: FutureWarning: Option `--id` was deprecated in version 4.3.1 and will be removed in 5.0. You don't need to pass it anymore to use a file ID.\n",
            "  warnings.warn(\n",
            "Downloading...\n",
            "From: https://drive.google.com/uc?id=1F2Z8ziHPaXd_GT_fYe974ySiQVhW0yz0\n",
            "To: /content/mnist_model_hidden_layer_8\n",
            "100% 27.8k/27.8k [00:00<00:00, 57.0MB/s]\n",
            "/usr/local/lib/python3.11/dist-packages/gdown/__main__.py:140: FutureWarning: Option `--id` was deprecated in version 4.3.1 and will be removed in 5.0. You don't need to pass it anymore to use a file ID.\n",
            "  warnings.warn(\n",
            "Downloading...\n",
            "From (original): https://drive.google.com/uc?id=1_1GFcsjIuWRUcgPU9rMEY5g66K7eX93M\n",
            "From (redirected): https://drive.google.com/uc?id=1_1GFcsjIuWRUcgPU9rMEY5g66K7eX93M&confirm=t&uuid=a30c659a-abd0-4800-9ee6-4e6740e5c598\n",
            "To: /content/mnist_model_hidden_layer_131072\n",
            "100% 417M/417M [00:09<00:00, 42.1MB/s]\n"
          ]
        }
      ]
    },
    {
      "cell_type": "code",
      "execution_count": 7,
      "id": "ffbeceb0",
      "metadata": {
        "lines_to_next_cell": 1,
        "id": "ffbeceb0"
      },
      "outputs": [],
      "source": [
        "\n",
        "import torch\n",
        "import torch.nn as nn\n",
        "import torch.optim as optim\n",
        "from torchvision import datasets, transforms\n",
        "import numpy as np\n",
        "import matplotlib.pyplot as plt\n",
        "import einops"
      ]
    },
    {
      "cell_type": "code",
      "execution_count": 8,
      "id": "f8b7456b",
      "metadata": {
        "lines_to_next_cell": 1,
        "id": "f8b7456b"
      },
      "outputs": [],
      "source": [
        "\n",
        "# Some nice preliminary functions for testing.\n",
        "\n",
        "def assert_with_expect(expected, actual):\n",
        "    assert expected == actual, f\"Expected: {expected} Actual: {actual}\"\n",
        "\n",
        "\n",
        "def assert_list_of_floats_within_epsilon(\n",
        "    expected: list[float],\n",
        "    actual: list[float],\n",
        "    eps=0.0001,\n",
        "):\n",
        "    if len(expected) != len(actual):\n",
        "        raise AssertionError(f\"Expected: {expected} Actual: {actual}\")\n",
        "    is_within_eps = True\n",
        "    for e, a in zip(expected, actual):\n",
        "        is_within_eps = is_within_eps and abs(e - a) < eps\n",
        "    if not is_within_eps:\n",
        "        raise AssertionError(f\"Expected: {expected} Actual: {actual}\")\n",
        "\n",
        "\n",
        "def assert_tensors_within_epsilon(\n",
        "    expected: torch.Tensor,\n",
        "    actual: torch.Tensor,\n",
        "    eps=0.001,\n",
        "):\n",
        "    if expected.shape != actual.shape:\n",
        "        raise AssertionError(f\"Shapes of tensors do not match! Expected: {expected.shape} Acutal: {actual.shape}\")\n",
        "    differences_within_epsilon = abs(expected - actual) < eps\n",
        "    if not differences_within_epsilon.all():\n",
        "        raise AssertionError(f\"Values of tensors do not match! Expected: {expected} Actual: {actual}\")"
      ]
    },
    {
      "cell_type": "code",
      "execution_count": 9,
      "id": "053f5ed4",
      "metadata": {
        "lines_to_next_cell": 1,
        "id": "053f5ed4"
      },
      "outputs": [],
      "source": [
        "\n",
        "# None of this is code that you will need to write, but you should read this\n",
        "# over to understand the structure of what kind of nets we'll be training.\n",
        "#\n",
        "# Note that we only train with 10,000 images out of the 60,000 image dataset!\n",
        "# Originally this was because I was hoping to demonstrate some interesting\n",
        "# double descent phenomena, but unfortunately I ran out of time to do that :(.\n",
        "# Nonetheless, as we'll see, 10,000 images in the train set is actually enough\n",
        "# to get to a very well trained neural net!\n",
        "\n",
        "# hyper-params\n",
        "BATCH_SIZE = 512\n",
        "TRAIN_SET_SIZE = 10000\n",
        "HIDDEN_DIM = 256\n",
        "EPOCHS = 5000\n",
        "LR = 1e-3\n",
        "DEVICE = torch.device(\"cuda\" if torch.cuda.is_available() else \"cpu\")\n",
        "# If you set this to True then this will train all the models from scratch,\n",
        "# otherwise it will look for pre-saved weights and load those instead\n",
        "TRAIN_FROM_SCRATCH = False\n",
        "# When training, should we load the entire image set into GPU memory\n",
        "LOAD_EVERYTHING_INTO_GPU_MEMORY = True\n",
        "\n",
        "# simple with 3 layers\n",
        "class SimpleNN(nn.Module):\n",
        "    def __init__(self, hidden_dim):\n",
        "        super(SimpleNN, self).__init__()\n",
        "        self.hidden_dim = hidden_dim\n",
        "        self.flatten = nn.Flatten()\n",
        "        self.fc1 = nn.Linear(784, hidden_dim)\n",
        "        self.fc2 = nn.Linear(hidden_dim, 10)\n",
        "        self.relu = nn.ReLU()\n",
        "        self.softmax = nn.Softmax(dim=-1)\n",
        "\n",
        "    def forward(self, x):\n",
        "        x = self.flatten(x)\n",
        "        x1 = self.relu(self.fc1(x))\n",
        "        x2 = self.fc2(x1)\n",
        "        return self.softmax(x2)"
      ]
    },
    {
      "cell_type": "code",
      "execution_count": 10,
      "id": "63412dcb",
      "metadata": {
        "lines_to_next_cell": 2,
        "id": "63412dcb"
      },
      "outputs": [],
      "source": [
        "\n",
        "# This is useful for creating reproducible tests for whether you wrote the code\n",
        "# correctly!\n",
        "EXAMPLE_SIMPLE_NN_HIDDEN_DIM = 6\n",
        "example_simple_nn = SimpleNN(EXAMPLE_SIMPLE_NN_HIDDEN_DIM)\n",
        "\n",
        "# We'll hard-code all of these values so that they are reproducible for tests\n",
        "with torch.no_grad():\n",
        "  fc1_weight = einops.rearrange(torch.arange(784 * EXAMPLE_SIMPLE_NN_HIDDEN_DIM), \"(x y) -> x y\", x=EXAMPLE_SIMPLE_NN_HIDDEN_DIM, y=784)\n",
        "  fc1_bias = torch.arange(EXAMPLE_SIMPLE_NN_HIDDEN_DIM)\n",
        "  fc2_weight = einops.rearrange(torch.arange(10 * EXAMPLE_SIMPLE_NN_HIDDEN_DIM), \"(x y) -> x y\", x=10, y=EXAMPLE_SIMPLE_NN_HIDDEN_DIM)\n",
        "  fc2_bias = torch.arange(10)\n",
        "  example_simple_nn.fc1.weight = torch.nn.Parameter(fc1_weight.to(torch.float))\n",
        "  example_simple_nn.fc1.bias = torch.nn.Parameter(fc1_bias.to(torch.float))\n",
        "  example_simple_nn.fc2.weight = torch.nn.Parameter(fc2_weight.to(torch.float))\n",
        "  example_simple_nn.fc2.bias = torch.nn.Parameter(fc2_bias.to(torch.float))"
      ]
    },
    {
      "cell_type": "code",
      "execution_count": 11,
      "id": "9f5e841f",
      "metadata": {
        "id": "9f5e841f",
        "colab": {
          "base_uri": "https://localhost:8080/"
        },
        "outputId": "27ff966c-5526-463f-f343-ac2fb76abafe"
      },
      "outputs": [
        {
          "output_type": "stream",
          "name": "stderr",
          "text": [
            "100%|██████████| 9.91M/9.91M [00:00<00:00, 11.4MB/s]\n",
            "100%|██████████| 28.9k/28.9k [00:00<00:00, 357kB/s]\n",
            "100%|██████████| 1.65M/1.65M [00:00<00:00, 2.72MB/s]\n",
            "100%|██████████| 4.54k/4.54k [00:00<00:00, 8.33MB/s]\n"
          ]
        }
      ],
      "source": [
        "\n",
        "\n",
        "# MNIST dataset\n",
        "transform = transforms.Compose([transforms.ToTensor()])\n",
        "train_dataset = datasets.MNIST('./data', train=True, download=True, transform=transform)\n",
        "test_dataset = datasets.MNIST('./data', train=False, transform=transform)\n",
        "\n",
        "train_loader = torch.utils.data.DataLoader(train_dataset, batch_size=BATCH_SIZE, shuffle=True)\n",
        "test_loader = torch.utils.data.DataLoader(test_dataset, batch_size=10000)\n",
        "\n",
        "hidden_dims = [8, 131072]#[8, 16, 32, 64, 128, 256, 512, 1024, 2048, 4096, 8192, 16384, 32768, 65536, 131072 262144]\n",
        "models = [SimpleNN(hidden_dim) for hidden_dim in hidden_dims]"
      ]
    },
    {
      "cell_type": "code",
      "execution_count": 12,
      "id": "6237d683",
      "metadata": {
        "id": "6237d683"
      },
      "outputs": [],
      "source": [
        "\n",
        "# This is code that you can read if you'd like, but can also just run. It's\n",
        "# mainly useful if you wanted to train these models yourself.\n",
        "\n",
        "if LOAD_EVERYTHING_INTO_GPU_MEMORY:\n",
        "  # We'll load into memory to make this faster\n",
        "  train_loader_with_entire_dataset = torch.utils.data.DataLoader(train_dataset, batch_size=train_dataset.data.shape[0])\n",
        "  for batch_idx, (data, target) in enumerate(train_loader_with_entire_dataset):\n",
        "      data = data[:TRAIN_SET_SIZE].to(DEVICE)\n",
        "      target = torch.nn.functional.one_hot(target[:TRAIN_SET_SIZE], num_classes=10).to(torch.float)\n",
        "      target = target.to(DEVICE)\n",
        "\n",
        "  train_dataset = torch.utils.data.TensorDataset(data, target)\n",
        "  train_loader = torch.utils.data.DataLoader(train_dataset, batch_size=BATCH_SIZE, shuffle=True)\n",
        "\n",
        "  test_loader_with_entire_dataset = torch.utils.data.DataLoader(test_dataset, batch_size=test_dataset.data.shape[0])\n",
        "  for test_data, test_target in test_loader_with_entire_dataset:\n",
        "      test_data = test_data.to(DEVICE)\n",
        "      test_target = torch.nn.functional.one_hot(test_target, num_classes=10).to(torch.float)\n",
        "      test_target = test_target.to(DEVICE)\n",
        "\n",
        "\n",
        "  test_dataset = torch.utils.data.TensorDataset(test_data, test_target)\n",
        "  test_loader = torch.utils.data.DataLoader(test_dataset, batch_size=10000)\n",
        "\n",
        "  # PyTorch DataLoader seems absurdly slow for MNIST dataset sizes\n",
        "  # It seems to be calling get_item one by one instead of doing batch operations\n",
        "  # Let's just do a custom list instead\n",
        "  def generate_simple_loader(dataset, batch_size):\n",
        "    permuted_indices = torch.randperm(dataset.tensors[0].shape[0])\n",
        "    permuted_data = dataset.tensors[0][permuted_indices]\n",
        "    permuted_target = dataset.tensors[1][permuted_indices]\n",
        "    simple_loader = []\n",
        "    for i in range(0, permuted_data.shape[0], batch_size):\n",
        "      simple_loader.append((permuted_data[i:i+batch_size], permuted_target[i:i+batch_size]))\n",
        "    return simple_loader\n",
        "\n",
        "  simple_train_loader = generate_simple_loader(train_dataset, BATCH_SIZE)\n",
        "  simple_test_loader = generate_simple_loader(test_dataset, 10000)\n",
        "\n",
        "  train_loader = simple_train_loader\n",
        "  test_loader = simple_test_loader"
      ]
    },
    {
      "cell_type": "code",
      "execution_count": 13,
      "id": "cbea0bfa",
      "metadata": {
        "colab": {
          "base_uri": "https://localhost:8080/",
          "height": 970
        },
        "id": "cbea0bfa",
        "outputId": "57999b0a-897f-4aa6-d33b-ed0ecb6e8d6a"
      },
      "outputs": [
        {
          "output_type": "stream",
          "name": "stdout",
          "text": [
            "Processing hidden_dim 8\n",
            "Processing hidden_dim 131072\n"
          ]
        },
        {
          "output_type": "display_data",
          "data": {
            "text/plain": [
              "<Figure size 640x480 with 1 Axes>"
            ],
            "image/png": "[encoded data removed]"
          },
          "metadata": {}
        },
        {
          "output_type": "display_data",
          "data": {
            "text/plain": [
              "<Figure size 640x480 with 1 Axes>"
            ],
            "image/png": "[encoded data removed]"
          },
          "metadata": {}
        }
      ],
      "source": [
        "\n",
        "# This is the actual training loop! Even though this is not code you will need\n",
        "# to write, you should definitely read this! It's good to understand exactly how\n",
        "# our model is being trained!\n",
        "#\n",
        "# You might notice that we're using MSELoss instead of cross-entropy loss. It\n",
        "# turns out that this is enough to get quite reasonable models and considerably\n",
        "# simplifies some of the presentataion to people who have only an introductory\n",
        "# understanding of neural nets.\n",
        "\n",
        "train_losses = []\n",
        "test_losses = []\n",
        "train_accuracies = []\n",
        "test_accuracies = []\n",
        "for model in models:\n",
        "    print(f\"Processing hidden_dim {model.hidden_dim}\")\n",
        "    criterion = nn.MSELoss()\n",
        "    optimizer = optim.AdamW(model.parameters(), lr=LR)\n",
        "\n",
        "    # Training\n",
        "    train_loss = 0\n",
        "    train_accuracy = 0\n",
        "    train_samples = 0\n",
        "    if TRAIN_FROM_SCRATCH:\n",
        "      model = model.to(DEVICE)\n",
        "      for epoch in range(EPOCHS):\n",
        "          if LOAD_EVERYTHING_INTO_GPU_MEMORY:\n",
        "              # Re-shuffle the train loader\n",
        "              train_loader = generate_simple_loader(train_dataset, BATCH_SIZE)\n",
        "          for batch_idx, (data, target) in enumerate(train_loader):\n",
        "              optimizer.zero_grad()\n",
        "              output = model(data)\n",
        "              loss = criterion(output, target)\n",
        "              loss.backward()\n",
        "              optimizer.step()\n",
        "    else:\n",
        "      model.load_state_dict(torch.load(f\"mnist_model_hidden_layer_{model.hidden_dim}\"))\n",
        "      model = model.to(DEVICE)\n",
        "    with torch.no_grad():\n",
        "      for data, target in train_loader:\n",
        "          output = model(data)\n",
        "          train_loss += criterion(output, target).item()\n",
        "          train_accuracy += (output.argmax(dim=1) == target.argmax(dim=1)).sum().item()\n",
        "          train_samples += data.shape[0]\n",
        "    train_losses.append(train_loss / len(train_loader))\n",
        "    train_accuracies.append(train_accuracy / train_samples)\n",
        "\n",
        "    # Testing\n",
        "    test_loss = 0\n",
        "    test_accuracy = 0\n",
        "    test_samples = 0\n",
        "    with torch.no_grad():\n",
        "        for test_data, test_target in test_loader:\n",
        "            output = model(test_data)\n",
        "            loss = criterion(output, test_target)\n",
        "            test_loss += loss.item()\n",
        "            test_accuracy += (output.argmax(dim=1) == test_target.argmax(dim=1)).sum().item()\n",
        "            test_samples += test_data.shape[0]\n",
        "    test_losses.append(test_loss / len(test_loader))\n",
        "    test_accuracies.append(test_accuracy / test_samples)\n",
        "\n",
        "plt.plot(hidden_dims, train_losses, label='Train Loss')\n",
        "plt.plot(hidden_dims, test_losses, label='Test Loss')\n",
        "plt.xlabel('Hidden Dimension')\n",
        "plt.ylabel('Loss')\n",
        "plt.title('Loss vs Hidden Dim')\n",
        "plt.xscale(\"log\")\n",
        "plt.legend()\n",
        "plt.show()\n",
        "\n",
        "plt.plot(hidden_dims, train_accuracies, label='Train Accuracy')\n",
        "plt.plot(hidden_dims, test_accuracies, label='Test Accuracy')\n",
        "plt.xlabel('Hidden Dimension')\n",
        "plt.ylabel('Accuracy')\n",
        "plt.title('Accuracy vs Hidden Dim')\n",
        "plt.xscale(\"log\")\n",
        "plt.legend()\n",
        "plt.show()"
      ]
    },
    {
      "cell_type": "code",
      "execution_count": 14,
      "id": "fdd876b1",
      "metadata": {
        "id": "fdd876b1"
      },
      "outputs": [],
      "source": [
        "\n",
        "if TRAIN_FROM_SCRATCH:\n",
        "  for dim, model in zip(hidden_dims, models):\n",
        "    # Save on CPU because this makes it easier to load for more devices\n",
        "    model = model.to(\"cpu\")\n",
        "    torch.save(model.state_dict(), f\"mnist_model_hidden_layer_{dim}\")"
      ]
    },
    {
      "cell_type": "code",
      "execution_count": 15,
      "id": "6bf9d687",
      "metadata": {
        "lines_to_next_cell": 1,
        "id": "6bf9d687"
      },
      "outputs": [],
      "source": [
        "\n",
        "# Go ahead and run this just to make sure\n",
        "\n",
        "for model in models:\n",
        "  model = model.to(DEVICE)"
      ]
    },
    {
      "cell_type": "code",
      "execution_count": 16,
      "id": "0b49ddea",
      "metadata": {
        "lines_to_next_cell": 1,
        "id": "0b49ddea"
      },
      "outputs": [],
      "source": [
        "\n",
        "# Fill this out! This should calculate the accuracy of the model for each digit.\n",
        "\n",
        "def accuracy_by_digit(model, loader):\n",
        "  # TODO: Implement this!\n",
        "  #raise NotImplementedError()\n",
        "  correct = [0] * 10\n",
        "  total = [0] * 10\n",
        "  with torch.no_grad():\n",
        "    for data, target_probs in loader:\n",
        "      output_probs = model(data)\n",
        "      output = output_probs.argmax(dim=1)\n",
        "      target = target_probs.argmax(dim=1)\n",
        "      for i in range(target.shape[0]):\n",
        "        total[target[i]] += 1\n",
        "        if output[i] == target[i]:\n",
        "          correct[target[i]] += 1\n",
        "  return [correct[i] / total[i] for i in range(10)]"
      ]
    },
    {
      "cell_type": "code",
      "execution_count": 13,
      "id": "b68b57b3",
      "metadata": {
        "colab": {
          "base_uri": "https://localhost:8080/",
          "height": 158
        },
        "id": "b68b57b3",
        "outputId": "c1de2e17-ec6a-4582-f75d-84abe8d13e1b"
      },
      "outputs": [
        {
          "output_type": "error",
          "ename": "IndexError",
          "evalue": "list index out of range",
          "traceback": [
            "\u001b[0;31m---------------------------------------------------------------------------\u001b[0m",
            "\u001b[0;31mIndexError\u001b[0m                                Traceback (most recent call last)",
            "\u001b[0;32m/tmp/ipython-input-13-192469004.py\u001b[0m in \u001b[0;36m<cell line: 0>\u001b[0;34m()\u001b[0m\n\u001b[1;32m      1\u001b[0m \u001b[0;31m# Test it out for our 131072 hidden units model\u001b[0m\u001b[0;34m\u001b[0m\u001b[0;34m\u001b[0m\u001b[0m\n\u001b[0;32m----> 2\u001b[0;31m \u001b[0maccuracy_by_digit\u001b[0m\u001b[0;34m(\u001b[0m\u001b[0mmodels\u001b[0m\u001b[0;34m[\u001b[0m\u001b[0;36m14\u001b[0m\u001b[0;34m]\u001b[0m\u001b[0;34m,\u001b[0m \u001b[0mtest_loader\u001b[0m\u001b[0;34m)\u001b[0m\u001b[0;34m\u001b[0m\u001b[0;34m\u001b[0m\u001b[0m\n\u001b[0m",
            "\u001b[0;31mIndexError\u001b[0m: list index out of range"
          ]
        }
      ],
      "source": [
        "\n",
        "# Test it out for our 131072 hidden units model\n",
        "accuracy_by_digit(models[14], test_loader)"
      ]
    },
    {
      "cell_type": "code",
      "execution_count": null,
      "id": "3576385e",
      "metadata": {
        "lines_to_next_cell": 1,
        "id": "3576385e"
      },
      "outputs": [],
      "source": [
        "\n",
        "# Test it out for our 8 hidden units model\n",
        "accuracy_by_digit(models[0], test_loader)"
      ]
    },
    {
      "cell_type": "code",
      "execution_count": 17,
      "id": "54705f34",
      "metadata": {
        "lines_to_next_cell": 1,
        "id": "54705f34"
      },
      "outputs": [],
      "source": [
        "\n",
        "# Okay now we want to reframe our model using the key-value visualization\n",
        "# So it's time to implement the functions that will pull out the ith key and ith\n",
        "# value in our neural net.\n",
        "\n",
        "def pull_out_ith_key(model, i):\n",
        "  # TODO: Implement this (it should be just one line)\n",
        "  # raise NotImplementedError()\n",
        "  return model.fc1.weight[i]\n",
        "\n",
        "def pull_out_ith_value(model, i):\n",
        "  # TODO: Implement this (again should just be one line)\n",
        "  # raise NotImplementedError()\n",
        "  return model.fc2.weight[:, i]\n",
        "\n",
        "# Test code to make sure your code works!\n",
        "assert_tensors_within_epsilon(expected=torch.arange(1568, 2352), actual=pull_out_ith_key(example_simple_nn, 2))\n",
        "assert_tensors_within_epsilon(\n",
        "   expected=torch.tensor([ 2.,  8., 14., 20., 26., 32., 38., 44., 50., 56.]),\n",
        "   actual=pull_out_ith_value(example_simple_nn, 2)\n",
        ")"
      ]
    },
    {
      "cell_type": "code",
      "execution_count": 18,
      "id": "f9894749",
      "metadata": {
        "lines_to_next_cell": 1,
        "id": "f9894749"
      },
      "outputs": [],
      "source": [
        "\n",
        "# This is all a lot of visualization code which you can either read or just run.\n",
        "\n",
        "#plots the image\n",
        "def visualize_image(image):\n",
        "  plt.imshow(image.detach().numpy(), cmap='viridis')\n",
        "  plt.axis('off')\n",
        "  plt.show()\n",
        "\n",
        "#plots the heatmap of a key\n",
        "def visualize_ith_key(model, i):\n",
        "  key = pull_out_ith_key(model, i).reshape(28, 28)\n",
        "  key_bias = model.fc1.bias[i]\n",
        "  plt.imshow(key.detach().numpy(), cmap='viridis')\n",
        "  plt.axis('off')\n",
        "  plt.title(f'Key {i} (bias: {key_bias})')\n",
        "  plt.show()\n",
        "\n",
        "#plots a heatmap of a value\n",
        "def visualize_ith_value(model, i):\n",
        "  value = pull_out_ith_value(model, i).unsqueeze(0)\n",
        "  plt.imshow(value.detach().numpy(), cmap='viridis')\n",
        "  for x in range(value.shape[1]):\n",
        "    plt.text(x, 0, f'{value[0, x].item():.3f}', ha='center', va='center', color='red', fontsize=6)\n",
        "  plt.axis('off')\n",
        "  plt.title(f'Value {i}')\n",
        "  plt.show()\n",
        "\n",
        "#visualizes the global value bias for each digit, or the baseline before any interactions\n",
        "def visualize_value_bias(model):\n",
        "  value = model.fc2.bias.unsqueeze(0)\n",
        "  plt.imshow(value.detach().numpy(), cmap='viridis')\n",
        "  for x in range(value.shape[1]):\n",
        "    plt.text(x, 0, f'{value[0, x].item():.3f}', ha='center', va='center', color='red', fontsize=6)\n",
        "  plt.axis('off')\n",
        "  plt.title(f'Global value bias')\n",
        "  plt.show()\n",
        "\n",
        "#combines the above 3 visualization functions\n",
        "def visualize_ith_key_value(model, i):\n",
        "  visualize_ith_key(model, i)\n",
        "  visualize_ith_value(model, i)\n",
        "  visualize_value_bias(model)\n",
        "\n",
        "#Shows most influential interaction areas between an image and key\n",
        "def visualize_element_wise_multi_of_key_image(model, i, image):\n",
        "  key = model.fc1.weight[i].reshape(28, 28)\n",
        "  element_wise_multi = key * image\n",
        "  plt.imshow(element_wise_multi.detach().numpy(), cmap='viridis')\n",
        "  plt.axis('off')\n",
        "  plt.title(f'Element-wise multiplication of key {i} with image')\n",
        "  plt.show()\n",
        "  print(f\"Dot-Product: {torch.sum(element_wise_multi)}\")\n",
        "\n",
        "#combines all of the above visualization functions\n",
        "def visualize_ith_key_value_on_image(model, i, image):\n",
        "  visualize_ith_key_value(model, i)\n",
        "  visualize_element_wise_multi_of_key_image(model, i, image)\n"
      ]
    },
    {
      "cell_type": "code",
      "execution_count": null,
      "id": "dd7b8800",
      "metadata": {
        "id": "dd7b8800"
      },
      "outputs": [],
      "source": [
        "\n",
        "# Now that we have a way of pulling out keys and values, we can put that all\n",
        "# together to visualize a particular key-value pair!\n",
        "#\n",
        "# You might notice that this particular key (if you're using the pre-trained\n",
        "# model weights) looks visually kind of like a nine, and lo and behold, when you\n",
        "# go to the value vector that is getting written out, the highest activation is\n",
        "# a 9!\n",
        "\n",
        "visualize_ith_key_value(models[14].cpu(), 246)\n",
        "\n",
        "# Go ahead and play around with other key value pairs and see if you can make\n",
        "# sense of them."
      ]
    },
    {
      "cell_type": "code",
      "execution_count": 19,
      "id": "32e950d5",
      "metadata": {
        "lines_to_next_cell": 1,
        "id": "32e950d5"
      },
      "outputs": [],
      "source": [
        "\n",
        "# It's often useful to find which value vectors we have that tend to write\n",
        "# strongly for certain kinds of digits.\n",
        "#\n",
        "# Here is one very rough stab at the problem that just looks for any value\n",
        "# vector that has a value over a certain threshold for that digit. We'll quickly\n",
        "# show a slightly less rough stab in just a moment.\n",
        "\n",
        "def find_values_for_digit_over_threshold(model, digit, threshold=0.3):\n",
        "  return torch.tensor([idx for idx in range(model.fc2.weight.shape[1]) if model.fc2.weight[digit, idx] > threshold])"
      ]
    },
    {
      "cell_type": "code",
      "execution_count": null,
      "id": "7ddd6a9a",
      "metadata": {
        "colab": {
          "base_uri": "https://localhost:8080/"
        },
        "id": "7ddd6a9a",
        "outputId": "425c1686-d817-452a-bbe3-292c3f5cb33c"
      },
      "outputs": [
        {
          "output_type": "execute_result",
          "data": {
            "text/plain": [
              "tensor([51440])"
            ]
          },
          "metadata": {},
          "execution_count": 19
        }
      ],
      "source": [
        "\n",
        "# This finds those values which have an entry of over 0.4 in the 0 digit place.\n",
        "\n",
        "find_values_for_digit_over_threshold(models[14], 0, threshold=0.4)\n",
        "\n",
        "# Feel free to feed this into visualize_ith_key_value to see what that key_value pair looks like!"
      ]
    },
    {
      "cell_type": "code",
      "execution_count": 20,
      "id": "70c3292e",
      "metadata": {
        "lines_to_next_cell": 1,
        "id": "70c3292e"
      },
      "outputs": [],
      "source": [
        "\n",
        "# Let's see a little bit more of how this key-value reframing of a vanilla\n",
        "# neural net can help us understand things better.\n",
        "#\n",
        "# For example, we might hypothesize that the key which corresponds to a value vector\n",
        "# that has a large positive value at 0 and small magnitude values for all other digits\n",
        "# should look like a circle.\n",
        "#\n",
        "# Note that this is not obviously true! It might be the case that a model pieces\n",
        "# together a zero exclusively by piecing together different arcs of a circle\n",
        "# with no key actually being a full circle.\n",
        "#\n",
        "# But we can go ahead and test that right now. First we'll need to build a\n",
        "# function that can find those key-value pairs which have values concentrated\n",
        "# mostly on one digit and not as much on the others.\n",
        "#\n",
        "# This can be a bit finicky and hard to specify, so we've provided a\n",
        "# rough-and-tumble version for you to use right here.\n",
        "\n",
        "def find_values_for_sole_digit(model, digit, digit_threshold=0.16, other_digits_threshold=0.07):\n",
        "  result = []\n",
        "  for idx in range(model.fc2.weight.shape[1]):\n",
        "    other_digits = torch.abs(model.fc2.weight[:, idx])\n",
        "    other_digits[digit] = 0\n",
        "    max_of_other_digits = torch.max(other_digits)\n",
        "    if max_of_other_digits.item() > other_digits_threshold:\n",
        "      continue\n",
        "    elif model.fc2.weight[digit, idx] > digit_threshold:\n",
        "      result.append(idx)\n",
        "  return torch.tensor(result)"
      ]
    },
    {
      "cell_type": "code",
      "execution_count": null,
      "id": "92bc2876",
      "metadata": {
        "colab": {
          "base_uri": "https://localhost:8080/"
        },
        "id": "92bc2876",
        "outputId": "4abe89be-1575-45a7-c0c4-8f887049fdd7"
      },
      "outputs": [
        {
          "output_type": "execute_result",
          "data": {
            "text/plain": [
              "tensor([  5485,  11311,  11634,  15459,  15604,  17996,  18248,  21318,  33602,\n",
              "         33827,  34147,  40629,  42341,  45081,  46158,  47688,  48302,  48622,\n",
              "         48878,  52226,  57769,  58184,  61879,  62252,  63380,  64617,  67164,\n",
              "         75087,  79940,  82689,  83456,  86997,  87504,  89855,  92883,  95605,\n",
              "         97319,  97940, 100654, 100875, 101066, 104672, 104794, 105271, 108030,\n",
              "        108824, 110081, 110733, 111268, 115880, 117186, 117987, 122741, 126381,\n",
              "        126759])"
            ]
          },
          "metadata": {},
          "execution_count": 21
        }
      ],
      "source": [
        "\n",
        "# So this for example finds those key-value pairs which tend to write very\n",
        "# strongly to the digit 2 happening, but very little for anything else.\n",
        "find_values_for_sole_digit(models[14], 2)"
      ]
    },
    {
      "cell_type": "code",
      "execution_count": null,
      "id": "3685d0dd",
      "metadata": {
        "lines_to_next_cell": 1,
        "id": "3685d0dd"
      },
      "outputs": [],
      "source": [
        "\n",
        "# Let's now find those key-value pairs which tend to write strongly to the digit\n",
        "# 0, but very little for everything else, and just analyze the first three of\n",
        "# those key-value pairs. This will let us validate our hypothesis of whether we\n",
        "# have keys that are looking for circles, or just fragmentary arcs of circles.\n",
        "\n",
        "digit_to_analyze = 0\n",
        "\n",
        "indices_that_fire_mainly_on_select_digit = find_values_for_sole_digit(models[14], digit_to_analyze)\n",
        "for idx in indices_that_fire_mainly_on_select_digit[:3]:\n",
        "  visualize_ith_key_value(models[14].to(\"cpu\"), idx)"
      ]
    },
    {
      "cell_type": "code",
      "execution_count": null,
      "id": "e206df90",
      "metadata": {
        "id": "e206df90"
      },
      "outputs": [],
      "source": [
        "\n",
        "# TODO: Look at the results and what they tell you. Talk with your partner or\n",
        "# group about what you're seeing. Once you've done that, delete this\n",
        "# NotImplementedError and move on.\n",
        "# raise NotImplementedError()"
      ]
    },
    {
      "cell_type": "code",
      "execution_count": 21,
      "id": "628141be",
      "metadata": {
        "lines_to_next_cell": 1,
        "id": "628141be"
      },
      "outputs": [],
      "source": [
        "\n",
        "# This function will give us the internal outputs of all the keys and values for\n",
        "# a given image. In other words this will return the dot product of each key\n",
        "# with the image (combined with the bias per key) and will also return the\n",
        "# scaled value vector.\n",
        "#\n",
        "# If this is confusing to you, it may be helpful to go back to the slides and\n",
        "# look a little bit more at the break-down of how exactly we calculate a neural\n",
        "# net's output using the key-value paradigm.\n",
        "\n",
        "def compute_kv_outputs_for_image(model, input_image):\n",
        "  flattened_img = model.flatten(input_image)\n",
        "  output_after_keys = model.fc1(flattened_img)\n",
        "  output_after_relu = model.relu(output_after_keys)\n",
        "  # We ultimately want to multiple all the components of each value vector by\n",
        "  # the same value, so we need to do a repeat first and then we can do a\n",
        "  # standard element-wise tensor multiplication\n",
        "  #\n",
        "  # But this is just the same as broadcasting, so we just use that instead\n",
        "  output_after_values = model.fc2.weight * output_after_relu\n",
        "  return output_after_keys, output_after_values"
      ]
    },
    {
      "cell_type": "code",
      "execution_count": 22,
      "id": "20ba20cc",
      "metadata": {
        "lines_to_next_cell": 1,
        "id": "20ba20cc",
        "colab": {
          "base_uri": "https://localhost:8080/"
        },
        "outputId": "72c55d81-9826-4976-cde6-759f17f7cf83"
      },
      "outputs": [
        {
          "output_type": "stream",
          "name": "stdout",
          "text": [
            "indices=tensor([1, 3])\n"
          ]
        }
      ],
      "source": [
        "\n",
        "def top_indices_by_tail_sum(tensor: torch.Tensor, threshold: float) -> torch.Tensor:\n",
        "    \"\"\"\n",
        "    Given a 1D tensor and a threshold, returns the indices of the largest values\n",
        "    such that the sum of all smaller values (i.e. the “tail” after that point)\n",
        "    is <= threshold.\n",
        "    \"\"\"\n",
        "    assert tensor.dim() == 1, \"Only works on 1D tensors\"\n",
        "    # Sort descending\n",
        "    sorted_vals, sorted_idx = tensor.sort(descending=True)\n",
        "    # Compute cumulative sum of the sorted values\n",
        "    cumsum = sorted_vals.cumsum(dim=0)\n",
        "    total = cumsum[-1]\n",
        "    # tail_sums[i] = sum(sorted_vals[i+1:])\n",
        "    tail_sums = total - cumsum\n",
        "    # find the first position where tail_sums <= threshold\n",
        "    mask = tail_sums <= threshold\n",
        "    if not mask.any():\n",
        "        # no cutoff—tail never drops below threshold, so return empty\n",
        "        return torch.empty(0, dtype=torch.long)\n",
        "    cutoff = mask.nonzero(as_tuple=False)[0].item()\n",
        "    # keep everything up to and including cutoff\n",
        "    return sorted_idx[:cutoff + 1]\n",
        "\n",
        "# Example\n",
        "x = torch.tensor([1, 4, 2, 3, 1], dtype=torch.float)\n",
        "indices = top_indices_by_tail_sum(x, threshold=4)\n",
        "print(f\"{indices=}\")  # tensor([1, 3])\n",
        "\n",
        "#returns the most influential key-value pairs for an image\n",
        "def list_top_kv_pair_idxs(model, input_image, excess_abs_weight=500):\n",
        "  _, output_after_values = compute_kv_outputs_for_image(model, input_image)\n",
        "  abs_values = einops.einsum(torch.abs(output_after_values), \"digits num_of_values -> num_of_values\")\n",
        "  indices = top_indices_by_tail_sum(abs_values, excess_abs_weight)\n",
        "  return indices\n"
      ]
    },
    {
      "cell_type": "code",
      "execution_count": 23,
      "id": "faa6d477",
      "metadata": {
        "id": "faa6d477",
        "colab": {
          "base_uri": "https://localhost:8080/",
          "height": 176
        },
        "outputId": "02d2732e-bcd9-4514-9469-9f63e24c94cc"
      },
      "outputs": [
        {
          "output_type": "error",
          "ename": "IndexError",
          "evalue": "list index out of range",
          "traceback": [
            "\u001b[0;31m---------------------------------------------------------------------------\u001b[0m",
            "\u001b[0;31mIndexError\u001b[0m                                Traceback (most recent call last)",
            "\u001b[0;32m/tmp/ipython-input-23-1177624741.py\u001b[0m in \u001b[0;36m<cell line: 0>\u001b[0;34m()\u001b[0m\n\u001b[1;32m      7\u001b[0m \u001b[0;34m\u001b[0m\u001b[0m\n\u001b[1;32m      8\u001b[0m \u001b[0;31m# You should see that the two print statements print the same values\u001b[0m\u001b[0;34m\u001b[0m\u001b[0;34m\u001b[0m\u001b[0m\n\u001b[0;32m----> 9\u001b[0;31m \u001b[0msanity_check_kv_outputs\u001b[0m\u001b[0;34m(\u001b[0m\u001b[0mmodels\u001b[0m\u001b[0;34m[\u001b[0m\u001b[0;36m14\u001b[0m\u001b[0;34m]\u001b[0m\u001b[0;34m,\u001b[0m \u001b[0mtrain_dataset\u001b[0m\u001b[0;34m[\u001b[0m\u001b[0;36m0\u001b[0m\u001b[0;34m]\u001b[0m\u001b[0;34m[\u001b[0m\u001b[0;36m0\u001b[0m\u001b[0;34m]\u001b[0m\u001b[0;34m.\u001b[0m\u001b[0mcpu\u001b[0m\u001b[0;34m(\u001b[0m\u001b[0;34m)\u001b[0m\u001b[0;34m)\u001b[0m\u001b[0;34m\u001b[0m\u001b[0;34m\u001b[0m\u001b[0m\n\u001b[0m",
            "\u001b[0;31mIndexError\u001b[0m: list index out of range"
          ]
        }
      ],
      "source": [
        "\n",
        "# Let's prove to ourselves that the key-value paradigm of calculating things is equal to the normal layer-by-layer interpretation\n",
        "def sanity_check_kv_outputs(model, input_image):\n",
        "  _, output_after_values = compute_kv_outputs_for_image(model, input_image)\n",
        "  output_plus_bias = einops.einsum(output_after_values, \"digits num_of_values -> digits\") + model.fc2.bias\n",
        "  print(f\"{output_plus_bias.softmax(dim=-1)=}\")\n",
        "  print(f\"{model(input_image)=}\")\n",
        "\n",
        "# You should see that the two print statements print the same values\n",
        "sanity_check_kv_outputs(models[14], train_dataset[0][0].cpu())"
      ]
    },
    {
      "cell_type": "code",
      "execution_count": null,
      "id": "b1f41ee2",
      "metadata": {
        "colab": {
          "base_uri": "https://localhost:8080/"
        },
        "id": "b1f41ee2",
        "outputId": "f2744b5f-6242-442b-822c-428fd5ad21b9"
      },
      "outputs": [
        {
          "output_type": "execute_result",
          "data": {
            "text/plain": [
              "tensor([ 22650,  97361,  22655, 116764,  96894,  45001,  60569,  18934, 119515,\n",
              "        111355, 130864,  67235,  88466,   7986,  48085, 120645,  20950,  91106,\n",
              "         81859, 105433,  98783,  81742,  73848,   6328,  49395,  43918,   8756,\n",
              "         40372,   8026, 102324,  96621,   8097,  27756,  59921,  95901,  41560,\n",
              "        124669,  32428,  33348,  31593,  73243,  54181,  40183, 122513,  30664,\n",
              "         78467,  43553,   8997,  84512,  39740, 109001,  55070,  31828,  81307,\n",
              "         64836,  67838,  15396, 121499,  59015,  59769,  29606,  91146,   4189,\n",
              "         79263, 101173, 124844,  87343,  27454, 128883,  40796, 114452, 119153,\n",
              "         79275,   5792,  30186,  28519, 120306])"
            ]
          },
          "metadata": {},
          "execution_count": 27
        }
      ],
      "source": [
        "\n",
        "# This will list the key-value pairs that write the value vectors with the largest magnitude.\n",
        "# This is a proxy for\n",
        "list_top_kv_pair_idxs(models[14], train_dataset[0][0].cpu(), 7000)"
      ]
    },
    {
      "cell_type": "code",
      "execution_count": null,
      "id": "7b3a5668",
      "metadata": {
        "colab": {
          "base_uri": "https://localhost:8080/",
          "height": 406
        },
        "id": "7b3a5668",
        "outputId": "9f53c282-d3d5-47a7-9e76-ff28273aeebf"
      },
      "outputs": [
        {
          "output_type": "display_data",
          "data": {
            "text/plain": [
              "<Figure size 640x480 with 1 Axes>"
            ],
            "image/png": "[encoded data removed]"
          },
          "metadata": {}
        }
      ],
      "source": [
        "\n",
        "visualize_image(train_dataset[0][0].cpu().squeeze())"
      ]
    },
    {
      "cell_type": "code",
      "execution_count": null,
      "id": "c26de567",
      "metadata": {
        "lines_to_next_cell": 1,
        "id": "c26de567"
      },
      "outputs": [],
      "source": [
        "\n",
        "visualize_ith_key_value_on_image(models[14], 14219, train_dataset[0][0].cpu().squeeze())"
      ]
    },
    {
      "cell_type": "code",
      "execution_count": 24,
      "id": "dedd5285",
      "metadata": {
        "colab": {
          "base_uri": "https://localhost:8080/",
          "height": 176
        },
        "id": "dedd5285",
        "outputId": "59aac584-0385-4790-e709-cf59a1c862bf"
      },
      "outputs": [
        {
          "output_type": "error",
          "ename": "IndexError",
          "evalue": "list index out of range",
          "traceback": [
            "\u001b[0;31m---------------------------------------------------------------------------\u001b[0m",
            "\u001b[0;31mIndexError\u001b[0m                                Traceback (most recent call last)",
            "\u001b[0;32m/tmp/ipython-input-24-2233061184.py\u001b[0m in \u001b[0;36m<cell line: 0>\u001b[0;34m()\u001b[0m\n\u001b[1;32m      8\u001b[0m   \u001b[0;32mreturn\u001b[0m \u001b[0mvar_indices\u001b[0m\u001b[0;34m\u001b[0m\u001b[0;34m\u001b[0m\u001b[0m\n\u001b[1;32m      9\u001b[0m \u001b[0;34m\u001b[0m\u001b[0m\n\u001b[0;32m---> 10\u001b[0;31m \u001b[0mtop_5_kv_pairs_by_value_variance\u001b[0m \u001b[0;34m=\u001b[0m \u001b[0msort_by_value_variance\u001b[0m\u001b[0;34m(\u001b[0m\u001b[0mmodels\u001b[0m\u001b[0;34m[\u001b[0m\u001b[0;36m14\u001b[0m\u001b[0;34m]\u001b[0m\u001b[0;34m,\u001b[0m \u001b[0mtrain_dataset\u001b[0m\u001b[0;34m[\u001b[0m\u001b[0;36m0\u001b[0m\u001b[0;34m]\u001b[0m\u001b[0;34m[\u001b[0m\u001b[0;36m0\u001b[0m\u001b[0;34m]\u001b[0m\u001b[0;34m.\u001b[0m\u001b[0mcpu\u001b[0m\u001b[0;34m(\u001b[0m\u001b[0;34m)\u001b[0m\u001b[0;34m)\u001b[0m\u001b[0;34m[\u001b[0m\u001b[0;34m:\u001b[0m\u001b[0;34m,\u001b[0m \u001b[0;34m:\u001b[0m\u001b[0;36m5\u001b[0m\u001b[0;34m]\u001b[0m\u001b[0;34m\u001b[0m\u001b[0;34m\u001b[0m\u001b[0m\n\u001b[0m",
            "\u001b[0;31mIndexError\u001b[0m: list index out of range"
          ]
        }
      ],
      "source": [
        "\n",
        "#finds the most variable key-value pairs\n",
        "def sort_by_value_variance(model, input_image):\n",
        "  _, output_after_values = compute_kv_outputs_for_image(model, input_image)\n",
        "  print(f\"{torch.var(output_after_values, dim=-1, keepdim=True).shape=}\")\n",
        "  variances = torch.var(output_after_values, dim=0, keepdim=True)\n",
        "  var_values, var_indices = torch.sort(variances, dim=-1, descending=True)\n",
        "  print(f\"{var_indices.shape=}\")\n",
        "  return var_indices\n",
        "\n",
        "top_5_kv_pairs_by_value_variance = sort_by_value_variance(models[14], train_dataset[0][0].cpu())[:, :5]"
      ]
    },
    {
      "cell_type": "code",
      "execution_count": null,
      "id": "e719f395",
      "metadata": {
        "lines_to_next_cell": 1,
        "colab": {
          "base_uri": "https://localhost:8080/",
          "height": 1000
        },
        "id": "e719f395",
        "outputId": "4411f9f5-b583-48ba-b3e7-4cd215c2128d"
      },
      "outputs": [
        {
          "output_type": "display_data",
          "data": {
            "text/plain": [
              "<Figure size 640x480 with 1 Axes>"
            ],
            "image/png": "[encoded data removed]"
          },
          "metadata": {}
        },
        {
          "output_type": "display_data",
          "data": {
            "text/plain": [
              "<Figure size 640x480 with 1 Axes>"
            ],
            "image/png": "[encoded data removed]"
          },
          "metadata": {}
        },
        {
          "output_type": "display_data",
          "data": {
            "text/plain": [
              "<Figure size 640x480 with 1 Axes>"
            ],
            "image/png": "[encoded data removed]"
          },
          "metadata": {}
        },
        {
          "output_type": "display_data",
          "data": {
            "text/plain": [
              "<Figure size 640x480 with 1 Axes>"
            ],
            "image/png": "[encoded data removed]"
          },
          "metadata": {}
        },
        {
          "output_type": "stream",
          "name": "stdout",
          "text": [
            "Dot-Product: 7.203427791595459\n"
          ]
        }
      ],
      "source": [
        "\n",
        "visualize_ith_key_value_on_image(models[14], 22650, train_dataset[0][0].cpu().squeeze())"
      ]
    },
    {
      "cell_type": "code",
      "execution_count": 25,
      "id": "04e0921c",
      "metadata": {
        "colab": {
          "base_uri": "https://localhost:8080/",
          "height": 176
        },
        "id": "04e0921c",
        "outputId": "cf055293-d0c7-413b-ea7b-f6d58e16fd2d"
      },
      "outputs": [
        {
          "output_type": "error",
          "ename": "IndexError",
          "evalue": "list index out of range",
          "traceback": [
            "\u001b[0;31m---------------------------------------------------------------------------\u001b[0m",
            "\u001b[0;31mIndexError\u001b[0m                                Traceback (most recent call last)",
            "\u001b[0;32m/tmp/ipython-input-25-3299133976.py\u001b[0m in \u001b[0;36m<cell line: 0>\u001b[0;34m()\u001b[0m\n\u001b[1;32m     12\u001b[0m   \u001b[0mprint\u001b[0m\u001b[0;34m(\u001b[0m\u001b[0;34mf\"{large_total_sum_and_nine_elems_close_to_0=}\"\u001b[0m\u001b[0;34m)\u001b[0m\u001b[0;34m\u001b[0m\u001b[0;34m\u001b[0m\u001b[0m\n\u001b[1;32m     13\u001b[0m \u001b[0;34m\u001b[0m\u001b[0m\n\u001b[0;32m---> 14\u001b[0;31m \u001b[0mfind_values_with_mostly_zeroes\u001b[0m\u001b[0;34m(\u001b[0m\u001b[0mmodels\u001b[0m\u001b[0;34m[\u001b[0m\u001b[0;36m14\u001b[0m\u001b[0;34m]\u001b[0m\u001b[0;34m)\u001b[0m\u001b[0;34m\u001b[0m\u001b[0;34m\u001b[0m\u001b[0m\n\u001b[0m",
            "\u001b[0;31mIndexError\u001b[0m: list index out of range"
          ]
        }
      ],
      "source": [
        "\n",
        "#finds key-value pairs that react almost only to one digit\n",
        "def find_values_with_mostly_zeroes(model):\n",
        "  values = model.fc2.weight\n",
        "  num_of_elems_close_to_0 = torch.abs(values) < 0.05\n",
        "  print(f\"{values.shape=}\")\n",
        "  print(f\"{num_of_elems_close_to_0.shape=}\")\n",
        "  nine_elems_close_to_0 = torch.sum(num_of_elems_close_to_0, dim=0) == 9\n",
        "  indices_with_one_non_zero_elem = torch.nonzero(nine_elems_close_to_0).squeeze()\n",
        "  large_total_sums = torch.nonzero(torch.sum(values, dim=0) > 0.18).squeeze()\n",
        "  print(f\"{indices_with_one_non_zero_elem.shape=}\")\n",
        "  large_total_sum_and_nine_elems_close_to_0 = indices_with_one_non_zero_elem[torch.isin(indices_with_one_non_zero_elem, large_total_sums)]\n",
        "  print(f\"{large_total_sum_and_nine_elems_close_to_0=}\")\n",
        "\n",
        "find_values_with_mostly_zeroes(models[14])"
      ]
    },
    {
      "cell_type": "code",
      "execution_count": null,
      "id": "5b56ca20",
      "metadata": {
        "id": "5b56ca20"
      },
      "outputs": [],
      "source": [
        "\n",
        "visualize_ith_key_value(models[14].cpu(), 905)"
      ]
    },
    {
      "cell_type": "code",
      "execution_count": null,
      "id": "85950725",
      "metadata": {
        "id": "85950725"
      },
      "outputs": [],
      "source": [
        "\n",
        "visualize_image(train_dataset[5][0].cpu().squeeze())"
      ]
    },
    {
      "cell_type": "code",
      "execution_count": null,
      "id": "78f40fbe",
      "metadata": {
        "id": "78f40fbe"
      },
      "outputs": [],
      "source": [
        "\n",
        "list_top_kv_pair_idxs(models[14], train_dataset[5][0].cpu(), 5500)"
      ]
    },
    {
      "cell_type": "code",
      "execution_count": null,
      "id": "4b7b1a5f",
      "metadata": {
        "id": "4b7b1a5f"
      },
      "outputs": [],
      "source": [
        "\n",
        "visualize_ith_key_value_on_image(models[14].cpu(), 905, train_dataset[5][0].cpu().squeeze())"
      ]
    },
    {
      "cell_type": "code",
      "execution_count": null,
      "id": "f625ac93",
      "metadata": {
        "id": "f625ac93"
      },
      "outputs": [],
      "source": [
        "\n",
        "visualize_image(train_dataset[3][0].cpu().squeeze())"
      ]
    },
    {
      "cell_type": "code",
      "execution_count": null,
      "id": "7567090d",
      "metadata": {
        "id": "7567090d"
      },
      "outputs": [],
      "source": [
        "\n",
        "list_top_kv_pair_idxs(models[0].cpu(), train_dataset[3][0].cpu(), 10_000)"
      ]
    },
    {
      "cell_type": "code",
      "execution_count": null,
      "id": "dba21395",
      "metadata": {
        "id": "dba21395"
      },
      "outputs": [],
      "source": [
        "\n",
        "models[0].cpu()(train_dataset[3][0].cpu()).squeeze()"
      ]
    },
    {
      "cell_type": "code",
      "execution_count": null,
      "id": "a96a5d7a",
      "metadata": {
        "lines_to_next_cell": 1,
        "id": "a96a5d7a"
      },
      "outputs": [],
      "source": [
        "\n",
        "visualize_ith_key_value_on_image(models[0].cpu(), 7, train_dataset[3][0].cpu().squeeze())"
      ]
    },
    {
      "cell_type": "code",
      "execution_count": 26,
      "id": "e91cb8a8",
      "metadata": {
        "colab": {
          "base_uri": "https://localhost:8080/",
          "height": 211
        },
        "id": "e91cb8a8",
        "outputId": "99ba54a2-8f6e-4cf9-e14e-8c7223769823"
      },
      "outputs": [
        {
          "output_type": "error",
          "ename": "IndexError",
          "evalue": "list index out of range",
          "traceback": [
            "\u001b[0;31m---------------------------------------------------------------------------\u001b[0m",
            "\u001b[0;31mIndexError\u001b[0m                                Traceback (most recent call last)",
            "\u001b[0;32m/tmp/ipython-input-26-306032694.py\u001b[0m in \u001b[0;36m<cell line: 0>\u001b[0;34m()\u001b[0m\n\u001b[1;32m     11\u001b[0m \u001b[0mtrain_images\u001b[0m \u001b[0;34m=\u001b[0m \u001b[0mtorch\u001b[0m\u001b[0;34m.\u001b[0m\u001b[0mstack\u001b[0m\u001b[0;34m(\u001b[0m\u001b[0;34m[\u001b[0m\u001b[0mimg\u001b[0m \u001b[0;32mfor\u001b[0m \u001b[0mimg\u001b[0m\u001b[0;34m,\u001b[0m \u001b[0m_\u001b[0m \u001b[0;32min\u001b[0m \u001b[0mtrain_dataset\u001b[0m\u001b[0;34m]\u001b[0m\u001b[0;34m)\u001b[0m\u001b[0;34m\u001b[0m\u001b[0;34m\u001b[0m\u001b[0m\n\u001b[1;32m     12\u001b[0m \u001b[0;34m\u001b[0m\u001b[0m\n\u001b[0;32m---> 13\u001b[0;31m \u001b[0mresult\u001b[0m \u001b[0;34m=\u001b[0m \u001b[0msort_highest_activating_image_for_key\u001b[0m\u001b[0;34m(\u001b[0m\u001b[0mmodels\u001b[0m\u001b[0;34m[\u001b[0m\u001b[0;36m14\u001b[0m\u001b[0;34m]\u001b[0m\u001b[0;34m.\u001b[0m\u001b[0mcpu\u001b[0m\u001b[0;34m(\u001b[0m\u001b[0;34m)\u001b[0m\u001b[0;34m,\u001b[0m \u001b[0;36m905\u001b[0m\u001b[0;34m,\u001b[0m \u001b[0mtrain_images\u001b[0m\u001b[0;34m.\u001b[0m\u001b[0mcpu\u001b[0m\u001b[0;34m(\u001b[0m\u001b[0;34m)\u001b[0m\u001b[0;34m)\u001b[0m\u001b[0;34m\u001b[0m\u001b[0;34m\u001b[0m\u001b[0m\n\u001b[0m\u001b[1;32m     14\u001b[0m \u001b[0;34m\u001b[0m\u001b[0m\n\u001b[1;32m     15\u001b[0m \u001b[0mprint\u001b[0m\u001b[0;34m(\u001b[0m\u001b[0;34mf\"{result=}\"\u001b[0m\u001b[0;34m)\u001b[0m\u001b[0;34m\u001b[0m\u001b[0;34m\u001b[0m\u001b[0m\n",
            "\u001b[0;31mIndexError\u001b[0m: list index out of range"
          ]
        }
      ],
      "source": [
        "\n",
        "# This finds the image that activates mostly strongly for a given key.\n",
        "\n",
        "def sort_highest_activating_image_for_key(model, key_value_idx, input_images):\n",
        "  key = model.fc1.weight[key_value_idx, :]\n",
        "  print(f\"{input_images.shape=}\")\n",
        "  flattened_images = model.flatten(input_images)\n",
        "  dot_products = einops.einsum(key, flattened_images, \"key_dim, batch key_dim -> batch\")\n",
        "  _, indices_by_dot_product = torch.sort(dot_products, descending=True)\n",
        "  return indices_by_dot_product\n",
        "\n",
        "train_images = torch.stack([img for img, _ in train_dataset])\n",
        "\n",
        "result = sort_highest_activating_image_for_key(models[14].cpu(), 905, train_images.cpu())\n",
        "\n",
        "print(f\"{result=}\")\n",
        "\n",
        "visualize_image(train_images[result][5].cpu().squeeze())"
      ]
    },
    {
      "cell_type": "code",
      "execution_count": null,
      "id": "eba0f528",
      "metadata": {
        "colab": {
          "base_uri": "https://localhost:8080/",
          "height": 1000
        },
        "id": "eba0f528",
        "outputId": "b7b000ff-baa9-48aa-8dcf-d725092894cc"
      },
      "outputs": [
        {
          "output_type": "display_data",
          "data": {
            "text/plain": [
              "<Figure size 640x480 with 1 Axes>"
            ],
            "image/png": "[encoded data removed]"
          },
          "metadata": {}
        },
        {
          "output_type": "display_data",
          "data": {
            "text/plain": [
              "<Figure size 640x480 with 1 Axes>"
            ],
            "image/png": "[encoded data removed]"
          },
          "metadata": {}
        },
        {
          "output_type": "display_data",
          "data": {
            "text/plain": [
              "<Figure size 640x480 with 1 Axes>"
            ],
            "image/png": "[encoded data removed]"
          },
          "metadata": {}
        },
        {
          "output_type": "display_data",
          "data": {
            "text/plain": [
              "<Figure size 640x480 with 1 Axes>"
            ],
            "image/png": "[encoded data removed]"
          },
          "metadata": {}
        },
        {
          "output_type": "stream",
          "name": "stdout",
          "text": [
            "Dot-Product: 2.1255877017974854\n"
          ]
        }
      ],
      "source": [
        "\n",
        "visualize_ith_key_value_on_image(models[14].cpu(), 905, train_dataset[2019][0].cpu().squeeze())"
      ]
    },
    {
      "cell_type": "code",
      "execution_count": 27,
      "id": "c48eb9c0",
      "metadata": {
        "lines_to_next_cell": 1,
        "id": "c48eb9c0"
      },
      "outputs": [],
      "source": [
        "\n",
        "import copy\n",
        "\n",
        "def delete_by_index(x: torch.Tensor, indices, dim: int = 0):\n",
        "    \"\"\"\n",
        "    Return a new tensor with the specified indices removed along `dim`.\n",
        "\n",
        "    Args\n",
        "    ----\n",
        "    x (torch.Tensor): input tensor\n",
        "    indices (Sequence[int] | torch.Tensor): positions to delete\n",
        "    dim (int): dimension along which to delete (default 0)\n",
        "\n",
        "    Example\n",
        "    -------\n",
        "    >>> t = torch.tensor([[10, 11],\n",
        "    ...                   [20, 21],\n",
        "    ...                   [30, 31],\n",
        "    ...                   [40, 41]])\n",
        "    >>> delete_by_index(t, [1, 3])\n",
        "    tensor([[10, 11],\n",
        "            [30, 31]])\n",
        "    \"\"\"\n",
        "    # Ensure we have a 1-D LongTensor of unique, sorted indices on the same device\n",
        "    idx = torch.as_tensor(indices, dtype=torch.long, device=x.device).unique().sort().values\n",
        "\n",
        "    # Build a boolean mask that is False at the indices we want to drop\n",
        "    mask_shape = [1] * x.dim()\n",
        "    mask_shape[dim] = x.size(dim)\n",
        "    mask = torch.ones(mask_shape, dtype=torch.bool, device=x.device).squeeze()\n",
        "    mask[idx] = False\n",
        "\n",
        "    return x[mask] if dim == 0 else x.transpose(0, dim)[mask].transpose(0, dim)\n",
        "\n",
        "#removes a certain key from the model\n",
        "def knock_out_ith_key(model: SimpleNN, key_value_idx: torch.Tensor) -> SimpleNN:\n",
        "  with torch.no_grad():\n",
        "    new_model = copy.deepcopy(model)\n",
        "    new_model.fc1 = torch.nn.Linear(model.fc1.in_features, model.fc1.out_features - key_value_idx.shape[0])\n",
        "    new_model.fc2 = torch.nn.Linear(model.fc2.in_features - key_value_idx.shape[0], model.fc2.out_features)\n",
        "    new_model.fc1.weight = torch.nn.Parameter(delete_by_index(model.fc1.weight, key_value_idx))\n",
        "    new_model.fc1.bias = torch.nn.Parameter(delete_by_index(model.fc1.bias, key_value_idx))\n",
        "    new_model.fc2.weight = torch.nn.Parameter(delete_by_index(model.fc2.weight, key_value_idx, dim=1))\n",
        "    return new_model"
      ]
    },
    {
      "cell_type": "code",
      "execution_count": 17,
      "id": "78a325dc",
      "metadata": {
        "id": "78a325dc",
        "colab": {
          "base_uri": "https://localhost:8080/",
          "height": 158
        },
        "outputId": "70a1751e-b846-41ac-85c8-da29869edc2f"
      },
      "outputs": [
        {
          "output_type": "error",
          "ename": "NameError",
          "evalue": "name 'find_values_for_digit_over_threshold' is not defined",
          "traceback": [
            "\u001b[0;31m---------------------------------------------------------------------------\u001b[0m",
            "\u001b[0;31mNameError\u001b[0m                                 Traceback (most recent call last)",
            "\u001b[0;32m/tmp/ipython-input-17-2871149544.py\u001b[0m in \u001b[0;36m<cell line: 0>\u001b[0;34m()\u001b[0m\n\u001b[1;32m      1\u001b[0m \u001b[0;31m# Find all those key-value pairs which activate a lot for zero\u001b[0m\u001b[0;34m\u001b[0m\u001b[0;34m\u001b[0m\u001b[0m\n\u001b[0;32m----> 2\u001b[0;31m \u001b[0mall_values_that_activate_significantly_for_zero\u001b[0m \u001b[0;34m=\u001b[0m \u001b[0mfind_values_for_digit_over_threshold\u001b[0m\u001b[0;34m(\u001b[0m\u001b[0mmodels\u001b[0m\u001b[0;34m[\u001b[0m\u001b[0;36m14\u001b[0m\u001b[0;34m]\u001b[0m\u001b[0;34m,\u001b[0m \u001b[0;36m0\u001b[0m\u001b[0;34m,\u001b[0m \u001b[0mthreshold\u001b[0m\u001b[0;34m=\u001b[0m\u001b[0;36m0.1\u001b[0m\u001b[0;34m)\u001b[0m\u001b[0;34m\u001b[0m\u001b[0;34m\u001b[0m\u001b[0m\n\u001b[0m",
            "\u001b[0;31mNameError\u001b[0m: name 'find_values_for_digit_over_threshold' is not defined"
          ]
        }
      ],
      "source": [
        "\n",
        "# Find all those key-value pairs which activate a lot for zero\n",
        "all_values_that_activate_significantly_for_zero = find_values_for_digit_over_threshold(models[14], 0, threshold=0.1)"
      ]
    },
    {
      "cell_type": "code",
      "execution_count": null,
      "id": "54ce25a6",
      "metadata": {
        "id": "54ce25a6"
      },
      "outputs": [],
      "source": [
        "\n",
        "# Let's see if we can just selectively knock those out!\n",
        "model_with_0_knocked_out = knock_out_ith_key(models[14], all_values_that_activate_significantly_for_zero)"
      ]
    },
    {
      "cell_type": "code",
      "execution_count": null,
      "id": "937cfd35",
      "metadata": {
        "colab": {
          "base_uri": "https://localhost:8080/"
        },
        "id": "937cfd35",
        "outputId": "a84ec557-0d7e-4f73-a25e-074f0645e398"
      },
      "outputs": [
        {
          "output_type": "execute_result",
          "data": {
            "text/plain": [
              "[0.0020408163265306124,\n",
              " 0.9903083700440528,\n",
              " 0.939922480620155,\n",
              " 0.9445544554455445,\n",
              " 0.9786150712830958,\n",
              " 0.9753363228699552,\n",
              " 0.9572025052192067,\n",
              " 0.9766536964980544,\n",
              " 0.9620123203285421,\n",
              " 0.9355797819623389]"
            ]
          },
          "metadata": {},
          "execution_count": 46
        }
      ],
      "source": [
        "\n",
        "# And now we see that the model is basically entirely incapable of recognizing 0, but the rest of its capabilities are left intact!\n",
        "accuracy_by_digit(model_with_0_knocked_out.to(DEVICE), test_loader)"
      ]
    },
    {
      "cell_type": "code",
      "source": [
        "#finds key-value pairs that react not at all\n",
        "def find_values_with_almost_all_zeroes(model):\n",
        "  values = model.fc2.weight\n",
        "  num_of_elems_close_to_0 = torch.abs(values) < 0.05\n",
        "  print(f\"{values.shape=}\")\n",
        "  print(f\"{num_of_elems_close_to_0.shape=}\")\n",
        "  all_elems_close_to_0 = torch.sum(num_of_elems_close_to_0, dim=0) == 10\n",
        "  indices_with_no_non_zero_elem = torch.nonzero(all_elems_close_to_0).squeeze()\n",
        "  print(f\"{indices_with_no_non_zero_elem=}\")\n",
        "  return indices_with_no_non_zero_elem\n",
        "\n",
        "find_values_with_almost_all_zeroes(models[14])"
      ],
      "metadata": {
        "colab": {
          "base_uri": "https://localhost:8080/",
          "height": 176
        },
        "id": "SS2c3sqDjMq0",
        "outputId": "bc03e5db-2ab4-4d01-dedf-fbcd06c901b4"
      },
      "id": "SS2c3sqDjMq0",
      "execution_count": 28,
      "outputs": [
        {
          "output_type": "error",
          "ename": "IndexError",
          "evalue": "list index out of range",
          "traceback": [
            "\u001b[0;31m---------------------------------------------------------------------------\u001b[0m",
            "\u001b[0;31mIndexError\u001b[0m                                Traceback (most recent call last)",
            "\u001b[0;32m/tmp/ipython-input-28-2668251490.py\u001b[0m in \u001b[0;36m<cell line: 0>\u001b[0;34m()\u001b[0m\n\u001b[1;32m     10\u001b[0m   \u001b[0;32mreturn\u001b[0m \u001b[0mindices_with_no_non_zero_elem\u001b[0m\u001b[0;34m\u001b[0m\u001b[0;34m\u001b[0m\u001b[0m\n\u001b[1;32m     11\u001b[0m \u001b[0;34m\u001b[0m\u001b[0m\n\u001b[0;32m---> 12\u001b[0;31m \u001b[0mfind_values_with_almost_all_zeroes\u001b[0m\u001b[0;34m(\u001b[0m\u001b[0mmodels\u001b[0m\u001b[0;34m[\u001b[0m\u001b[0;36m14\u001b[0m\u001b[0;34m]\u001b[0m\u001b[0;34m)\u001b[0m\u001b[0;34m\u001b[0m\u001b[0;34m\u001b[0m\u001b[0m\n\u001b[0m",
            "\u001b[0;31mIndexError\u001b[0m: list index out of range"
          ]
        }
      ]
    },
    {
      "cell_type": "code",
      "source": [
        "\n",
        "#finds key-value pairs where the value is small for every digit\n",
        "def find_mostly_zero_values(model, threshold=0.05):\n",
        "  return torch.tensor([idx for idx in range(model.fc2.weight.shape[1]) if (torch.abs(model.fc2.weight[:, idx]) < threshold).all()])"
      ],
      "metadata": {
        "id": "VxeAyICgkqGN"
      },
      "id": "VxeAyICgkqGN",
      "execution_count": 29,
      "outputs": []
    },
    {
      "cell_type": "code",
      "source": [
        "#baseline\n",
        "all_values_that_are_mostly_zero_base = find_mostly_zero_values(models[1], threshold=0.0)"
      ],
      "metadata": {
        "id": "9XH3MN8_khH0"
      },
      "id": "9XH3MN8_khH0",
      "execution_count": null,
      "outputs": []
    },
    {
      "cell_type": "code",
      "source": [
        "\n",
        "model_with_mostly_zero_values_knocked_out_baseline = knock_out_ith_key(models[14], all_values_that_are_mostly_zero_base)\n",
        "print(f\"{model_with_mostly_zero_values_knocked_out_baseline.fc2.weight.shape}\")"
      ],
      "metadata": {
        "colab": {
          "base_uri": "https://localhost:8080/"
        },
        "id": "Qo6-7SB_kZJ0",
        "outputId": "03d25a6d-8bd1-43c5-db94-343c708221a2"
      },
      "id": "Qo6-7SB_kZJ0",
      "execution_count": null,
      "outputs": [
        {
          "output_type": "stream",
          "name": "stdout",
          "text": [
            "torch.Size([10, 131072])\n"
          ]
        }
      ]
    },
    {
      "cell_type": "code",
      "source": [
        "accuracy_by_digit(model_with_mostly_zero_values_knocked_out_baseline.to(DEVICE), test_loader)"
      ],
      "metadata": {
        "id": "wRhHVz1kxmAZ"
      },
      "id": "wRhHVz1kxmAZ",
      "execution_count": null,
      "outputs": []
    },
    {
      "cell_type": "code",
      "source": [
        "#0.05\n",
        "all_values_that_are_mostly_zero_05 = find_mostly_zero_values(models[1], threshold=0.05)"
      ],
      "metadata": {
        "id": "mEq0lrGAxSkx"
      },
      "id": "mEq0lrGAxSkx",
      "execution_count": null,
      "outputs": []
    },
    {
      "cell_type": "code",
      "source": [
        "\n",
        "model_with_mostly_zero_values_knocked_out_05 = knock_out_ith_key(models[1], all_values_that_are_mostly_zero_05)\n",
        "print(f\"{model_with_mostly_zero_values_knocked_out_05.fc2.weight.shape}\")"
      ],
      "metadata": {
        "colab": {
          "base_uri": "https://localhost:8080/"
        },
        "id": "cKf1T_TZxT4A",
        "outputId": "68569ae8-e653-4a32-b9a7-2ee2298fcbfa"
      },
      "id": "cKf1T_TZxT4A",
      "execution_count": null,
      "outputs": [
        {
          "output_type": "stream",
          "name": "stdout",
          "text": [
            "torch.Size([10, 50879])\n"
          ]
        }
      ]
    },
    {
      "cell_type": "code",
      "source": [
        "accuracy_by_digit(model_with_mostly_zero_values_knocked_out_05.to(DEVICE), test_loader)"
      ],
      "metadata": {
        "colab": {
          "base_uri": "https://localhost:8080/"
        },
        "id": "ZyiidUTLxpf6",
        "outputId": "80f6d0a9-fcd9-4b51-c8ac-4c2b86ca0172"
      },
      "id": "ZyiidUTLxpf6",
      "execution_count": null,
      "outputs": [
        {
          "output_type": "execute_result",
          "data": {
            "text/plain": [
              "[0.9826530612244898,\n",
              " 0.9876651982378855,\n",
              " 0.9486434108527132,\n",
              " 0.9356435643564357,\n",
              " 0.9684317718940937,\n",
              " 0.9663677130044843,\n",
              " 0.9603340292275574,\n",
              " 0.9698443579766537,\n",
              " 0.9527720739219713,\n",
              " 0.9494549058473737]"
            ]
          },
          "metadata": {},
          "execution_count": 32
        }
      ]
    },
    {
      "cell_type": "code",
      "source": [
        "#0.10\n",
        "all_values_that_are_mostly_zero_10 = find_mostly_zero_values(models[1], threshold=0.1)"
      ],
      "metadata": {
        "id": "-wJiCqojxbqx"
      },
      "id": "-wJiCqojxbqx",
      "execution_count": null,
      "outputs": []
    },
    {
      "cell_type": "code",
      "source": [
        "\n",
        "model_with_mostly_zero_values_knocked_out_10 = knock_out_ith_key(models[1], all_values_that_are_mostly_zero_10)\n",
        "print(f\"{model_with_mostly_zero_values_knocked_out_10.fc2.weight.shape}\")"
      ],
      "metadata": {
        "colab": {
          "base_uri": "https://localhost:8080/"
        },
        "id": "aEmaMlEjxdQZ",
        "outputId": "6ea74508-4232-4989-f47c-1b2292b5e802"
      },
      "id": "aEmaMlEjxdQZ",
      "execution_count": null,
      "outputs": [
        {
          "output_type": "stream",
          "name": "stdout",
          "text": [
            "torch.Size([10, 38952])\n"
          ]
        }
      ]
    },
    {
      "cell_type": "code",
      "source": [
        "accuracy_by_digit(model_with_mostly_zero_values_knocked_out_10.to(DEVICE), test_loader)"
      ],
      "metadata": {
        "colab": {
          "base_uri": "https://localhost:8080/"
        },
        "id": "rdpnsuvxxg-Z",
        "outputId": "787d8c4e-4de6-419b-af8d-dbd178940312"
      },
      "id": "rdpnsuvxxg-Z",
      "execution_count": null,
      "outputs": [
        {
          "output_type": "execute_result",
          "data": {
            "text/plain": [
              "[0.9836734693877551,\n",
              " 0.9876651982378855,\n",
              " 0.9486434108527132,\n",
              " 0.9376237623762376,\n",
              " 0.9694501018329938,\n",
              " 0.9663677130044843,\n",
              " 0.9613778705636743,\n",
              " 0.9698443579766537,\n",
              " 0.9527720739219713,\n",
              " 0.9494549058473737]"
            ]
          },
          "metadata": {},
          "execution_count": 35
        }
      ]
    },
    {
      "cell_type": "code",
      "source": [
        "#0.15\n",
        "all_values_that_are_mostly_zero = find_mostly_zero_values(models[1], threshold=0.15)"
      ],
      "metadata": {
        "id": "LpNQMNMAxsrz"
      },
      "id": "LpNQMNMAxsrz",
      "execution_count": null,
      "outputs": []
    },
    {
      "cell_type": "code",
      "source": [
        "\n",
        "model_with_mostly_zero_values_knocked_out_15 = knock_out_ith_key(models[1], all_values_that_are_mostly_zero)\n",
        "print(f\"{model_with_mostly_zero_values_knocked_out_15.fc2.weight.shape}\")"
      ],
      "metadata": {
        "colab": {
          "base_uri": "https://localhost:8080/"
        },
        "id": "oRa28bA5x-XU",
        "outputId": "a99f5f1f-dca5-4b92-8095-d60d52122ad8"
      },
      "id": "oRa28bA5x-XU",
      "execution_count": null,
      "outputs": [
        {
          "output_type": "stream",
          "name": "stdout",
          "text": [
            "torch.Size([10, 28294])\n"
          ]
        }
      ]
    },
    {
      "cell_type": "code",
      "source": [
        "accuracy_by_digit(model_with_mostly_zero_values_knocked_out_15.to(DEVICE), test_loader)"
      ],
      "metadata": {
        "colab": {
          "base_uri": "https://localhost:8080/"
        },
        "id": "-8M2zohayDVU",
        "outputId": "212a0dd5-79fd-47b4-8a86-06b67a9ce872"
      },
      "id": "-8M2zohayDVU",
      "execution_count": null,
      "outputs": [
        {
          "output_type": "execute_result",
          "data": {
            "text/plain": [
              "[0.9826530612244898,\n",
              " 0.9876651982378855,\n",
              " 0.9486434108527132,\n",
              " 0.9396039603960396,\n",
              " 0.9745417515274949,\n",
              " 0.9697309417040358,\n",
              " 0.9613778705636743,\n",
              " 0.9688715953307393,\n",
              " 0.9496919917864476,\n",
              " 0.9494549058473737]"
            ]
          },
          "metadata": {},
          "execution_count": 38
        }
      ]
    },
    {
      "cell_type": "code",
      "source": [
        "#0.20\n",
        "all_values_that_are_mostly_zero_20 = find_mostly_zero_values(models[1], threshold=0.2)"
      ],
      "metadata": {
        "id": "MrMBI4MayOl2"
      },
      "id": "MrMBI4MayOl2",
      "execution_count": 19,
      "outputs": []
    },
    {
      "cell_type": "code",
      "source": [
        "model_with_mostly_zero_values_knocked_out_20 = knock_out_ith_key(models[1], all_values_that_are_mostly_zero_20)\n",
        "print(f\"{model_with_mostly_zero_values_knocked_out_20.fc2.weight.shape}\")"
      ],
      "metadata": {
        "colab": {
          "base_uri": "https://localhost:8080/"
        },
        "id": "JD1U-_YGyTzA",
        "outputId": "cf002a49-8018-44f1-c2b1-0a3ef5eb0f05"
      },
      "id": "JD1U-_YGyTzA",
      "execution_count": 20,
      "outputs": [
        {
          "output_type": "stream",
          "name": "stdout",
          "text": [
            "torch.Size([10, 17434])\n"
          ]
        }
      ]
    },
    {
      "cell_type": "code",
      "source": [
        "accuracy_by_digit(model_with_mostly_zero_values_knocked_out_20.to(DEVICE), test_loader)"
      ],
      "metadata": {
        "colab": {
          "base_uri": "https://localhost:8080/"
        },
        "id": "srsjlyFokeI9",
        "outputId": "bea320b1-9c0e-4e0d-be58-1bd5e78ebfa6"
      },
      "id": "srsjlyFokeI9",
      "execution_count": 21,
      "outputs": [
        {
          "output_type": "execute_result",
          "data": {
            "text/plain": [
              "[0.976530612244898,\n",
              " 0.9885462555066079,\n",
              " 0.9534883720930233,\n",
              " 0.9504950495049505,\n",
              " 0.9796334012219959,\n",
              " 0.9742152466367713,\n",
              " 0.9592901878914405,\n",
              " 0.9737354085603113,\n",
              " 0.944558521560575,\n",
              " 0.9425173439048563]"
            ]
          },
          "metadata": {},
          "execution_count": 21
        }
      ]
    },
    {
      "cell_type": "code",
      "source": [
        "\n",
        "#finds the key-value pairs where the values for each digit are mostly similar to each other\n",
        "def find_mostly_similar_values(model, epsilon=0.05):\n",
        "    possible_idx = []\n",
        "\n",
        "    for idx in range(model.fc2.weight.shape[1]):\n",
        "      if (torch.max(model.fc2.weight[:, idx]) - torch.min(model.fc2.weight[:, idx]) < epsilon):\n",
        "        possible_idx.append(idx)\n",
        "\n",
        "    return torch.tensor(possible_idx)"
      ],
      "metadata": {
        "id": "fljKzwXJbzr4"
      },
      "id": "fljKzwXJbzr4",
      "execution_count": 30,
      "outputs": []
    },
    {
      "cell_type": "code",
      "source": [
        "values_with_same = find_mostly_similar_values(models[1], epsilon=0.05)"
      ],
      "metadata": {
        "id": "bCsrTdilb0dc"
      },
      "id": "bCsrTdilb0dc",
      "execution_count": 23,
      "outputs": []
    },
    {
      "cell_type": "code",
      "source": [
        "model_with_similar_values_knocked = knock_out_ith_key(models[1], values_with_same)\n",
        "print(f\"{model_with_similar_values_knocked.fc2.weight.shape}\")"
      ],
      "metadata": {
        "colab": {
          "base_uri": "https://localhost:8080/"
        },
        "id": "XaHSA--mf6O1",
        "outputId": "5c002c61-877d-4485-f7f8-293c0947c7c5"
      },
      "id": "XaHSA--mf6O1",
      "execution_count": 24,
      "outputs": [
        {
          "output_type": "stream",
          "name": "stdout",
          "text": [
            "torch.Size([10, 61575])\n"
          ]
        }
      ]
    },
    {
      "cell_type": "code",
      "source": [
        "accuracy_by_digit(model_with_similar_values_knocked.to(DEVICE), test_loader)"
      ],
      "metadata": {
        "colab": {
          "base_uri": "https://localhost:8080/"
        },
        "id": "acXa2g5ggCk1",
        "outputId": "8bac16bc-e11a-4bae-fa0a-bbd583883cc9"
      },
      "id": "acXa2g5ggCk1",
      "execution_count": 25,
      "outputs": [
        {
          "output_type": "execute_result",
          "data": {
            "text/plain": [
              "[0.9826530612244898,\n",
              " 0.9876651982378855,\n",
              " 0.9486434108527132,\n",
              " 0.9356435643564357,\n",
              " 0.9684317718940937,\n",
              " 0.9663677130044843,\n",
              " 0.9603340292275574,\n",
              " 0.9698443579766537,\n",
              " 0.9527720739219713,\n",
              " 0.9494549058473737]"
            ]
          },
          "metadata": {},
          "execution_count": 25
        }
      ]
    },
    {
      "cell_type": "code",
      "source": [
        "values_with_same = find_mostly_similar_values(models[1], epsilon=0.1)"
      ],
      "metadata": {
        "id": "kl4tEN2SgVPo"
      },
      "id": "kl4tEN2SgVPo",
      "execution_count": 26,
      "outputs": []
    },
    {
      "cell_type": "code",
      "source": [
        "model_with_similar_values_knocked = knock_out_ith_key(models[1], values_with_same)\n",
        "print(f\"{model_with_similar_values_knocked.fc2.weight.shape}\")"
      ],
      "metadata": {
        "colab": {
          "base_uri": "https://localhost:8080/"
        },
        "id": "t-zySz_mgVmv",
        "outputId": "c517211b-0b33-4ffd-dd35-aa3b8241ebec"
      },
      "id": "t-zySz_mgVmv",
      "execution_count": 27,
      "outputs": [
        {
          "output_type": "stream",
          "name": "stdout",
          "text": [
            "torch.Size([10, 48275])\n"
          ]
        }
      ]
    },
    {
      "cell_type": "code",
      "source": [
        "accuracy_by_digit(model_with_similar_values_knocked.to(DEVICE), test_loader)"
      ],
      "metadata": {
        "colab": {
          "base_uri": "https://localhost:8080/"
        },
        "id": "GtG3go91gWaB",
        "outputId": "1d1a4be1-8919-4372-a7fa-95ff66e26d78"
      },
      "id": "GtG3go91gWaB",
      "execution_count": 28,
      "outputs": [
        {
          "output_type": "execute_result",
          "data": {
            "text/plain": [
              "[0.9826530612244898,\n",
              " 0.9876651982378855,\n",
              " 0.9486434108527132,\n",
              " 0.9356435643564357,\n",
              " 0.9684317718940937,\n",
              " 0.9663677130044843,\n",
              " 0.9603340292275574,\n",
              " 0.9698443579766537,\n",
              " 0.9527720739219713,\n",
              " 0.9494549058473737]"
            ]
          },
          "metadata": {},
          "execution_count": 28
        }
      ]
    },
    {
      "cell_type": "code",
      "source": [
        "values_with_same = find_mostly_similar_values(models[1], epsilon=0.15)"
      ],
      "metadata": {
        "id": "Gm7wzGgIKf7A"
      },
      "id": "Gm7wzGgIKf7A",
      "execution_count": 29,
      "outputs": []
    },
    {
      "cell_type": "code",
      "source": [
        "model_with_similar_values_knocked = knock_out_ith_key(models[1], values_with_same)\n",
        "print(f\"{model_with_similar_values_knocked.fc2.weight.shape}\")"
      ],
      "metadata": {
        "colab": {
          "base_uri": "https://localhost:8080/"
        },
        "id": "lVP5O_SaKg_p",
        "outputId": "13276263-7ade-4727-f2a1-23bf3f5a364a"
      },
      "id": "lVP5O_SaKg_p",
      "execution_count": 30,
      "outputs": [
        {
          "output_type": "stream",
          "name": "stdout",
          "text": [
            "torch.Size([10, 41468])\n"
          ]
        }
      ]
    },
    {
      "cell_type": "code",
      "source": [
        "accuracy_by_digit(model_with_similar_values_knocked.to(DEVICE), test_loader)"
      ],
      "metadata": {
        "colab": {
          "base_uri": "https://localhost:8080/"
        },
        "id": "dImStpO0Kh-u",
        "outputId": "4579bed1-52c9-4468-c533-1b985bf49025"
      },
      "id": "dImStpO0Kh-u",
      "execution_count": 31,
      "outputs": [
        {
          "output_type": "execute_result",
          "data": {
            "text/plain": [
              "[0.9826530612244898,\n",
              " 0.9876651982378855,\n",
              " 0.9486434108527132,\n",
              " 0.9366336633663367,\n",
              " 0.9694501018329938,\n",
              " 0.9663677130044843,\n",
              " 0.9603340292275574,\n",
              " 0.9698443579766537,\n",
              " 0.9527720739219713,\n",
              " 0.9494549058473737]"
            ]
          },
          "metadata": {},
          "execution_count": 31
        }
      ]
    },
    {
      "cell_type": "code",
      "source": [
        "values_with_same_20 = find_mostly_similar_values(models[1], epsilon=0.2)"
      ],
      "metadata": {
        "id": "BOg0viIig6pr"
      },
      "id": "BOg0viIig6pr",
      "execution_count": null,
      "outputs": []
    },
    {
      "cell_type": "code",
      "source": [
        "model_with_similar_values_knocked_20 = knock_out_ith_key(models[1], values_with_same_20)\n",
        "print(f\"{model_with_similar_values_knocked_20.fc2.weight.shape}\")"
      ],
      "metadata": {
        "colab": {
          "base_uri": "https://localhost:8080/"
        },
        "id": "wrTStVQTg7DD",
        "outputId": "7ab9ccdc-1f1f-4449-b8b1-2d0835de9a2b"
      },
      "id": "wrTStVQTg7DD",
      "execution_count": null,
      "outputs": [
        {
          "output_type": "stream",
          "name": "stdout",
          "text": [
            "torch.Size([10, 35414])\n"
          ]
        }
      ]
    },
    {
      "cell_type": "code",
      "source": [
        "accuracy_by_digit(model_with_similar_values_knocked_20.to(DEVICE), test_loader)"
      ],
      "metadata": {
        "colab": {
          "base_uri": "https://localhost:8080/"
        },
        "id": "bcP0uFWfg8Uk",
        "outputId": "276911f1-fb68-4793-d6b0-6fd2752fa5fe"
      },
      "id": "bcP0uFWfg8Uk",
      "execution_count": null,
      "outputs": [
        {
          "output_type": "execute_result",
          "data": {
            "text/plain": [
              "[0.9836734693877551,\n",
              " 0.9876651982378855,\n",
              " 0.9486434108527132,\n",
              " 0.9376237623762376,\n",
              " 0.9704684317718941,\n",
              " 0.968609865470852,\n",
              " 0.9613778705636743,\n",
              " 0.9688715953307393,\n",
              " 0.9527720739219713,\n",
              " 0.9494549058473737]"
            ]
          },
          "metadata": {},
          "execution_count": 31
        }
      ]
    },
    {
      "cell_type": "code",
      "source": [
        "values_with_same_50 = find_mostly_similar_values(models[1], epsilon=0.5)"
      ],
      "metadata": {
        "id": "WoVhpd3HhgOQ"
      },
      "id": "WoVhpd3HhgOQ",
      "execution_count": null,
      "outputs": []
    },
    {
      "cell_type": "code",
      "source": [
        "model_with_similar_values_knocked_50 = knock_out_ith_key(models[1], values_with_same_50)\n",
        "print(f\"{model_with_similar_values_knocked_50.fc2.weight.shape}\")"
      ],
      "metadata": {
        "colab": {
          "base_uri": "https://localhost:8080/"
        },
        "id": "u1SE7jIEhiFg",
        "outputId": "16e020c0-9009-4b26-f8c3-ad1c9d758f95"
      },
      "id": "u1SE7jIEhiFg",
      "execution_count": null,
      "outputs": [
        {
          "output_type": "stream",
          "name": "stdout",
          "text": [
            "torch.Size([10, 4586])\n"
          ]
        }
      ]
    },
    {
      "cell_type": "code",
      "source": [
        "accuracy_by_digit(model_with_similar_values_knocked_50.to(DEVICE), test_loader)"
      ],
      "metadata": {
        "colab": {
          "base_uri": "https://localhost:8080/"
        },
        "id": "fROuN9VOhit5",
        "outputId": "ceab71a9-f810-4e2c-d8e8-cad5bd7ee54d"
      },
      "id": "fROuN9VOhit5",
      "execution_count": null,
      "outputs": [
        {
          "output_type": "execute_result",
          "data": {
            "text/plain": [
              "[0.7642857142857142,\n",
              " 0.9436123348017621,\n",
              " 0.9108527131782945,\n",
              " 0.9841584158415841,\n",
              " 0.9877800407331976,\n",
              " 0.9585201793721974,\n",
              " 0.8768267223382046,\n",
              " 0.9406614785992218,\n",
              " 0.8613963039014374,\n",
              " 0.8235877106045589]"
            ]
          },
          "metadata": {},
          "execution_count": 34
        }
      ]
    },
    {
      "cell_type": "code",
      "source": [
        "all_values_that_are_mostly_zero_10 = find_mostly_zero_values(models[1], threshold=0.1)"
      ],
      "metadata": {
        "id": "_29B0DO1kFFT"
      },
      "id": "_29B0DO1kFFT",
      "execution_count": 32,
      "outputs": []
    },
    {
      "cell_type": "code",
      "source": [
        "\n",
        "model_with_mostly_zero_values_knocked_out_10 = knock_out_ith_key(models[1], all_values_that_are_mostly_zero_10)\n",
        "print(f\"{model_with_mostly_zero_values_knocked_out_10.fc2.weight.shape}\")"
      ],
      "metadata": {
        "colab": {
          "base_uri": "https://localhost:8080/"
        },
        "id": "3Ud5RjvrkXB8",
        "outputId": "2de63af3-80b6-4d02-86c7-dab70a76bdb2"
      },
      "id": "3Ud5RjvrkXB8",
      "execution_count": 33,
      "outputs": [
        {
          "output_type": "stream",
          "name": "stdout",
          "text": [
            "torch.Size([10, 38952])\n"
          ]
        }
      ]
    },
    {
      "cell_type": "code",
      "source": [
        "both_values_close_to_zero_and_similar = find_mostly_similar_values(model_with_mostly_zero_values_knocked_out_10, epsilon=0.1)"
      ],
      "metadata": {
        "id": "uhYUnPZKkSBV"
      },
      "id": "uhYUnPZKkSBV",
      "execution_count": 34,
      "outputs": []
    },
    {
      "cell_type": "code",
      "source": [
        "both_values_close_to_zero_and_similar_10 = knock_out_ith_key(model_with_mostly_zero_values_knocked_out_10, both_values_close_to_zero_and_similar)\n",
        "print(f\"{both_values_close_to_zero_and_similar_10.fc2.weight.shape}\")"
      ],
      "metadata": {
        "colab": {
          "base_uri": "https://localhost:8080/"
        },
        "id": "MGBMiDv6ke71",
        "outputId": "2528abad-44df-4434-b08a-666eec5bc1a9"
      },
      "id": "MGBMiDv6ke71",
      "execution_count": 35,
      "outputs": [
        {
          "output_type": "stream",
          "name": "stdout",
          "text": [
            "torch.Size([10, 38952])\n"
          ]
        }
      ]
    },
    {
      "cell_type": "code",
      "source": [
        "both_values_close_to_zero_and_similar_15 = find_mostly_similar_values(model_with_mostly_zero_values_knocked_out_10, epsilon=0.15)"
      ],
      "metadata": {
        "id": "WKsFIhlSC5vw"
      },
      "id": "WKsFIhlSC5vw",
      "execution_count": 37,
      "outputs": []
    },
    {
      "cell_type": "code",
      "source": [
        "both_values_close_to_zero_and_similar_15 = knock_out_ith_key(model_with_mostly_zero_values_knocked_out_10, both_values_close_to_zero_and_similar_15)\n",
        "print(f\"{both_values_close_to_zero_and_similar_15.fc2.weight.shape}\")"
      ],
      "metadata": {
        "colab": {
          "base_uri": "https://localhost:8080/"
        },
        "id": "oyHSkLqhC6Lg",
        "outputId": "fe871a19-0aac-4d1b-8c47-1fe3ecd90219"
      },
      "id": "oyHSkLqhC6Lg",
      "execution_count": 38,
      "outputs": [
        {
          "output_type": "stream",
          "name": "stdout",
          "text": [
            "torch.Size([10, 38812])\n"
          ]
        }
      ]
    },
    {
      "cell_type": "code",
      "source": [
        "accuracy_by_digit(both_values_close_to_zero_and_similar_10.to(DEVICE), test_loader)"
      ],
      "metadata": {
        "colab": {
          "base_uri": "https://localhost:8080/"
        },
        "id": "jbRrPiXLko9t",
        "outputId": "15341742-5d62-4a00-d166-fb9dfab88694"
      },
      "id": "jbRrPiXLko9t",
      "execution_count": 39,
      "outputs": [
        {
          "output_type": "execute_result",
          "data": {
            "text/plain": [
              "[0.9836734693877551,\n",
              " 0.9876651982378855,\n",
              " 0.9486434108527132,\n",
              " 0.9376237623762376,\n",
              " 0.9694501018329938,\n",
              " 0.9663677130044843,\n",
              " 0.9613778705636743,\n",
              " 0.9698443579766537,\n",
              " 0.9527720739219713,\n",
              " 0.9494549058473737]"
            ]
          },
          "metadata": {},
          "execution_count": 39
        }
      ]
    },
    {
      "cell_type": "code",
      "source": [
        "accuracy_by_digit(both_values_close_to_zero_and_similar_15.to(DEVICE), test_loader)"
      ],
      "metadata": {
        "colab": {
          "base_uri": "https://localhost:8080/"
        },
        "id": "BDQqj119K655",
        "outputId": "c4c025f6-42e8-450f-c38f-9e416008f2a1"
      },
      "id": "BDQqj119K655",
      "execution_count": 40,
      "outputs": [
        {
          "output_type": "execute_result",
          "data": {
            "text/plain": [
              "[0.9836734693877551,\n",
              " 0.9876651982378855,\n",
              " 0.9486434108527132,\n",
              " 0.9376237623762376,\n",
              " 0.9694501018329938,\n",
              " 0.9652466367713004,\n",
              " 0.9613778705636743,\n",
              " 0.9698443579766537,\n",
              " 0.9527720739219713,\n",
              " 0.9494549058473737]"
            ]
          },
          "metadata": {},
          "execution_count": 40
        }
      ]
    },
    {
      "cell_type": "code",
      "source": [
        "for i in np.arange(0.05, 0.3, 0.05):\n",
        "  for j in np.arange(0.05, 0.3, 0.05):\n",
        "    values_that_are_mostly_zero_iter = find_mostly_zero_values(models[1], threshold=i)\n",
        "    model_with_mostly_zero_values_knocked_out_iter = knock_out_ith_key(models[1], values_that_are_mostly_zero_iter)\n",
        "    print(f\"Mostly 0 threshold: {i}; Mostly similar threshold {j}; Shape = {model_with_mostly_zero_values_knocked_out_iter.fc2.weight.shape}\")\n",
        "\n",
        "    both_values_close_to_zero_and_similar = find_mostly_similar_values(model_with_mostly_zero_values_knocked_out_iter, epsilon=j)\n",
        "    both_knocked = knock_out_ith_key(model_with_mostly_zero_values_knocked_out_iter, both_values_close_to_zero_and_similar)\n",
        "    print(f\"Mostly 0 threshold: {i}, Mostly similar threshold {j}, Shape = {both_knocked.fc2.weight.shape}\")\n",
        "    print(accuracy_by_digit(both_knocked.to(DEVICE), test_loader))\n",
        "    print(\"\\n\")\n",
        "\n",
        "\n",
        "\n"
      ],
      "metadata": {
        "colab": {
          "base_uri": "https://localhost:8080/"
        },
        "id": "nHnwatE0Lonm",
        "outputId": "97f5495a-e3df-46fc-dd30-d235967c9955"
      },
      "id": "nHnwatE0Lonm",
      "execution_count": 34,
      "outputs": [
        {
          "output_type": "stream",
          "name": "stdout",
          "text": [
            "Mostly 0 threshold: 0.05; Mostly similar threshold 0.05; Shape = torch.Size([10, 50879])\n",
            "Mostly 0 threshold: 0.05, Mostly similar threshold 0.05, Shape = torch.Size([10, 50879])\n",
            "[0.9826530612244898, 0.9876651982378855, 0.9486434108527132, 0.9356435643564357, 0.9684317718940937, 0.9663677130044843, 0.9603340292275574, 0.9698443579766537, 0.9527720739219713, 0.9494549058473737]\n",
            "\n",
            "\n",
            "Mostly 0 threshold: 0.05; Mostly similar threshold 0.1; Shape = torch.Size([10, 50879])\n",
            "Mostly 0 threshold: 0.05, Mostly similar threshold 0.1, Shape = torch.Size([10, 48275])\n",
            "[0.9826530612244898, 0.9876651982378855, 0.9486434108527132, 0.9356435643564357, 0.9684317718940937, 0.9663677130044843, 0.9603340292275574, 0.9698443579766537, 0.9527720739219713, 0.9494549058473737]\n",
            "\n",
            "\n",
            "Mostly 0 threshold: 0.05; Mostly similar threshold 0.15000000000000002; Shape = torch.Size([10, 50879])\n",
            "Mostly 0 threshold: 0.05, Mostly similar threshold 0.15000000000000002, Shape = torch.Size([10, 41468])\n",
            "[0.9826530612244898, 0.9876651982378855, 0.9486434108527132, 0.9366336633663367, 0.9694501018329938, 0.9663677130044843, 0.9603340292275574, 0.9698443579766537, 0.9527720739219713, 0.9494549058473737]\n",
            "\n",
            "\n",
            "Mostly 0 threshold: 0.05; Mostly similar threshold 0.2; Shape = torch.Size([10, 50879])\n",
            "Mostly 0 threshold: 0.05, Mostly similar threshold 0.2, Shape = torch.Size([10, 35414])\n",
            "[0.9836734693877551, 0.9876651982378855, 0.9486434108527132, 0.9376237623762376, 0.9704684317718941, 0.968609865470852, 0.9613778705636743, 0.9688715953307393, 0.9527720739219713, 0.9494549058473737]\n",
            "\n",
            "\n",
            "Mostly 0 threshold: 0.05; Mostly similar threshold 0.25; Shape = torch.Size([10, 50879])\n",
            "Mostly 0 threshold: 0.05, Mostly similar threshold 0.25, Shape = torch.Size([10, 29094])\n",
            "[0.9826530612244898, 0.9876651982378855, 0.9486434108527132, 0.9396039603960396, 0.9735234215885947, 0.9697309417040358, 0.9603340292275574, 0.9688715953307393, 0.9496919917864476, 0.9504459861248761]\n",
            "\n",
            "\n",
            "Mostly 0 threshold: 0.1; Mostly similar threshold 0.05; Shape = torch.Size([10, 38952])\n",
            "Mostly 0 threshold: 0.1, Mostly similar threshold 0.05, Shape = torch.Size([10, 38952])\n",
            "[0.9836734693877551, 0.9876651982378855, 0.9486434108527132, 0.9376237623762376, 0.9694501018329938, 0.9663677130044843, 0.9613778705636743, 0.9698443579766537, 0.9527720739219713, 0.9494549058473737]\n",
            "\n",
            "\n",
            "Mostly 0 threshold: 0.1; Mostly similar threshold 0.1; Shape = torch.Size([10, 38952])\n",
            "Mostly 0 threshold: 0.1, Mostly similar threshold 0.1, Shape = torch.Size([10, 38952])\n",
            "[0.9836734693877551, 0.9876651982378855, 0.9486434108527132, 0.9376237623762376, 0.9694501018329938, 0.9663677130044843, 0.9613778705636743, 0.9698443579766537, 0.9527720739219713, 0.9494549058473737]\n",
            "\n",
            "\n",
            "Mostly 0 threshold: 0.1; Mostly similar threshold 0.15000000000000002; Shape = torch.Size([10, 38952])\n",
            "Mostly 0 threshold: 0.1, Mostly similar threshold 0.15000000000000002, Shape = torch.Size([10, 38812])\n",
            "[0.9836734693877551, 0.9876651982378855, 0.9486434108527132, 0.9376237623762376, 0.9694501018329938, 0.9652466367713004, 0.9613778705636743, 0.9698443579766537, 0.9527720739219713, 0.9494549058473737]\n",
            "\n",
            "\n",
            "Mostly 0 threshold: 0.1; Mostly similar threshold 0.2; Shape = torch.Size([10, 38952])\n",
            "Mostly 0 threshold: 0.1, Mostly similar threshold 0.2, Shape = torch.Size([10, 35414])\n",
            "[0.9836734693877551, 0.9876651982378855, 0.9486434108527132, 0.9376237623762376, 0.9704684317718941, 0.968609865470852, 0.9613778705636743, 0.9688715953307393, 0.9527720739219713, 0.9494549058473737]\n",
            "\n",
            "\n",
            "Mostly 0 threshold: 0.1; Mostly similar threshold 0.25; Shape = torch.Size([10, 38952])\n",
            "Mostly 0 threshold: 0.1, Mostly similar threshold 0.25, Shape = torch.Size([10, 29094])\n",
            "[0.9826530612244898, 0.9876651982378855, 0.9486434108527132, 0.9396039603960396, 0.9735234215885947, 0.9697309417040358, 0.9603340292275574, 0.9688715953307393, 0.9496919917864476, 0.9504459861248761]\n",
            "\n",
            "\n",
            "Mostly 0 threshold: 0.15000000000000002; Mostly similar threshold 0.05; Shape = torch.Size([10, 28294])\n",
            "Mostly 0 threshold: 0.15000000000000002, Mostly similar threshold 0.05, Shape = torch.Size([10, 28294])\n",
            "[0.9826530612244898, 0.9876651982378855, 0.9486434108527132, 0.9396039603960396, 0.9745417515274949, 0.9697309417040358, 0.9613778705636743, 0.9688715953307393, 0.9496919917864476, 0.9494549058473737]\n",
            "\n",
            "\n",
            "Mostly 0 threshold: 0.15000000000000002; Mostly similar threshold 0.1; Shape = torch.Size([10, 28294])\n",
            "Mostly 0 threshold: 0.15000000000000002, Mostly similar threshold 0.1, Shape = torch.Size([10, 28294])\n",
            "[0.9826530612244898, 0.9876651982378855, 0.9486434108527132, 0.9396039603960396, 0.9745417515274949, 0.9697309417040358, 0.9613778705636743, 0.9688715953307393, 0.9496919917864476, 0.9494549058473737]\n",
            "\n",
            "\n",
            "Mostly 0 threshold: 0.15000000000000002; Mostly similar threshold 0.15000000000000002; Shape = torch.Size([10, 28294])\n",
            "Mostly 0 threshold: 0.15000000000000002, Mostly similar threshold 0.15000000000000002, Shape = torch.Size([10, 28294])\n",
            "[0.9826530612244898, 0.9876651982378855, 0.9486434108527132, 0.9396039603960396, 0.9745417515274949, 0.9697309417040358, 0.9613778705636743, 0.9688715953307393, 0.9496919917864476, 0.9494549058473737]\n",
            "\n",
            "\n",
            "Mostly 0 threshold: 0.15000000000000002; Mostly similar threshold 0.2; Shape = torch.Size([10, 28294])\n",
            "Mostly 0 threshold: 0.15000000000000002, Mostly similar threshold 0.2, Shape = torch.Size([10, 28272])\n",
            "[0.9826530612244898, 0.9876651982378855, 0.9486434108527132, 0.9396039603960396, 0.9745417515274949, 0.9697309417040358, 0.9613778705636743, 0.9688715953307393, 0.9496919917864476, 0.9494549058473737]\n",
            "\n",
            "\n",
            "Mostly 0 threshold: 0.15000000000000002; Mostly similar threshold 0.25; Shape = torch.Size([10, 28294])\n",
            "Mostly 0 threshold: 0.15000000000000002, Mostly similar threshold 0.25, Shape = torch.Size([10, 27150])\n",
            "[0.9826530612244898, 0.9876651982378855, 0.9486434108527132, 0.9396039603960396, 0.9745417515274949, 0.9708520179372198, 0.9603340292275574, 0.9688715953307393, 0.9496919917864476, 0.9504459861248761]\n",
            "\n",
            "\n",
            "Mostly 0 threshold: 0.2; Mostly similar threshold 0.05; Shape = torch.Size([10, 17434])\n",
            "Mostly 0 threshold: 0.2, Mostly similar threshold 0.05, Shape = torch.Size([10, 17434])\n",
            "[0.976530612244898, 0.9885462555066079, 0.9534883720930233, 0.9504950495049505, 0.9796334012219959, 0.9742152466367713, 0.9592901878914405, 0.9737354085603113, 0.944558521560575, 0.9425173439048563]\n",
            "\n",
            "\n",
            "Mostly 0 threshold: 0.2; Mostly similar threshold 0.1; Shape = torch.Size([10, 17434])\n",
            "Mostly 0 threshold: 0.2, Mostly similar threshold 0.1, Shape = torch.Size([10, 17434])\n",
            "[0.976530612244898, 0.9885462555066079, 0.9534883720930233, 0.9504950495049505, 0.9796334012219959, 0.9742152466367713, 0.9592901878914405, 0.9737354085603113, 0.944558521560575, 0.9425173439048563]\n",
            "\n",
            "\n",
            "Mostly 0 threshold: 0.2; Mostly similar threshold 0.15000000000000002; Shape = torch.Size([10, 17434])\n",
            "Mostly 0 threshold: 0.2, Mostly similar threshold 0.15000000000000002, Shape = torch.Size([10, 17434])\n",
            "[0.976530612244898, 0.9885462555066079, 0.9534883720930233, 0.9504950495049505, 0.9796334012219959, 0.9742152466367713, 0.9592901878914405, 0.9737354085603113, 0.944558521560575, 0.9425173439048563]\n",
            "\n",
            "\n",
            "Mostly 0 threshold: 0.2; Mostly similar threshold 0.2; Shape = torch.Size([10, 17434])\n",
            "Mostly 0 threshold: 0.2, Mostly similar threshold 0.2, Shape = torch.Size([10, 17434])\n",
            "[0.976530612244898, 0.9885462555066079, 0.9534883720930233, 0.9504950495049505, 0.9796334012219959, 0.9742152466367713, 0.9592901878914405, 0.9737354085603113, 0.944558521560575, 0.9425173439048563]\n",
            "\n",
            "\n",
            "Mostly 0 threshold: 0.2; Mostly similar threshold 0.25; Shape = torch.Size([10, 17434])\n",
            "Mostly 0 threshold: 0.2, Mostly similar threshold 0.25, Shape = torch.Size([10, 17431])\n",
            "[0.976530612244898, 0.9885462555066079, 0.9534883720930233, 0.9504950495049505, 0.9796334012219959, 0.9742152466367713, 0.9592901878914405, 0.9737354085603113, 0.944558521560575, 0.9425173439048563]\n",
            "\n",
            "\n",
            "Mostly 0 threshold: 0.25; Mostly similar threshold 0.05; Shape = torch.Size([10, 9021])\n",
            "Mostly 0 threshold: 0.25, Mostly similar threshold 0.05, Shape = torch.Size([10, 9021])\n",
            "[0.9153061224489796, 0.9814977973568282, 0.937015503875969, 0.9752475247524752, 0.9837067209775967, 0.9719730941704036, 0.9509394572025052, 0.9659533073929961, 0.9301848049281314, 0.908820614469772]\n",
            "\n",
            "\n",
            "Mostly 0 threshold: 0.25; Mostly similar threshold 0.1; Shape = torch.Size([10, 9021])\n",
            "Mostly 0 threshold: 0.25, Mostly similar threshold 0.1, Shape = torch.Size([10, 9021])\n",
            "[0.9153061224489796, 0.9814977973568282, 0.937015503875969, 0.9752475247524752, 0.9837067209775967, 0.9719730941704036, 0.9509394572025052, 0.9659533073929961, 0.9301848049281314, 0.908820614469772]\n",
            "\n",
            "\n",
            "Mostly 0 threshold: 0.25; Mostly similar threshold 0.15000000000000002; Shape = torch.Size([10, 9021])\n",
            "Mostly 0 threshold: 0.25, Mostly similar threshold 0.15000000000000002, Shape = torch.Size([10, 9021])\n",
            "[0.9153061224489796, 0.9814977973568282, 0.937015503875969, 0.9752475247524752, 0.9837067209775967, 0.9719730941704036, 0.9509394572025052, 0.9659533073929961, 0.9301848049281314, 0.908820614469772]\n",
            "\n",
            "\n",
            "Mostly 0 threshold: 0.25; Mostly similar threshold 0.2; Shape = torch.Size([10, 9021])\n",
            "Mostly 0 threshold: 0.25, Mostly similar threshold 0.2, Shape = torch.Size([10, 9021])\n",
            "[0.9153061224489796, 0.9814977973568282, 0.937015503875969, 0.9752475247524752, 0.9837067209775967, 0.9719730941704036, 0.9509394572025052, 0.9659533073929961, 0.9301848049281314, 0.908820614469772]\n",
            "\n",
            "\n",
            "Mostly 0 threshold: 0.25; Mostly similar threshold 0.25; Shape = torch.Size([10, 9021])\n",
            "Mostly 0 threshold: 0.25, Mostly similar threshold 0.25, Shape = torch.Size([10, 9021])\n",
            "[0.9153061224489796, 0.9814977973568282, 0.937015503875969, 0.9752475247524752, 0.9837067209775967, 0.9719730941704036, 0.9509394572025052, 0.9659533073929961, 0.9301848049281314, 0.908820614469772]\n",
            "\n",
            "\n"
          ]
        }
      ]
    }
  ],
  "metadata": {
    "jupytext": {
      "cell_metadata_filter": "-all",
      "main_language": "python",
      "notebook_metadata_filter": "-all"
    },
    "kernelspec": {
      "display_name": "Python 3",
      "name": "python3"
    },
    "language_info": {
      "name": "python",
      "version": "3.12.4"
    },
    "colab": {
      "provenance": [],
      "gpuType": "T4"
    },
    "accelerator": "GPU"
  },
  "nbformat": 4,
  "nbformat_minor": 5
}